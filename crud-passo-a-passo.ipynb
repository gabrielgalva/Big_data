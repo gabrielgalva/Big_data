{
 "cells": [
  {
   "cell_type": "markdown",
   "metadata": {},
   "source": [
    "# Passo a passo CRUD MongoDB\n",
    "\n",
    "Neste tutorial, vamos explorar como trabalhar com o MongoDB, um dos bancos de dados NoSQL mais populares e flexíveis do mercado. Utilizaremos o Docker para facilitar a configuração do ambiente e o Jupyter Notebook para ilustrar um passo a passo interativo de como realizar as operações básicas de **CRUD** (Create, Read, Update, Delete) no MongoDB.\n",
    "\n",
    "## Passo 1\n",
    "\n",
    "Vamos agora importar a biblioteca **pymongo** para conexão desse tutorial com o banco de dados."
   ]
  },
  {
   "cell_type": "code",
   "execution_count": 1,
   "metadata": {},
   "outputs": [],
   "source": [
    "import pymongo"
   ]
  },
  {
   "cell_type": "markdown",
   "metadata": {},
   "source": [
    "## Passo 2\n",
    "\n",
    "Neste passo, conectamos ao MongoDB rodando localmente e inserimos um documento na coleção `players`. O documento contém informações sobre um jogador de basquete, como nome, time e posição. Após a inserção, o código verifica se a operação foi bem-sucedida e imprime o ID do documento inserido."
   ]
  },
  {
   "cell_type": "code",
   "execution_count": 4,
   "metadata": {},
   "outputs": [
    {
     "name": "stdout",
     "output_type": "stream",
     "text": [
      "Jogador Kevin Durant inserido com sucesso, id 66f0283d8aaa9dc924be3066\n",
      "Jogador inserido id : 66f0283d8aaa9dc924be3066\n"
     ]
    }
   ],
   "source": [
    "try:\n",
    "    # Criando um cliente para o serviço do MongoDB rodando localmente na porta 27017\n",
    "    mongodb_client = pymongo.MongoClient('mongodb://localhost:27017/')\n",
    "    # Selecionanndo uma base de dados chamada 'players'\n",
    "    database = mongodb_client['players']\n",
    "    # Selecionando uma coleção chamada 'players'\n",
    "    collection = database['players']\n",
    "    # Criando um documento para ser inserido na coleção\n",
    "    player = {\n",
    "        'name': 'Kevin Durant',\n",
    "        'team': 'PHX',\n",
    "        'pos': 'SF',\n",
    "        'age': 35,\n",
    "        'height': 6.10\n",
    "    }\n",
    "    # Inserindo o documento na coleção\n",
    "    result = collection.insert_one(player)\n",
    "\n",
    "    # Verificando se o documento foi inserido com sucesso\n",
    "    if result.acknowledged:\n",
    "        print(f'Jogador {player[\"name\"]} inserido com sucesso, id {result.inserted_id}')\n",
    "    else:\n",
    "        print('Falha ao inserir jogador')\n",
    "\n",
    "    # Imprimindo o id do documento inserido\n",
    "    print(f'Jogador inserido id : {result.inserted_id}')\n",
    "except Exception as e:\n",
    "    print(f'Um erro ocorreu: {e}')"
   ]
  },
  {
   "cell_type": "markdown",
   "metadata": {},
   "source": [
    "\n",
    "## Passo 3\n",
    "\n",
    "Nesta etapa, criamos uma função chamada `inserir_jogador` para encapsular a lógica de inserção de um documento na coleção `players`. Ao chamar essa função, passamos um novo jogador como argumento e o documento é inserido no MongoDB. O código verifica o sucesso da operação e exibe o ID do documento inserido."
   ]
  },
  {
   "cell_type": "code",
   "execution_count": 5,
   "metadata": {},
   "outputs": [],
   "source": [
    "def inserir_jogador(player):\n",
    "    try:\n",
    "        result=collection.insert_one(player)\n",
    "        if result.acknowledged:\n",
    "            print(f'Jogador {player[\"name\"]} inserido com sucesso, id {result.inserted_id}')\n",
    "        else:\n",
    "            print('Falha ao inserir jogador')\n",
    "    except Exception as e:\n",
    "        print(f'Um erro ocorreu: {e}')"
   ]
  },
  {
   "cell_type": "code",
   "execution_count": 6,
   "metadata": {},
   "outputs": [],
   "source": [
    "other_player= {\n",
    "    'name': 'LeBron James',\n",
    "    'team': 'LAL',\n",
    "    'pos': 'SF',\n",
    "    'age': 39,\n",
    "    'height': 6.9\n",
    "}"
   ]
  },
  {
   "cell_type": "code",
   "execution_count": 7,
   "metadata": {},
   "outputs": [
    {
     "name": "stdout",
     "output_type": "stream",
     "text": [
      "Jogador LeBron James inserido com sucesso, id 66f029fd8aaa9dc924be3067\n"
     ]
    }
   ],
   "source": [
    "inserir_jogador(other_player)"
   ]
  },
  {
   "cell_type": "markdown",
   "metadata": {},
   "source": [
    "## Passo 4\n",
    "Neste passo, criamos uma função `buscar_jogadores` que busca todos os documentos na coleção `players` e os exibe. A função utiliza o método `find()` do MongoDB para retornar todos os jogadores armazenados no banco de dados e imprime cada um deles. Em caso de erro, uma mensagem de exceção é exibida.\n"
   ]
  },
  {
   "cell_type": "code",
   "execution_count": 21,
   "metadata": {},
   "outputs": [],
   "source": [
    "def buscar_jogadores():\n",
    "    try:\n",
    "        players = collection.find()\n",
    "        for player in players:\n",
    "            print(f\"ID: {player['_id']}\")\n",
    "            print(f\"Nome: {player['name']}\")\n",
    "            print(f\"Time: {player['team']}\")\n",
    "            print(f\"Posição: {player['pos']}\")\n",
    "            print(f\"Idade: {player['age']}\")\n",
    "            print(f\"Altura: {player['height']}\")\n",
    "            print(\"-\" * 30)  # Linha separadora para facilitar a leitura\n",
    "    except Exception as e:\n",
    "        print(f'Um erro ocorreu: {e}')"
   ]
  },
  {
   "cell_type": "code",
   "execution_count": 22,
   "metadata": {},
   "outputs": [
    {
     "name": "stdout",
     "output_type": "stream",
     "text": [
      "ID: 66f0283d8aaa9dc924be3066\n",
      "Nome: Kevin Durant\n",
      "Time: PHX\n",
      "Posição: SF\n",
      "Idade: 35\n",
      "Altura: 6.1\n",
      "------------------------------\n",
      "ID: 66f029fd8aaa9dc924be3067\n",
      "Nome: LeBron James\n",
      "Time: LAL\n",
      "Posição: SF\n",
      "Idade: 39\n",
      "Altura: 6.9\n",
      "------------------------------\n"
     ]
    }
   ],
   "source": [
    "buscar_jogadores()"
   ]
  },
  {
   "cell_type": "markdown",
   "metadata": {},
   "source": [
    "## Passo 5\n",
    "Neste passo, criamos a função `buscar_jogador`, que permite buscar um jogador pelo nome ou pelo `_id`. A função exibe as informações do jogador encontrado, como nome, time e posição. Em seguida, testamos a busca por nome e utilizamos o `_id` retornado para buscar o mesmo jogador diretamente pelo seu identificador no MongoDB.\n"
   ]
  },
  {
   "cell_type": "code",
   "execution_count": 45,
   "metadata": {},
   "outputs": [],
   "source": [
    "def buscar_jogador(name = None, _id=None) -> dict:\n",
    "    player = None\n",
    "    try:\n",
    "        if name:\n",
    "            player = collection.find_one({'name': name})\n",
    "        elif _id:\n",
    "            player = collection.find_one({'_id': _id})\n",
    "                \n",
    "        print(f\"ID: {player['_id']}\")\n",
    "        print(f\"Nome: {player['name']}\")\n",
    "        print(f\"Time: {player['team']}\")\n",
    "        print(f\"Posição: {player['pos']}\")\n",
    "        print(f\"Idade: {player['age']}\")\n",
    "        print(f\"Altura: {player['height']}\")\n",
    "        print(\"-\" * 30)  # Linha separadora para facilitar a leitura\n",
    "\n",
    "    except Exception as e:\n",
    "        print(f'Um erro ocorreu: {e}')\n",
    "\n",
    "    return player"
   ]
  },
  {
   "cell_type": "code",
   "execution_count": 46,
   "metadata": {},
   "outputs": [
    {
     "name": "stdout",
     "output_type": "stream",
     "text": [
      "ID: 66f0283d8aaa9dc924be3066\n",
      "Nome: Kevin Durant\n",
      "Time: PHX\n",
      "Posição: SF\n",
      "Idade: 35\n",
      "Altura: 6.1\n",
      "------------------------------\n",
      "ID: 66f0283d8aaa9dc924be3066\n",
      "Nome: Kevin Durant\n",
      "Time: PHX\n",
      "Posição: SF\n",
      "Idade: 35\n",
      "Altura: 6.1\n",
      "------------------------------\n"
     ]
    }
   ],
   "source": [
    "jogador_pelo_nome = buscar_jogador(name='Kevin Durant')\n",
    "\n",
    "jogador_pelo_id = buscar_jogador(_id = jogador_pelo_nome['_id'])"
   ]
  },
  {
   "cell_type": "markdown",
   "metadata": {},
   "source": [
    "## Passo 6\n",
    "\n",
    "Neste passo, criamos a função `atualizar_jogador`, que permite atualizar os dados de um jogador no banco de dados. A função utiliza o `_id` como critério de busca e aplica as modificações usando o operador `$set`. Testamos a função alterando a posição de \"LeBron James\" de `SF` para `PF` e confirmamos a atualização com uma nova busca.\n"
   ]
  },
  {
   "cell_type": "code",
   "execution_count": 49,
   "metadata": {},
   "outputs": [],
   "source": [
    "def atualizar_jogador(player):\n",
    "    try:\n",
    "        result = collection.update_one({'_id': player['_id']}, {'$set': player})\n",
    "        if result.modified_count:\n",
    "            print(f'Jogador {player[\"name\"]} atualizado com sucesso')\n",
    "        else:\n",
    "            print('Falha ao atualizar jogador')\n",
    "\n",
    "    except Exception as e:\n",
    "        print(f'Um erro ocorreu: {e}')"
   ]
  },
  {
   "cell_type": "code",
   "execution_count": 50,
   "metadata": {},
   "outputs": [
    {
     "name": "stdout",
     "output_type": "stream",
     "text": [
      "ID: 66f029fd8aaa9dc924be3067\n",
      "Nome: LeBron James\n",
      "Time: LAL\n",
      "Posição: SF\n",
      "Idade: 39\n",
      "Altura: 6.9\n",
      "------------------------------\n",
      "Jogador LeBron James atualizado com sucesso\n",
      "ID: 66f029fd8aaa9dc924be3067\n",
      "Nome: LeBron James\n",
      "Time: LAL\n",
      "Posição: PF\n",
      "Idade: 39\n",
      "Altura: 6.9\n",
      "------------------------------\n"
     ]
    },
    {
     "data": {
      "text/plain": [
       "{'_id': ObjectId('66f029fd8aaa9dc924be3067'),\n",
       " 'name': 'LeBron James',\n",
       " 'team': 'LAL',\n",
       " 'pos': 'PF',\n",
       " 'age': 39,\n",
       " 'height': 6.9}"
      ]
     },
     "execution_count": 50,
     "metadata": {},
     "output_type": "execute_result"
    }
   ],
   "source": [
    "jogador_para_atualizar = buscar_jogador(name='LeBron James')\n",
    "\n",
    "jogador_para_atualizar['pos']= 'PF'\n",
    "\n",
    "atualizar_jogador(jogador_para_atualizar)\n",
    "\n",
    "buscar_jogador(_id=jogador_para_atualizar['_id'])"
   ]
  },
  {
   "cell_type": "markdown",
   "metadata": {},
   "source": [
    "## Passo 7\n",
    "Neste passo, criamos a função `remover_jogadores`, que remove todos os documentos da coleção de jogadores usando o método `delete_many`. Após a execução, verificamos que todos os jogadores foram removidos com sucesso, exibindo uma mensagem de confirmação.\n"
   ]
  },
  {
   "cell_type": "code",
   "execution_count": 52,
   "metadata": {},
   "outputs": [],
   "source": [
    "def remover_jogadores():\n",
    "    try:\n",
    "        result = collection.delete_many({})\n",
    "        if  result.deleted_count:\n",
    "            print('Todos os jogadores foram removidos com sucesso')\n",
    "        else:\n",
    "            print('Falha ao remover estudantes')\n",
    "    except Exception as e:\n",
    "        print(f'Um erro ocorreu: {e}')"
   ]
  },
  {
   "cell_type": "code",
   "execution_count": 53,
   "metadata": {},
   "outputs": [
    {
     "name": "stdout",
     "output_type": "stream",
     "text": [
      "Todos os jogadores foram removidos com sucesso\n"
     ]
    }
   ],
   "source": [
    "remover_jogadores()\n",
    "\n",
    "buscar_jogadores()"
   ]
  },
  {
   "cell_type": "markdown",
   "metadata": {},
   "source": [
    "## Conclusão\n",
    "\n",
    "Neste tutorial, exploramos como realizar operações básicas de CRUD (Create, Read, Update, Delete) com o MongoDB usando Docker e Python no Jupyter Notebook. Aprendemos a inserir, buscar, atualizar e remover jogadores de uma coleção, utilizando o MongoDB como banco de dados NoSQL. Com essas operações, agora é possível gerenciar dados de forma eficiente em um ambiente MongoDB, aproveitando sua flexibilidade e escalabilidade para aplicações modernas.\n"
   ]
  }
 ],
 "metadata": {
  "kernelspec": {
   "display_name": "Python 3",
   "language": "python",
   "name": "python3"
  },
  "language_info": {
   "codemirror_mode": {
    "name": "ipython",
    "version": 3
   },
   "file_extension": ".py",
   "mimetype": "text/x-python",
   "name": "python",
   "nbconvert_exporter": "python",
   "pygments_lexer": "ipython3",
   "version": "3.11.4"
  }
 },
 "nbformat": 4,
 "nbformat_minor": 2
}
