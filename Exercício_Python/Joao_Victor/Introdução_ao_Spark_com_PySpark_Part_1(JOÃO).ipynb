{
  "nbformat": 4,
  "nbformat_minor": 0,
  "metadata": {
    "colab": {
      "provenance": []
    },
    "kernelspec": {
      "name": "python3",
      "display_name": "Python 3"
    },
    "language_info": {
      "name": "python"
    }
  },
  "cells": [
    {
      "cell_type": "markdown",
      "source": [
        "\n",
        "#Introdução ao Apache Spark\n",
        "\n",
        "Apache Spark é um framework de processamento de dados de código aberto projetado para ser rápido, fácil de usar e geral. Ele permite o processamento distribuído de grandes volumes de dados em clusters, suportando tarefas de processamento em lote e em tempo real. Spark é amplamente utilizado para análise de dados, aprendizado de máquina, processamento de streaming e muito mais.\n"
      ],
      "metadata": {
        "id": "k46CQak6-yWG"
      }
    },
    {
      "cell_type": "markdown",
      "source": [
        "#### História e Marcos do Apache Spark\n",
        "*  2009: Desenvolvido originalmente na UC Berkeley’s AMPLab.\n",
        "*  2010: Spark foi open-sourced.\n",
        "*  2014: Tornou-se um projeto de alto nível da Apache Software Foundation.\n",
        "*  2016: Spark 2.0 lançado, introduzindo DataFrames e Spark SQL.\n",
        "*  2020: Spark 3.0 lançado, trazendo melhorias significativas em desempenho e novas APIs.\n",
        "*  2024: Spark continua evoluindo, com foco em otimizações de desempenho e integração com tecnologias emergentes."
      ],
      "metadata": {
        "id": "MeFL6KxK_B7B"
      }
    },
    {
      "cell_type": "markdown",
      "source": [
        "#Fundamentos do Apache Spark\n",
        "#### RDDs (Resilient Distributed Datasets)\n",
        "\n",
        "RDDs são a abstração fundamental no Spark, representando uma coleção distribuída de elementos que podem ser processados em paralelo. Eles são imutáveis e tolerantes a falhas.\n",
        "\n",
        "##### Características:\n",
        "\n",
        "* Imutabilidade: Uma vez criado, um RDD não pode ser alterado.\n",
        "* Tolerância a falhas: Spark reconstrói automaticamente partes perdidas dos RDDs.\n",
        "* Transformações e Ações: Operações que transformam os dados ou coletam resultados.\n",
        "\n",
        "#### RDDs (Resilient Distributed Datasets)\n",
        "\n",
        "#### **DataFrames**\n",
        "\n",
        "DataFrames são uma abstração mais estruturada sobre RDDs, semelhantes a tabelas em bancos de dados relacionais. Eles permitem operações otimizadas e integração com Spark SQL.\n",
        "\n",
        "**Vantagens:**\n",
        "\n",
        "* Performance: Otimizações como o Catalyst Optimizer melhoram o desempenho.\n",
        "* Facilidade de Uso: APIs mais amigáveis para manipulação de dados estruturados.\n",
        "* Integração: Compatível com diversas fontes de dados e ferramentas de BI.\n",
        "\n",
        "\n",
        "** Datasets Utilizados **\n",
        "\n",
        "https://www.kaggle.com/datasets/prathamjyotsingh/apple-stocks\n",
        "\n"
      ],
      "metadata": {
        "id": "gXA3ECk3AIsw"
      }
    },
    {
      "cell_type": "code",
      "execution_count": 1,
      "metadata": {
        "colab": {
          "base_uri": "https://localhost:8080/"
        },
        "id": "fPIwCUX0-D8a",
        "outputId": "51af487c-7fce-455c-c913-95c9931c25ac"
      },
      "outputs": [
        {
          "output_type": "stream",
          "name": "stdout",
          "text": [
            "Requirement already satisfied: pyspark in /usr/local/lib/python3.10/dist-packages (3.5.3)\n",
            "Requirement already satisfied: py4j==0.10.9.7 in /usr/local/lib/python3.10/dist-packages (from pyspark) (0.10.9.7)\n"
          ]
        }
      ],
      "source": [
        "# Instalar PySpark via pip\n",
        "!pip install pyspark"
      ]
    },
    {
      "cell_type": "code",
      "source": [
        "import kagglehub\n",
        "\n",
        "# Download latest version\n",
        "path = kagglehub.dataset_download(\"prathamjyotsingh/apple-stocks\")\n",
        "\n",
        "print(\"Path to dataset files:\", path)"
      ],
      "metadata": {
        "colab": {
          "base_uri": "https://localhost:8080/"
        },
        "id": "BxhhcwsfscYT",
        "outputId": "03c1a826-de0b-4d01-9a8c-0b67cbb992f3"
      },
      "execution_count": 2,
      "outputs": [
        {
          "output_type": "stream",
          "name": "stdout",
          "text": [
            "Warning: Looks like you're using an outdated `kagglehub` version, please consider updating (latest version: 0.3.3)\n",
            "Path to dataset files: /root/.cache/kagglehub/datasets/prathamjyotsingh/apple-stocks/versions/1\n"
          ]
        }
      ]
    },
    {
      "cell_type": "code",
      "source": [
        "!ls -R /root/.cache/kagglehub/"
      ],
      "metadata": {
        "colab": {
          "base_uri": "https://localhost:8080/"
        },
        "id": "Bgl6YI9EFQXA",
        "outputId": "2ecad6ad-a5a6-427f-8a28-8a11b6e8c27c"
      },
      "execution_count": 3,
      "outputs": [
        {
          "output_type": "stream",
          "name": "stdout",
          "text": [
            "/root/.cache/kagglehub/:\n",
            "datasets\n",
            "\n",
            "/root/.cache/kagglehub/datasets:\n",
            "prathamjyotsingh\n",
            "\n",
            "/root/.cache/kagglehub/datasets/prathamjyotsingh:\n",
            "apple-stocks\n",
            "\n",
            "/root/.cache/kagglehub/datasets/prathamjyotsingh/apple-stocks:\n",
            "1.complete  versions\n",
            "\n",
            "/root/.cache/kagglehub/datasets/prathamjyotsingh/apple-stocks/versions:\n",
            "1\n",
            "\n",
            "/root/.cache/kagglehub/datasets/prathamjyotsingh/apple-stocks/versions/1:\n",
            "AAPL_stock_dividend.csv  AAPL_stock_price.csv  AAPL_stock_split.csv\n"
          ]
        }
      ]
    },
    {
      "cell_type": "code",
      "source": [
        "# Iniciar uma Sessão Spark\n",
        "from pyspark.sql import SparkSession\n",
        "\n",
        "spark = SparkSession.builder \\\n",
        "    .appName(\"ExemploPySpark\") \\\n",
        "    .getOrCreate()"
      ],
      "metadata": {
        "id": "ZKDUH38tSMgE"
      },
      "execution_count": 4,
      "outputs": []
    },
    {
      "cell_type": "markdown",
      "source": [
        "**Comparando métodos do pandas x métodos do PySpark**\n",
        "\n",
        "Leitura de Dados:"
      ],
      "metadata": {
        "id": "PbTdKPDVTaDq"
      }
    },
    {
      "cell_type": "code",
      "source": [
        "import pandas as pd\n",
        "df_pandas = pd.read_csv(\"/root/.cache/kagglehub/datasets/prathamjyotsingh/apple-stocks/versions/1/AAPL_stock_price.csv\")"
      ],
      "metadata": {
        "id": "1SR12OBgSX_w"
      },
      "execution_count": 5,
      "outputs": []
    },
    {
      "cell_type": "code",
      "source": [
        "df_pandas.head(4)"
      ],
      "metadata": {
        "colab": {
          "base_uri": "https://localhost:8080/",
          "height": 175
        },
        "id": "7vYjahCwsvh3",
        "outputId": "fef867bb-c471-4914-9402-f3db4bac23d2"
      },
      "execution_count": 6,
      "outputs": [
        {
          "output_type": "execute_result",
          "data": {
            "text/plain": [
              "         Date  Open Price  High Price  Low Price  Close Price     Volume\n",
              "0  1999-11-01       80.00       80.69      77.37        77.62  2487300.0\n",
              "1  1999-11-02       78.00       81.69      77.31        80.25  3564600.0\n",
              "2  1999-11-03       81.62       83.25      81.00        81.50  2932700.0\n",
              "3  1999-11-04       82.06       85.37      80.62        83.62  3384700.0"
            ],
            "text/html": [
              "\n",
              "  <div id=\"df-763f5baa-c624-432b-b03f-d589d54391ad\" class=\"colab-df-container\">\n",
              "    <div>\n",
              "<style scoped>\n",
              "    .dataframe tbody tr th:only-of-type {\n",
              "        vertical-align: middle;\n",
              "    }\n",
              "\n",
              "    .dataframe tbody tr th {\n",
              "        vertical-align: top;\n",
              "    }\n",
              "\n",
              "    .dataframe thead th {\n",
              "        text-align: right;\n",
              "    }\n",
              "</style>\n",
              "<table border=\"1\" class=\"dataframe\">\n",
              "  <thead>\n",
              "    <tr style=\"text-align: right;\">\n",
              "      <th></th>\n",
              "      <th>Date</th>\n",
              "      <th>Open Price</th>\n",
              "      <th>High Price</th>\n",
              "      <th>Low Price</th>\n",
              "      <th>Close Price</th>\n",
              "      <th>Volume</th>\n",
              "    </tr>\n",
              "  </thead>\n",
              "  <tbody>\n",
              "    <tr>\n",
              "      <th>0</th>\n",
              "      <td>1999-11-01</td>\n",
              "      <td>80.00</td>\n",
              "      <td>80.69</td>\n",
              "      <td>77.37</td>\n",
              "      <td>77.62</td>\n",
              "      <td>2487300.0</td>\n",
              "    </tr>\n",
              "    <tr>\n",
              "      <th>1</th>\n",
              "      <td>1999-11-02</td>\n",
              "      <td>78.00</td>\n",
              "      <td>81.69</td>\n",
              "      <td>77.31</td>\n",
              "      <td>80.25</td>\n",
              "      <td>3564600.0</td>\n",
              "    </tr>\n",
              "    <tr>\n",
              "      <th>2</th>\n",
              "      <td>1999-11-03</td>\n",
              "      <td>81.62</td>\n",
              "      <td>83.25</td>\n",
              "      <td>81.00</td>\n",
              "      <td>81.50</td>\n",
              "      <td>2932700.0</td>\n",
              "    </tr>\n",
              "    <tr>\n",
              "      <th>3</th>\n",
              "      <td>1999-11-04</td>\n",
              "      <td>82.06</td>\n",
              "      <td>85.37</td>\n",
              "      <td>80.62</td>\n",
              "      <td>83.62</td>\n",
              "      <td>3384700.0</td>\n",
              "    </tr>\n",
              "  </tbody>\n",
              "</table>\n",
              "</div>\n",
              "    <div class=\"colab-df-buttons\">\n",
              "\n",
              "  <div class=\"colab-df-container\">\n",
              "    <button class=\"colab-df-convert\" onclick=\"convertToInteractive('df-763f5baa-c624-432b-b03f-d589d54391ad')\"\n",
              "            title=\"Convert this dataframe to an interactive table.\"\n",
              "            style=\"display:none;\">\n",
              "\n",
              "  <svg xmlns=\"http://www.w3.org/2000/svg\" height=\"24px\" viewBox=\"0 -960 960 960\">\n",
              "    <path d=\"M120-120v-720h720v720H120Zm60-500h600v-160H180v160Zm220 220h160v-160H400v160Zm0 220h160v-160H400v160ZM180-400h160v-160H180v160Zm440 0h160v-160H620v160ZM180-180h160v-160H180v160Zm440 0h160v-160H620v160Z\"/>\n",
              "  </svg>\n",
              "    </button>\n",
              "\n",
              "  <style>\n",
              "    .colab-df-container {\n",
              "      display:flex;\n",
              "      gap: 12px;\n",
              "    }\n",
              "\n",
              "    .colab-df-convert {\n",
              "      background-color: #E8F0FE;\n",
              "      border: none;\n",
              "      border-radius: 50%;\n",
              "      cursor: pointer;\n",
              "      display: none;\n",
              "      fill: #1967D2;\n",
              "      height: 32px;\n",
              "      padding: 0 0 0 0;\n",
              "      width: 32px;\n",
              "    }\n",
              "\n",
              "    .colab-df-convert:hover {\n",
              "      background-color: #E2EBFA;\n",
              "      box-shadow: 0px 1px 2px rgba(60, 64, 67, 0.3), 0px 1px 3px 1px rgba(60, 64, 67, 0.15);\n",
              "      fill: #174EA6;\n",
              "    }\n",
              "\n",
              "    .colab-df-buttons div {\n",
              "      margin-bottom: 4px;\n",
              "    }\n",
              "\n",
              "    [theme=dark] .colab-df-convert {\n",
              "      background-color: #3B4455;\n",
              "      fill: #D2E3FC;\n",
              "    }\n",
              "\n",
              "    [theme=dark] .colab-df-convert:hover {\n",
              "      background-color: #434B5C;\n",
              "      box-shadow: 0px 1px 3px 1px rgba(0, 0, 0, 0.15);\n",
              "      filter: drop-shadow(0px 1px 2px rgba(0, 0, 0, 0.3));\n",
              "      fill: #FFFFFF;\n",
              "    }\n",
              "  </style>\n",
              "\n",
              "    <script>\n",
              "      const buttonEl =\n",
              "        document.querySelector('#df-763f5baa-c624-432b-b03f-d589d54391ad button.colab-df-convert');\n",
              "      buttonEl.style.display =\n",
              "        google.colab.kernel.accessAllowed ? 'block' : 'none';\n",
              "\n",
              "      async function convertToInteractive(key) {\n",
              "        const element = document.querySelector('#df-763f5baa-c624-432b-b03f-d589d54391ad');\n",
              "        const dataTable =\n",
              "          await google.colab.kernel.invokeFunction('convertToInteractive',\n",
              "                                                    [key], {});\n",
              "        if (!dataTable) return;\n",
              "\n",
              "        const docLinkHtml = 'Like what you see? Visit the ' +\n",
              "          '<a target=\"_blank\" href=https://colab.research.google.com/notebooks/data_table.ipynb>data table notebook</a>'\n",
              "          + ' to learn more about interactive tables.';\n",
              "        element.innerHTML = '';\n",
              "        dataTable['output_type'] = 'display_data';\n",
              "        await google.colab.output.renderOutput(dataTable, element);\n",
              "        const docLink = document.createElement('div');\n",
              "        docLink.innerHTML = docLinkHtml;\n",
              "        element.appendChild(docLink);\n",
              "      }\n",
              "    </script>\n",
              "  </div>\n",
              "\n",
              "\n",
              "<div id=\"df-daa9e9a1-6ecd-4504-bd9d-dfd6ebe2bae6\">\n",
              "  <button class=\"colab-df-quickchart\" onclick=\"quickchart('df-daa9e9a1-6ecd-4504-bd9d-dfd6ebe2bae6')\"\n",
              "            title=\"Suggest charts\"\n",
              "            style=\"display:none;\">\n",
              "\n",
              "<svg xmlns=\"http://www.w3.org/2000/svg\" height=\"24px\"viewBox=\"0 0 24 24\"\n",
              "     width=\"24px\">\n",
              "    <g>\n",
              "        <path d=\"M19 3H5c-1.1 0-2 .9-2 2v14c0 1.1.9 2 2 2h14c1.1 0 2-.9 2-2V5c0-1.1-.9-2-2-2zM9 17H7v-7h2v7zm4 0h-2V7h2v10zm4 0h-2v-4h2v4z\"/>\n",
              "    </g>\n",
              "</svg>\n",
              "  </button>\n",
              "\n",
              "<style>\n",
              "  .colab-df-quickchart {\n",
              "      --bg-color: #E8F0FE;\n",
              "      --fill-color: #1967D2;\n",
              "      --hover-bg-color: #E2EBFA;\n",
              "      --hover-fill-color: #174EA6;\n",
              "      --disabled-fill-color: #AAA;\n",
              "      --disabled-bg-color: #DDD;\n",
              "  }\n",
              "\n",
              "  [theme=dark] .colab-df-quickchart {\n",
              "      --bg-color: #3B4455;\n",
              "      --fill-color: #D2E3FC;\n",
              "      --hover-bg-color: #434B5C;\n",
              "      --hover-fill-color: #FFFFFF;\n",
              "      --disabled-bg-color: #3B4455;\n",
              "      --disabled-fill-color: #666;\n",
              "  }\n",
              "\n",
              "  .colab-df-quickchart {\n",
              "    background-color: var(--bg-color);\n",
              "    border: none;\n",
              "    border-radius: 50%;\n",
              "    cursor: pointer;\n",
              "    display: none;\n",
              "    fill: var(--fill-color);\n",
              "    height: 32px;\n",
              "    padding: 0;\n",
              "    width: 32px;\n",
              "  }\n",
              "\n",
              "  .colab-df-quickchart:hover {\n",
              "    background-color: var(--hover-bg-color);\n",
              "    box-shadow: 0 1px 2px rgba(60, 64, 67, 0.3), 0 1px 3px 1px rgba(60, 64, 67, 0.15);\n",
              "    fill: var(--button-hover-fill-color);\n",
              "  }\n",
              "\n",
              "  .colab-df-quickchart-complete:disabled,\n",
              "  .colab-df-quickchart-complete:disabled:hover {\n",
              "    background-color: var(--disabled-bg-color);\n",
              "    fill: var(--disabled-fill-color);\n",
              "    box-shadow: none;\n",
              "  }\n",
              "\n",
              "  .colab-df-spinner {\n",
              "    border: 2px solid var(--fill-color);\n",
              "    border-color: transparent;\n",
              "    border-bottom-color: var(--fill-color);\n",
              "    animation:\n",
              "      spin 1s steps(1) infinite;\n",
              "  }\n",
              "\n",
              "  @keyframes spin {\n",
              "    0% {\n",
              "      border-color: transparent;\n",
              "      border-bottom-color: var(--fill-color);\n",
              "      border-left-color: var(--fill-color);\n",
              "    }\n",
              "    20% {\n",
              "      border-color: transparent;\n",
              "      border-left-color: var(--fill-color);\n",
              "      border-top-color: var(--fill-color);\n",
              "    }\n",
              "    30% {\n",
              "      border-color: transparent;\n",
              "      border-left-color: var(--fill-color);\n",
              "      border-top-color: var(--fill-color);\n",
              "      border-right-color: var(--fill-color);\n",
              "    }\n",
              "    40% {\n",
              "      border-color: transparent;\n",
              "      border-right-color: var(--fill-color);\n",
              "      border-top-color: var(--fill-color);\n",
              "    }\n",
              "    60% {\n",
              "      border-color: transparent;\n",
              "      border-right-color: var(--fill-color);\n",
              "    }\n",
              "    80% {\n",
              "      border-color: transparent;\n",
              "      border-right-color: var(--fill-color);\n",
              "      border-bottom-color: var(--fill-color);\n",
              "    }\n",
              "    90% {\n",
              "      border-color: transparent;\n",
              "      border-bottom-color: var(--fill-color);\n",
              "    }\n",
              "  }\n",
              "</style>\n",
              "\n",
              "  <script>\n",
              "    async function quickchart(key) {\n",
              "      const quickchartButtonEl =\n",
              "        document.querySelector('#' + key + ' button');\n",
              "      quickchartButtonEl.disabled = true;  // To prevent multiple clicks.\n",
              "      quickchartButtonEl.classList.add('colab-df-spinner');\n",
              "      try {\n",
              "        const charts = await google.colab.kernel.invokeFunction(\n",
              "            'suggestCharts', [key], {});\n",
              "      } catch (error) {\n",
              "        console.error('Error during call to suggestCharts:', error);\n",
              "      }\n",
              "      quickchartButtonEl.classList.remove('colab-df-spinner');\n",
              "      quickchartButtonEl.classList.add('colab-df-quickchart-complete');\n",
              "    }\n",
              "    (() => {\n",
              "      let quickchartButtonEl =\n",
              "        document.querySelector('#df-daa9e9a1-6ecd-4504-bd9d-dfd6ebe2bae6 button');\n",
              "      quickchartButtonEl.style.display =\n",
              "        google.colab.kernel.accessAllowed ? 'block' : 'none';\n",
              "    })();\n",
              "  </script>\n",
              "</div>\n",
              "\n",
              "    </div>\n",
              "  </div>\n"
            ],
            "application/vnd.google.colaboratory.intrinsic+json": {
              "type": "dataframe",
              "variable_name": "df_pandas",
              "summary": "{\n  \"name\": \"df_pandas\",\n  \"rows\": 6262,\n  \"fields\": [\n    {\n      \"column\": \"Date\",\n      \"properties\": {\n        \"dtype\": \"object\",\n        \"num_unique_values\": 6262,\n        \"samples\": [\n          \"2008-12-30\",\n          \"2014-03-26\",\n          \"2020-08-06\"\n        ],\n        \"semantic_type\": \"\",\n        \"description\": \"\"\n      }\n    },\n    {\n      \"column\": \"Open Price\",\n      \"properties\": {\n        \"dtype\": \"number\",\n        \"std\": 147.33662113882068,\n        \"min\": 12.99,\n        \"max\": 702.41,\n        \"num_unique_values\": 5469,\n        \"samples\": [\n          262.59,\n          139.365,\n          171.8\n        ],\n        \"semantic_type\": \"\",\n        \"description\": \"\"\n      }\n    },\n    {\n      \"column\": \"High Price\",\n      \"properties\": {\n        \"dtype\": \"number\",\n        \"std\": 148.5514864655141,\n        \"min\": 13.19,\n        \"max\": 705.07,\n        \"num_unique_values\": 5364,\n        \"samples\": [\n          168.16,\n          141.79,\n          171.85\n        ],\n        \"semantic_type\": \"\",\n        \"description\": \"\"\n      }\n    },\n    {\n      \"column\": \"Low Price\",\n      \"properties\": {\n        \"dtype\": \"number\",\n        \"std\": 145.9228222388643,\n        \"min\": 12.72,\n        \"max\": 699.57,\n        \"num_unique_values\": 5466,\n        \"samples\": [\n          168.58,\n          42.77,\n          138.5729\n        ],\n        \"semantic_type\": \"\",\n        \"description\": \"\"\n      }\n    },\n    {\n      \"column\": \"Close Price\",\n      \"properties\": {\n        \"dtype\": \"number\",\n        \"std\": 147.27286444053587,\n        \"min\": 13.12,\n        \"max\": 702.1,\n        \"num_unique_values\": 5498,\n        \"samples\": [\n          135.37,\n          72.01,\n          126.04\n        ],\n        \"semantic_type\": \"\",\n        \"description\": \"\"\n      }\n    },\n    {\n      \"column\": \"Volume\",\n      \"properties\": {\n        \"dtype\": \"number\",\n        \"std\": 30622622.74996276,\n        \"min\": 702500.0,\n        \"max\": 332607163.0,\n        \"num_unique_values\": 6240,\n        \"samples\": [\n          17039900.0,\n          20385500.0,\n          33561948.0\n        ],\n        \"semantic_type\": \"\",\n        \"description\": \"\"\n      }\n    }\n  ]\n}"
            }
          },
          "metadata": {},
          "execution_count": 6
        }
      ]
    },
    {
      "cell_type": "code",
      "source": [
        "from pyspark.sql import SparkSession\n",
        "\n",
        "spark = SparkSession.builder.appName(\"ExemploLeitura\").getOrCreate()\n",
        "\n",
        "# Leitura de um arquivo CSV\n",
        "df_pyspark = spark.read.csv(\"/root/.cache/kagglehub/datasets/prathamjyotsingh/apple-stocks/versions/1/AAPL_stock_price.csv\", header=True, inferSchema=True)"
      ],
      "metadata": {
        "id": "KxkLRN6VTweh"
      },
      "execution_count": 7,
      "outputs": []
    },
    {
      "cell_type": "code",
      "source": [
        "#Nomes das colunas\n",
        "for i in df_pandas.columns:\n",
        "  print(i)"
      ],
      "metadata": {
        "colab": {
          "base_uri": "https://localhost:8080/"
        },
        "id": "p2JKtAI0s8AA",
        "outputId": "629fef29-3170-4c61-b1c6-3be10733f1f6"
      },
      "execution_count": 8,
      "outputs": [
        {
          "output_type": "stream",
          "name": "stdout",
          "text": [
            "Date\n",
            "Open Price\n",
            "High Price\n",
            "Low Price\n",
            "Close Price\n",
            "Volume\n"
          ]
        }
      ]
    },
    {
      "cell_type": "markdown",
      "source": [
        "Seleção de Colunas:"
      ],
      "metadata": {
        "id": "CyP1qKuVT7Fn"
      }
    },
    {
      "cell_type": "code",
      "source": [
        "# Seleciona colunas específicas - Pandas\n",
        "df_selecionado_pandas = df_pandas[['Date', 'Open Price','High Price','Low Price','Volume']]"
      ],
      "metadata": {
        "id": "W7G9niUIT3YF"
      },
      "execution_count": 9,
      "outputs": []
    },
    {
      "cell_type": "code",
      "source": [
        "# Seleciona colunas específicas - PySpark\n",
        "df_selecionado_spark = df_pyspark.select('Date', 'Open Price','High Price','Low Price','Volume')"
      ],
      "metadata": {
        "id": "9_ayFq__ULWC"
      },
      "execution_count": 10,
      "outputs": []
    },
    {
      "cell_type": "markdown",
      "source": [
        "Filtragem de Dados:"
      ],
      "metadata": {
        "id": "DLDFhVdBUy6M"
      }
    },
    {
      "cell_type": "code",
      "source": [
        "# Filtra linhas onde coluna1 > 50 - Pandas\n",
        "df_filtrado_pandas = df_pandas[df_pandas['Volume'] > 2]"
      ],
      "metadata": {
        "id": "NqYRN_ExU1O6"
      },
      "execution_count": 11,
      "outputs": []
    },
    {
      "cell_type": "code",
      "source": [
        "# Filtra linhas onde coluna1 > 50 - PySpark\n",
        "df_filtrado_spark = df_pyspark.filter(df_pyspark.Volume > 2)"
      ],
      "metadata": {
        "id": "Qq_YKeXNWnNn"
      },
      "execution_count": 12,
      "outputs": []
    },
    {
      "cell_type": "markdown",
      "source": [
        "Agregações:"
      ],
      "metadata": {
        "id": "Fvn8Qfs-W0KX"
      }
    },
    {
      "cell_type": "code",
      "source": [
        "# Calcula a média de coluna1 agrupada por coluna2 - Pandas\n",
        "df_agregado_pandas = df_pandas.groupby('Open Price')['High Price'].mean().reset_index()"
      ],
      "metadata": {
        "id": "5QydNn3yWzkK"
      },
      "execution_count": 13,
      "outputs": []
    },
    {
      "cell_type": "code",
      "source": [
        "# Calcula a média de coluna1 agrupada por coluna2 - PySpark\n",
        "from pyspark.sql.functions import avg\n",
        "\n",
        "# Calcula a média de coluna1 agrupada por coluna2\n",
        "df_agregado_spark = df_pyspark.groupBy(\"Open Price\").agg(avg(\"High Price\").alias(\"media_days_left\"))\n"
      ],
      "metadata": {
        "id": "OeiAonaAW5Cy"
      },
      "execution_count": 14,
      "outputs": []
    },
    {
      "cell_type": "code",
      "source": [
        "df_selecionado_spark.show(5)\n",
        "df_filtrado_spark.show(5)\n",
        "df_agregado_spark.show(5)"
      ],
      "metadata": {
        "colab": {
          "base_uri": "https://localhost:8080/"
        },
        "id": "tjTgUhdMuBqf",
        "outputId": "85d4d43e-8494-4bd1-f59c-6a05be4a55c5"
      },
      "execution_count": 15,
      "outputs": [
        {
          "output_type": "stream",
          "name": "stdout",
          "text": [
            "+----------+----------+----------+---------+---------+\n",
            "|      Date|Open Price|High Price|Low Price|   Volume|\n",
            "+----------+----------+----------+---------+---------+\n",
            "|1999-11-01|      80.0|     80.69|    77.37|2487300.0|\n",
            "|1999-11-02|      78.0|     81.69|    77.31|3564600.0|\n",
            "|1999-11-03|     81.62|     83.25|     81.0|2932700.0|\n",
            "|1999-11-04|     82.06|     85.37|    80.62|3384700.0|\n",
            "|1999-11-05|     84.62|     88.37|     84.0|3721500.0|\n",
            "+----------+----------+----------+---------+---------+\n",
            "only showing top 5 rows\n",
            "\n",
            "+----------+----------+----------+---------+-----------+---------+\n",
            "|      Date|Open Price|High Price|Low Price|Close Price|   Volume|\n",
            "+----------+----------+----------+---------+-----------+---------+\n",
            "|1999-11-01|      80.0|     80.69|    77.37|      77.62|2487300.0|\n",
            "|1999-11-02|      78.0|     81.69|    77.31|      80.25|3564600.0|\n",
            "|1999-11-03|     81.62|     83.25|     81.0|       81.5|2932700.0|\n",
            "|1999-11-04|     82.06|     85.37|    80.62|      83.62|3384700.0|\n",
            "|1999-11-05|     84.62|     88.37|     84.0|      88.31|3721500.0|\n",
            "+----------+----------+----------+---------+-----------+---------+\n",
            "only showing top 5 rows\n",
            "\n",
            "+----------+------------------+\n",
            "|Open Price|   media_days_left|\n",
            "+----------+------------------+\n",
            "|     17.56|             17.56|\n",
            "|      26.7|             27.09|\n",
            "|     17.95|             18.38|\n",
            "|     23.04|             23.04|\n",
            "|      15.5|15.815000000000001|\n",
            "+----------+------------------+\n",
            "only showing top 5 rows\n",
            "\n"
          ]
        }
      ]
    },
    {
      "cell_type": "markdown",
      "source": [
        "Junções (Joins):"
      ],
      "metadata": {
        "id": "gMjrtx18F3gy"
      }
    },
    {
      "cell_type": "code",
      "source": [
        "# Junção de dois DataFrames pandas\n",
        "df1 = pd.read_csv(\"/root/.cache/kagglehub/datasets/prathamjyotsingh/apple-stocks/versions/1/AAPL_stock_price.csv\")\n",
        "df2 = pd.read_csv(\"/root/.cache/kagglehub/datasets/prathamjyotsingh/apple-stocks/versions/1/AAPL_stock_dividend.csv\")\n",
        "df_juncao = pd.merge(df1, df2, on=\"Date\", how=\"left\")"
      ],
      "metadata": {
        "id": "kdBiDsnpF6AM"
      },
      "execution_count": 16,
      "outputs": []
    },
    {
      "cell_type": "code",
      "source": [
        "df1['Date'] = df1['Date'].astype(str)\n",
        "df2['Date'] = df2['Date'].astype(str)"
      ],
      "metadata": {
        "id": "OZp856pDKXcE"
      },
      "execution_count": 17,
      "outputs": []
    },
    {
      "cell_type": "code",
      "source": [
        "print(df1.dtypes)\n",
        "print(df2.dtypes)"
      ],
      "metadata": {
        "colab": {
          "base_uri": "https://localhost:8080/"
        },
        "id": "-QE65yB6Kao9",
        "outputId": "d3c2d64f-324b-429c-9483-2928d4754125"
      },
      "execution_count": 18,
      "outputs": [
        {
          "output_type": "stream",
          "name": "stdout",
          "text": [
            "Date            object\n",
            "Open Price     float64\n",
            "High Price     float64\n",
            "Low Price      float64\n",
            "Close Price    float64\n",
            "Volume         float64\n",
            "dtype: object\n",
            "Date                 object\n",
            "Declaration Date     object\n",
            "Record Date          object\n",
            "Payment Date         object\n",
            "Dividend            float64\n",
            "dtype: object\n"
          ]
        }
      ]
    },
    {
      "cell_type": "code",
      "source": [
        "# Junção de dois DataFrames PySpark\n",
        "df1 = pd.read_csv(\"/root/.cache/kagglehub/datasets/prathamjyotsingh/apple-stocks/versions/1/AAPL_stock_price.csv\")\n",
        "df2 = pd.read_csv(\"/root/.cache/kagglehub/datasets/prathamjyotsingh/apple-stocks/versions/1/AAPL_stock_dividend.csv\")\n",
        "df_juncao = df1.merge(df2, on=\"Date\", how=\"left\")"
      ],
      "metadata": {
        "id": "_p6-Ad3MF9PX"
      },
      "execution_count": 19,
      "outputs": []
    },
    {
      "cell_type": "markdown",
      "source": [
        "Criação de Novas Colunas:"
      ],
      "metadata": {
        "id": "KyHq7N4UGCT9"
      }
    },
    {
      "cell_type": "code",
      "source": [
        "# Cria uma nova coluna 'nova_coluna' como a soma de 'coluna1' e 'coluna2'\n",
        "df_pandas['nova_coluna'] = df_pandas['Volume'] + df_pandas['Low Price']"
      ],
      "metadata": {
        "id": "F-JSPVrfGEIz"
      },
      "execution_count": 20,
      "outputs": []
    },
    {
      "cell_type": "code",
      "source": [
        "from pyspark.sql.functions import col\n",
        "\n",
        "# Cria uma nova coluna 'nova_coluna' como a soma de 'coluna1' e 'coluna2'\n",
        "df_pyspark = df_pyspark.withColumn(\"nova_coluna\", col(\"Volume\") + col(\"Low Price\"))\n"
      ],
      "metadata": {
        "id": "YtKNc4XfGGQp"
      },
      "execution_count": 21,
      "outputs": []
    },
    {
      "cell_type": "markdown",
      "source": [
        "Ordenação de Dados:"
      ],
      "metadata": {
        "id": "il5SISWCGK7O"
      }
    },
    {
      "cell_type": "code",
      "source": [
        "# Ordena o DataFrame pelo 'coluna1' em ordem descendente\n",
        "df_pandas_ordenado = df_pandas.sort_values(by='Date', ascending=False)"
      ],
      "metadata": {
        "id": "a9vHllFkGJol"
      },
      "execution_count": 22,
      "outputs": []
    },
    {
      "cell_type": "code",
      "source": [
        "# Ordena o DataFrame pelo 'coluna1' em ordem descendente\n",
        "df_pyspark_ordenado = df_pyspark.orderBy(df_pyspark.Date.desc())"
      ],
      "metadata": {
        "id": "A8CU8GXLGNbD"
      },
      "execution_count": 23,
      "outputs": []
    }
  ]
}