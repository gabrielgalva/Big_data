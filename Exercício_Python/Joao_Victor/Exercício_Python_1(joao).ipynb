{
  "nbformat": 4,
  "nbformat_minor": 0,
  "metadata": {
    "colab": {
      "provenance": []
    },
    "kernelspec": {
      "name": "python3",
      "display_name": "Python 3"
    },
    "language_info": {
      "name": "python"
    }
  },
  "cells": [
    {
      "cell_type": "markdown",
      "source": [
        "**Exercício 1 - Aquecimento de Python para Ciência de Dados**"
      ],
      "metadata": {
        "id": "f6oYv9LEcR8T"
      }
    },
    {
      "cell_type": "markdown",
      "source": [
        "1. Imprima \"Hello, World!\" no console."
      ],
      "metadata": {
        "id": "v4GVV_w1cYEY"
      }
    },
    {
      "cell_type": "code",
      "execution_count": 1,
      "metadata": {
        "id": "dJ12k9hPcNAg",
        "colab": {
          "base_uri": "https://localhost:8080/"
        },
        "outputId": "a9d3e40a-59f8-4760-9aac-b94f6d5131bd"
      },
      "outputs": [
        {
          "output_type": "stream",
          "name": "stdout",
          "text": [
            "Hello, World!!!\n"
          ]
        }
      ],
      "source": [
        "print ('Hello, World!!!')"
      ]
    },
    {
      "cell_type": "markdown",
      "source": [
        "2. Crie uma variável x com valor 10 e imprima seu valor."
      ],
      "metadata": {
        "id": "ADK7MX25ciYu"
      }
    },
    {
      "cell_type": "code",
      "source": [
        "x = 10\n",
        "print(x)"
      ],
      "metadata": {
        "id": "kk5h1v7ocqel",
        "colab": {
          "base_uri": "https://localhost:8080/"
        },
        "outputId": "ec225720-eb09-426e-c29d-8b4c88cddfb2"
      },
      "execution_count": 2,
      "outputs": [
        {
          "output_type": "stream",
          "name": "stdout",
          "text": [
            "10\n"
          ]
        }
      ]
    },
    {
      "cell_type": "markdown",
      "source": [
        "3. Some dois números e exiba o resultado."
      ],
      "metadata": {
        "id": "bKry1Lukcq6l"
      }
    },
    {
      "cell_type": "code",
      "source": [
        "print(10+10)"
      ],
      "metadata": {
        "id": "S6IyQT4Lc2vf",
        "colab": {
          "base_uri": "https://localhost:8080/"
        },
        "outputId": "c9b5740c-761e-4fe7-a5c6-b74d9b1d754b"
      },
      "execution_count": 3,
      "outputs": [
        {
          "output_type": "stream",
          "name": "stdout",
          "text": [
            "20\n"
          ]
        }
      ]
    },
    {
      "cell_type": "markdown",
      "source": [
        "4. Verifique se um número é par ou ímpar.\n"
      ],
      "metadata": {
        "id": "6BG1PN9Qc3VA"
      }
    },
    {
      "cell_type": "code",
      "source": [
        "print(\"Par\" if x % 2 == 0 else \"Ímpar\")"
      ],
      "metadata": {
        "id": "K6NLPZoRc7ov",
        "colab": {
          "base_uri": "https://localhost:8080/"
        },
        "outputId": "780d6ef4-13f8-4ae2-8395-c413cdd36b47"
      },
      "execution_count": 4,
      "outputs": [
        {
          "output_type": "stream",
          "name": "stdout",
          "text": [
            "Par\n"
          ]
        }
      ]
    },
    {
      "cell_type": "markdown",
      "source": [
        "5. Crie uma função que receba dois números e retorne a soma deles."
      ],
      "metadata": {
        "id": "5dKg-xpvc4xs"
      }
    },
    {
      "cell_type": "code",
      "source": [
        "def soma(n1, n2):\n",
        "    return n1 + n2"
      ],
      "metadata": {
        "id": "iv1-9Zytc4S3"
      },
      "execution_count": 5,
      "outputs": []
    },
    {
      "cell_type": "code",
      "source": [
        "numero1 = int(input('Digite o 1º número: '))\n",
        "numero2 = int(input('Digite o 2º número: '))\n",
        "\n",
        "resultado = soma(numero1, numero2)\n",
        "print(f\"A soma de {numero1} e {numero2} é: {resultado}\")"
      ],
      "metadata": {
        "colab": {
          "base_uri": "https://localhost:8080/"
        },
        "id": "TxuMXrnsDp19",
        "outputId": "af6c4770-3107-458d-db76-7aec7f616b51"
      },
      "execution_count": 6,
      "outputs": [
        {
          "output_type": "stream",
          "name": "stdout",
          "text": [
            "Digite o 1º número: 10\n",
            "Digite o 2º número: 10\n",
            "A soma de 10 e 10 é: 20\n"
          ]
        }
      ]
    },
    {
      "cell_type": "markdown",
      "source": [
        "6. Crie uma lista com os números de 1 a 5 e imprima-a.\n"
      ],
      "metadata": {
        "id": "zsdBZtyjc_62"
      }
    },
    {
      "cell_type": "code",
      "source": [
        "listanumeros = [1, 2, 3, 4, 5]\n",
        "print(listanumeros)"
      ],
      "metadata": {
        "id": "xGgkwH7jdCh-",
        "colab": {
          "base_uri": "https://localhost:8080/"
        },
        "outputId": "c544265f-c4b2-4f3d-9711-d1b3c7f83827"
      },
      "execution_count": 7,
      "outputs": [
        {
          "output_type": "stream",
          "name": "stdout",
          "text": [
            "[1, 2, 3, 4, 5]\n"
          ]
        }
      ]
    },
    {
      "cell_type": "markdown",
      "source": [
        "7. Adicione o número 6 à lista criada na questão anterior.\n"
      ],
      "metadata": {
        "id": "snUAe4qddFsm"
      }
    },
    {
      "cell_type": "code",
      "source": [
        "listanumeros.append(6)\n",
        "print(listanumeros)"
      ],
      "metadata": {
        "id": "QVpSgy7FdGk9",
        "colab": {
          "base_uri": "https://localhost:8080/"
        },
        "outputId": "e33c6ef2-53a4-46ad-86cd-6a115c2fdfa8"
      },
      "execution_count": 8,
      "outputs": [
        {
          "output_type": "stream",
          "name": "stdout",
          "text": [
            "[1, 2, 3, 4, 5, 6]\n"
          ]
        }
      ]
    },
    {
      "cell_type": "markdown",
      "source": [
        "8. Remova o número 3 da lista."
      ],
      "metadata": {
        "id": "4HT4BfD1dI8f"
      }
    },
    {
      "cell_type": "code",
      "source": [
        "listanumeros.remove(3)\n",
        "print(listanumeros)"
      ],
      "metadata": {
        "id": "QCCxAurPdKjB",
        "colab": {
          "base_uri": "https://localhost:8080/"
        },
        "outputId": "b7e62b81-b0b7-49cd-a9de-bd3e62af20ca"
      },
      "execution_count": 9,
      "outputs": [
        {
          "output_type": "stream",
          "name": "stdout",
          "text": [
            "[1, 2, 4, 5, 6]\n"
          ]
        }
      ]
    },
    {
      "cell_type": "markdown",
      "source": [
        "9. Acesse o terceiro elemento da lista."
      ],
      "metadata": {
        "id": "RyI_EEltdMZt"
      }
    },
    {
      "cell_type": "code",
      "source": [
        "print(listanumeros[2])"
      ],
      "metadata": {
        "id": "HIkSUt_EdOSD",
        "colab": {
          "base_uri": "https://localhost:8080/"
        },
        "outputId": "0f8c7ecd-f8e9-4544-f0da-c81f1d178d57"
      },
      "execution_count": 10,
      "outputs": [
        {
          "output_type": "stream",
          "name": "stdout",
          "text": [
            "4\n"
          ]
        }
      ]
    },
    {
      "cell_type": "markdown",
      "source": [
        "10. Imprima o tamanho da lista."
      ],
      "metadata": {
        "id": "yQjJYNSsdQUI"
      }
    },
    {
      "cell_type": "code",
      "source": [
        "print(len(listanumeros))"
      ],
      "metadata": {
        "id": "Nz1jOedbdTR-",
        "colab": {
          "base_uri": "https://localhost:8080/"
        },
        "outputId": "27364f8c-1d82-482a-dc3c-8b5af0794cd5"
      },
      "execution_count": 11,
      "outputs": [
        {
          "output_type": "stream",
          "name": "stdout",
          "text": [
            "5\n"
          ]
        }
      ]
    },
    {
      "cell_type": "markdown",
      "source": [
        "11. Crie um dicionário com informações de um carro (marca, modelo, ano)."
      ],
      "metadata": {
        "id": "2gm3RaRKdyCg"
      }
    },
    {
      "cell_type": "code",
      "source": [
        "carro = {\n",
        "    \"marca\": \"Borborema\",\n",
        "    \"modelo\": \"Lata de Sardinha\",\n",
        "    \"ano\": 1900\n",
        "}\n",
        "print(carro)"
      ],
      "metadata": {
        "id": "gL_Svemid1kG",
        "colab": {
          "base_uri": "https://localhost:8080/"
        },
        "outputId": "7e779cd4-359a-4955-86e6-748959e5f2c9"
      },
      "execution_count": 12,
      "outputs": [
        {
          "output_type": "stream",
          "name": "stdout",
          "text": [
            "{'marca': 'Borborema', 'modelo': 'Lata de Sardinha', 'ano': 1900}\n"
          ]
        }
      ]
    },
    {
      "cell_type": "markdown",
      "source": [
        "12. Acesse o valor associado à chave \"marca\" no dicionário."
      ],
      "metadata": {
        "id": "ng6tNEYtd0hE"
      }
    },
    {
      "cell_type": "code",
      "source": [
        "print(carro[\"marca\"])"
      ],
      "metadata": {
        "id": "VPDbrV6Ad0Pn",
        "colab": {
          "base_uri": "https://localhost:8080/"
        },
        "outputId": "d3379f5d-7385-48ac-bd3a-440c239891ba"
      },
      "execution_count": 13,
      "outputs": [
        {
          "output_type": "stream",
          "name": "stdout",
          "text": [
            "Borborema\n"
          ]
        }
      ]
    },
    {
      "cell_type": "markdown",
      "source": [
        "13. Adicione uma nova chave \"cor\" com valor \"preto\" ao dicionário."
      ],
      "metadata": {
        "id": "Ov93hI7Td7c9"
      }
    },
    {
      "cell_type": "code",
      "source": [
        "carro[\"cor\"] = \"Branco(a)\"\n",
        "print(carro)\n"
      ],
      "metadata": {
        "id": "TrQLLfpid69U",
        "colab": {
          "base_uri": "https://localhost:8080/"
        },
        "outputId": "36a2703f-3ee8-4efb-f001-5273fd2c6eea"
      },
      "execution_count": 14,
      "outputs": [
        {
          "output_type": "stream",
          "name": "stdout",
          "text": [
            "{'marca': 'Borborema', 'modelo': 'Lata de Sardinha', 'ano': 1900, 'cor': 'Branco(a)'}\n"
          ]
        }
      ]
    },
    {
      "cell_type": "markdown",
      "source": [
        "14. Verifique se a chave \"modelo\" existe no dicionário.\n"
      ],
      "metadata": {
        "id": "b_5cOma2d9LP"
      }
    },
    {
      "cell_type": "code",
      "source": [
        "if \"modelo\" in carro:\n",
        "    print('o modelo existe')\n",
        "else:\n",
        "    print('o modelo n existe')"
      ],
      "metadata": {
        "id": "DUMaXPQYd8bM",
        "colab": {
          "base_uri": "https://localhost:8080/"
        },
        "outputId": "10af5a4c-8ca4-4279-d22f-d2240c703783"
      },
      "execution_count": 15,
      "outputs": [
        {
          "output_type": "stream",
          "name": "stdout",
          "text": [
            "o modelo existe\n"
          ]
        }
      ]
    },
    {
      "cell_type": "markdown",
      "source": [
        "15. Itere sobre as chaves do dicionário e imprima cada uma delas."
      ],
      "metadata": {
        "id": "Zpqnxu2ReBZH"
      }
    },
    {
      "cell_type": "code",
      "source": [
        "for chave in carro:\n",
        "    print(chave)"
      ],
      "metadata": {
        "id": "4juQCK0veA-g",
        "colab": {
          "base_uri": "https://localhost:8080/"
        },
        "outputId": "3ac3aa27-7532-4ded-d762-0c81feb019f7"
      },
      "execution_count": 16,
      "outputs": [
        {
          "output_type": "stream",
          "name": "stdout",
          "text": [
            "marca\n",
            "modelo\n",
            "ano\n",
            "cor\n"
          ]
        }
      ]
    },
    {
      "cell_type": "markdown",
      "source": [
        "15. Itere sobre as chaves do dicionário e imprima cada uma delas."
      ],
      "metadata": {
        "id": "GAoDb4pneG-j"
      }
    },
    {
      "cell_type": "code",
      "source": [
        "#repetida a questao ?"
      ],
      "metadata": {
        "id": "aqi8-PtUeGx5"
      },
      "execution_count": 17,
      "outputs": []
    },
    {
      "cell_type": "markdown",
      "source": [
        "17. Crie uma função que receba uma lista e retorne a soma dos elementos."
      ],
      "metadata": {
        "id": "oxI3BVhteGhH"
      }
    },
    {
      "cell_type": "code",
      "source": [
        "def soma_lista(lista):\n",
        "    return sum(lista)"
      ],
      "metadata": {
        "id": "Ijnkd3cJeMM_"
      },
      "execution_count": 18,
      "outputs": []
    },
    {
      "cell_type": "code",
      "source": [
        "numeroslista = [10,5, 7,7,5]\n",
        "resultado = soma_lista(numeroslista)"
      ],
      "metadata": {
        "id": "FAPj_owfGGo5"
      },
      "execution_count": 19,
      "outputs": []
    },
    {
      "cell_type": "code",
      "source": [
        "print(f\"A soma dos elementos da lista é: {resultado}\")"
      ],
      "metadata": {
        "colab": {
          "base_uri": "https://localhost:8080/"
        },
        "id": "Opjct5WYJqXl",
        "outputId": "79ea594f-b317-48ee-962f-e72c5cd77a2a"
      },
      "execution_count": 20,
      "outputs": [
        {
          "output_type": "stream",
          "name": "stdout",
          "text": [
            "A soma dos elementos da lista é: 34\n"
          ]
        }
      ]
    },
    {
      "cell_type": "markdown",
      "source": [
        "18. Crie uma função que receba um dicionário e retorne todas as suas chaves.\n"
      ],
      "metadata": {
        "id": "Abqc7zdfeNl7"
      }
    },
    {
      "cell_type": "code",
      "source": [
        "def obter_chaves(dicionario):\n",
        "    return list(dicionario.keys())\n",
        "    chaves_carro = obter_chaves(carro)"
      ],
      "metadata": {
        "id": "ZbHQ9bipeQc3"
      },
      "execution_count": 21,
      "outputs": []
    },
    {
      "cell_type": "code",
      "source": [
        "chaves_carro = obter_chaves(carro)\n",
        "print(f\"As chaves do dicionário:{chaves_carro}\")"
      ],
      "metadata": {
        "colab": {
          "base_uri": "https://localhost:8080/"
        },
        "id": "UxLD1UN4KmGR",
        "outputId": "483cf84c-7d31-4590-92d4-90dd2be71684"
      },
      "execution_count": 22,
      "outputs": [
        {
          "output_type": "stream",
          "name": "stdout",
          "text": [
            "As chaves do dicionário:['marca', 'modelo', 'ano', 'cor']\n"
          ]
        }
      ]
    },
    {
      "cell_type": "markdown",
      "source": [
        "\n",
        "19. Crie uma função que receba um dicionário e imprima chave e valor em linhas separadas."
      ],
      "metadata": {
        "id": "wF_R9JlDeNip"
      }
    },
    {
      "cell_type": "code",
      "source": [
        "def imprimir_chaves_valores(dicionario):\n",
        "    for chave, valor in dicionario.items():\n",
        "        print(f\"Chave: {chave}, Valor: {valor}\")\n",
        ""
      ],
      "metadata": {
        "id": "ONvkXUDWeVX3"
      },
      "execution_count": 23,
      "outputs": []
    },
    {
      "cell_type": "code",
      "source": [
        "imprimir_chaves_valores(carro)"
      ],
      "metadata": {
        "colab": {
          "base_uri": "https://localhost:8080/"
        },
        "collapsed": true,
        "id": "YJzYLDJzL1Zv",
        "outputId": "38403779-c273-4f54-8637-ae1634c5d9c9"
      },
      "execution_count": 24,
      "outputs": [
        {
          "output_type": "stream",
          "name": "stdout",
          "text": [
            "Chave: marca, Valor: Borborema\n",
            "Chave: modelo, Valor: Lata de Sardinha\n",
            "Chave: ano, Valor: 1900\n",
            "Chave: cor, Valor: Branco(a)\n"
          ]
        }
      ]
    },
    {
      "cell_type": "markdown",
      "source": [
        "20. Crie uma classe chamada Pessoa com atributos nome e idade, e um método que imprima esses dados."
      ],
      "metadata": {
        "id": "5ZSYRpJ-eM4s"
      }
    },
    {
      "cell_type": "code",
      "source": [
        "class Pessoa:\n",
        "    def __init__(self, nome, idade):\n",
        "        self.nome = nome\n",
        "        self.idade = idade\n",
        "\n",
        "    def imprimir_dados(self):\n",
        "        print(f\"Nome: {self.nome}, Idade: {self.idade}\")"
      ],
      "metadata": {
        "id": "RNqpzQzdeYUG"
      },
      "execution_count": 25,
      "outputs": []
    },
    {
      "cell_type": "code",
      "source": [
        "pessoa1 = Pessoa(\"João\", 25)\n",
        "pessoa1.imprimir_dados()"
      ],
      "metadata": {
        "colab": {
          "base_uri": "https://localhost:8080/"
        },
        "id": "mB0aGC9nNciH",
        "outputId": "f2823054-afa7-4811-a3a0-edc6be54c5c8"
      },
      "execution_count": 26,
      "outputs": [
        {
          "output_type": "stream",
          "name": "stdout",
          "text": [
            "Nome: João, Idade: 25\n"
          ]
        }
      ]
    }
  ]
}