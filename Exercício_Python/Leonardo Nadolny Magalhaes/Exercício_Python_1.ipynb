{
  "cells": [
    {
      "cell_type": "markdown",
      "metadata": {
        "id": "f6oYv9LEcR8T"
      },
      "source": [
        "**Exercício 1 - Aquecimento de Python para Ciência de Dados**"
      ]
    },
    {
      "cell_type": "markdown",
      "metadata": {
        "id": "v4GVV_w1cYEY"
      },
      "source": [
        "1. Imprima \"Hello, World!\" no console."
      ]
    },
    {
      "cell_type": "code",
      "execution_count": 1,
      "metadata": {
        "id": "dJ12k9hPcNAg"
      },
      "outputs": [
        {
          "name": "stdout",
          "output_type": "stream",
          "text": [
            "Hello, world!\n"
          ]
        }
      ],
      "source": [
        "print('Hello, world!')"
      ]
    },
    {
      "cell_type": "markdown",
      "metadata": {
        "id": "ADK7MX25ciYu"
      },
      "source": [
        "2. Crie uma variável x com valor 10 e imprima seu valor."
      ]
    },
    {
      "cell_type": "code",
      "execution_count": 2,
      "metadata": {
        "id": "kk5h1v7ocqel"
      },
      "outputs": [
        {
          "name": "stdout",
          "output_type": "stream",
          "text": [
            "10\n"
          ]
        }
      ],
      "source": [
        "x= 10\n",
        "\n",
        "print(x)"
      ]
    },
    {
      "cell_type": "markdown",
      "metadata": {
        "id": "bKry1Lukcq6l"
      },
      "source": [
        "3. Some dois números e exiba o resultado."
      ]
    },
    {
      "cell_type": "code",
      "execution_count": 3,
      "metadata": {
        "id": "S6IyQT4Lc2vf"
      },
      "outputs": [
        {
          "name": "stdout",
          "output_type": "stream",
          "text": [
            "5\n"
          ]
        }
      ],
      "source": [
        "print(3+2)"
      ]
    },
    {
      "cell_type": "markdown",
      "metadata": {
        "id": "6BG1PN9Qc3VA"
      },
      "source": [
        "4. Verifique se um número é par ou ímpar.\n"
      ]
    },
    {
      "cell_type": "code",
      "execution_count": 4,
      "metadata": {
        "id": "K6NLPZoRc7ov"
      },
      "outputs": [
        {
          "name": "stdout",
          "output_type": "stream",
          "text": [
            "4 é par\n"
          ]
        }
      ],
      "source": [
        "x = 4\n",
        "\n",
        "if x % 2 == 0:\n",
        "    print(f'{x} é par')\n",
        "\n",
        "else:\n",
        "    print(f'{x} é impar')"
      ]
    },
    {
      "cell_type": "markdown",
      "metadata": {
        "id": "5dKg-xpvc4xs"
      },
      "source": [
        "5. Crie uma função que receba dois números e retorne a soma deles."
      ]
    },
    {
      "cell_type": "code",
      "execution_count": 5,
      "metadata": {
        "id": "iv1-9Zytc4S3"
      },
      "outputs": [
        {
          "name": "stdout",
          "output_type": "stream",
          "text": [
            "11\n"
          ]
        }
      ],
      "source": [
        "def soma(x,y):\n",
        "    return x+y\n",
        "\n",
        "a = 5\n",
        "b = 6\n",
        "\n",
        "print(soma(a,b))"
      ]
    },
    {
      "cell_type": "markdown",
      "metadata": {
        "id": "zsdBZtyjc_62"
      },
      "source": [
        "6. Crie uma lista com os números de 1 a 5 e imprima-a.\n"
      ]
    },
    {
      "cell_type": "code",
      "execution_count": 6,
      "metadata": {
        "id": "xGgkwH7jdCh-"
      },
      "outputs": [
        {
          "name": "stdout",
          "output_type": "stream",
          "text": [
            "[1, 2, 3, 4, 5]\n"
          ]
        }
      ],
      "source": [
        "lista = [1,2,3,4,5]\n",
        "\n",
        "print(lista)"
      ]
    },
    {
      "cell_type": "markdown",
      "metadata": {
        "id": "snUAe4qddFsm"
      },
      "source": [
        "7. Adicione o número 6 à lista criada na questão anterior.\n"
      ]
    },
    {
      "cell_type": "code",
      "execution_count": 7,
      "metadata": {
        "id": "QVpSgy7FdGk9"
      },
      "outputs": [
        {
          "name": "stdout",
          "output_type": "stream",
          "text": [
            "[1, 2, 3, 4, 5, 6]\n"
          ]
        }
      ],
      "source": [
        "lista.append(6)\n",
        "\n",
        "print(lista)"
      ]
    },
    {
      "cell_type": "markdown",
      "metadata": {
        "id": "4HT4BfD1dI8f"
      },
      "source": [
        "8. Remova o número 3 da lista."
      ]
    },
    {
      "cell_type": "code",
      "execution_count": 8,
      "metadata": {
        "id": "QCCxAurPdKjB"
      },
      "outputs": [
        {
          "name": "stdout",
          "output_type": "stream",
          "text": [
            "[1, 2, 4, 5, 6]\n"
          ]
        }
      ],
      "source": [
        "lista.remove(3)\n",
        "\n",
        "print(lista)"
      ]
    },
    {
      "cell_type": "markdown",
      "metadata": {
        "id": "RyI_EEltdMZt"
      },
      "source": [
        "9. Acesse o terceiro elemento da lista."
      ]
    },
    {
      "cell_type": "code",
      "execution_count": 9,
      "metadata": {
        "id": "HIkSUt_EdOSD"
      },
      "outputs": [
        {
          "name": "stdout",
          "output_type": "stream",
          "text": [
            "4\n"
          ]
        }
      ],
      "source": [
        "print(lista[2])"
      ]
    },
    {
      "cell_type": "markdown",
      "metadata": {
        "id": "yQjJYNSsdQUI"
      },
      "source": [
        "10. Imprima o tamanho da lista."
      ]
    },
    {
      "cell_type": "code",
      "execution_count": 10,
      "metadata": {
        "id": "Nz1jOedbdTR-"
      },
      "outputs": [
        {
          "name": "stdout",
          "output_type": "stream",
          "text": [
            "5\n"
          ]
        }
      ],
      "source": [
        "print(len(lista))"
      ]
    },
    {
      "cell_type": "markdown",
      "metadata": {
        "id": "2gm3RaRKdyCg"
      },
      "source": [
        "11. Crie um dicionário com informações de um carro (marca, modelo, ano)."
      ]
    },
    {
      "cell_type": "code",
      "execution_count": 11,
      "metadata": {
        "id": "gL_Svemid1kG"
      },
      "outputs": [],
      "source": [
        "carro = {\"marca\": \"Fiat\", \"modelo\": \"Palio\", \"ano\": 2019}"
      ]
    },
    {
      "cell_type": "markdown",
      "metadata": {
        "id": "ng6tNEYtd0hE"
      },
      "source": [
        "12. Acesse o valor associado à chave \"marca\" no dicionário."
      ]
    },
    {
      "cell_type": "code",
      "execution_count": 28,
      "metadata": {
        "id": "VPDbrV6Ad0Pn"
      },
      "outputs": [
        {
          "name": "stdout",
          "output_type": "stream",
          "text": [
            "Fiat\n"
          ]
        }
      ],
      "source": [
        "print(carro[\"marca\"])"
      ]
    },
    {
      "cell_type": "markdown",
      "metadata": {
        "id": "Ov93hI7Td7c9"
      },
      "source": [
        "13. Adicione uma nova chave \"cor\" com valor \"preto\" ao dicionário."
      ]
    },
    {
      "cell_type": "code",
      "execution_count": 13,
      "metadata": {
        "id": "TrQLLfpid69U"
      },
      "outputs": [
        {
          "name": "stdout",
          "output_type": "stream",
          "text": [
            "{'marca': 'Fiat', 'modelo': 'Palio', 'ano': 2019, 'cor': 'Preto'}\n"
          ]
        }
      ],
      "source": [
        "carro[\"cor\"]=\"Preto\"\n",
        "\n",
        "print(carro)"
      ]
    },
    {
      "cell_type": "markdown",
      "metadata": {
        "id": "b_5cOma2d9LP"
      },
      "source": [
        "14. Verifique se a chave \"modelo\" existe no dicionário.\n"
      ]
    },
    {
      "cell_type": "code",
      "execution_count": 14,
      "metadata": {
        "id": "DUMaXPQYd8bM"
      },
      "outputs": [
        {
          "name": "stdout",
          "output_type": "stream",
          "text": [
            "True\n"
          ]
        }
      ],
      "source": [
        "print(\"modelo\" in carro)"
      ]
    },
    {
      "cell_type": "markdown",
      "metadata": {
        "id": "Zpqnxu2ReBZH"
      },
      "source": [
        "15. Itere sobre as chaves do dicionário e imprima cada uma delas."
      ]
    },
    {
      "cell_type": "code",
      "execution_count": 15,
      "metadata": {
        "id": "4juQCK0veA-g"
      },
      "outputs": [
        {
          "name": "stdout",
          "output_type": "stream",
          "text": [
            "marca\n",
            "modelo\n",
            "ano\n",
            "cor\n"
          ]
        }
      ],
      "source": [
        "for chave in carro:\n",
        "    print(chave)"
      ]
    },
    {
      "cell_type": "markdown",
      "metadata": {
        "id": "GAoDb4pneG-j"
      },
      "source": [
        "15. Itere sobre as chaves do dicionário e imprima cada uma delas."
      ]
    },
    {
      "cell_type": "code",
      "execution_count": 17,
      "metadata": {
        "id": "aqi8-PtUeGx5"
      },
      "outputs": [
        {
          "name": "stdout",
          "output_type": "stream",
          "text": [
            "marca: Fiat\n",
            "modelo: Palio\n",
            "ano: 2019\n",
            "cor: Preto\n"
          ]
        }
      ],
      "source": [
        "for chave, valor in carro.items():\n",
        "    print(f'{chave}: {valor}')"
      ]
    },
    {
      "cell_type": "markdown",
      "metadata": {
        "id": "oxI3BVhteGhH"
      },
      "source": [
        "17. Crie uma função que receba uma lista e retorne a soma dos elementos."
      ]
    },
    {
      "cell_type": "code",
      "execution_count": 18,
      "metadata": {
        "id": "Ijnkd3cJeMM_"
      },
      "outputs": [
        {
          "name": "stdout",
          "output_type": "stream",
          "text": [
            "15\n"
          ]
        }
      ],
      "source": [
        "def soma_lista(lista):\n",
        "    return sum(lista)\n",
        "\n",
        "listou = [1,2,3,4,5]\n",
        "\n",
        "print(soma_lista(listou))\n"
      ]
    },
    {
      "cell_type": "markdown",
      "metadata": {
        "id": "Abqc7zdfeNl7"
      },
      "source": [
        "18. Crie uma função que receba um dicionário e retorne todas as suas chaves.\n"
      ]
    },
    {
      "cell_type": "code",
      "execution_count": 19,
      "metadata": {
        "id": "ZbHQ9bipeQc3"
      },
      "outputs": [
        {
          "name": "stdout",
          "output_type": "stream",
          "text": [
            "dict_keys(['marca', 'modelo', 'ano', 'cor'])\n"
          ]
        }
      ],
      "source": [
        "print(carro.keys())"
      ]
    },
    {
      "cell_type": "markdown",
      "metadata": {
        "id": "wF_R9JlDeNip"
      },
      "source": [
        "\n",
        "19. Crie uma função que receba um dicionário e imprima chave e valor em linhas separadas."
      ]
    },
    {
      "cell_type": "code",
      "execution_count": 20,
      "metadata": {
        "id": "ONvkXUDWeVX3"
      },
      "outputs": [
        {
          "name": "stdout",
          "output_type": "stream",
          "text": [
            "marca: Fiat\n",
            "modelo: Palio\n",
            "ano: 2019\n",
            "cor: Preto\n"
          ]
        }
      ],
      "source": [
        "def print_dict(dicio):\n",
        "    for k,v in dicio.items():\n",
        "        print(f'{k}: {v}')\n",
        "\n",
        "print_dict(carro)"
      ]
    },
    {
      "cell_type": "markdown",
      "metadata": {
        "id": "5ZSYRpJ-eM4s"
      },
      "source": [
        "20. Crie uma classe chamada Pessoa com atributos nome e idade, e um método que imprima esses dados."
      ]
    },
    {
      "cell_type": "code",
      "execution_count": 27,
      "metadata": {
        "id": "RNqpzQzdeYUG"
      },
      "outputs": [
        {
          "name": "stdout",
          "output_type": "stream",
          "text": [
            "Nome: Leonardo / Idade: 27\n"
          ]
        }
      ],
      "source": [
        "class Pessoa:\n",
        "    def __init__(self, nome, idade):\n",
        "        self.nome = nome\n",
        "        self.idade = idade\n",
        "\n",
        "    def imprime_pessoa(self):  \n",
        "        print(f'Nome: {self.nome} / Idade: {self.idade}')  \n",
        "\n",
        "person = Pessoa('Leonardo', 27)\n",
        "\n",
        "person.imprime_pessoa()\n"
      ]
    },
    {
      "cell_type": "code",
      "execution_count": null,
      "metadata": {},
      "outputs": [],
      "source": []
    }
  ],
  "metadata": {
    "colab": {
      "provenance": []
    },
    "kernelspec": {
      "display_name": "Python 3",
      "name": "python3"
    },
    "language_info": {
      "codemirror_mode": {
        "name": "ipython",
        "version": 3
      },
      "file_extension": ".py",
      "mimetype": "text/x-python",
      "name": "python",
      "nbconvert_exporter": "python",
      "pygments_lexer": "ipython3",
      "version": "3.11.4"
    }
  },
  "nbformat": 4,
  "nbformat_minor": 0
}
