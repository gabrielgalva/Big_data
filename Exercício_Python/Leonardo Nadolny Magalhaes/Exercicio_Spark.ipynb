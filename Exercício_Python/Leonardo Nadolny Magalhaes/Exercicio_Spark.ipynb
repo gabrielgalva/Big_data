{
 "cells": [
  {
   "cell_type": "code",
   "execution_count": 1,
   "metadata": {},
   "outputs": [
    {
     "name": "stderr",
     "output_type": "stream",
     "text": [
      "c:\\Users\\leona\\AppData\\Local\\Programs\\Python\\Python311\\Lib\\site-packages\\tqdm\\auto.py:21: TqdmWarning: IProgress not found. Please update jupyter and ipywidgets. See https://ipywidgets.readthedocs.io/en/stable/user_install.html\n",
      "  from .autonotebook import tqdm as notebook_tqdm\n"
     ]
    },
    {
     "name": "stdout",
     "output_type": "stream",
     "text": [
      "Downloading from https://www.kaggle.com/api/v1/datasets/download/wyattowalsh/basketball?dataset_version_number=231...\n"
     ]
    },
    {
     "name": "stderr",
     "output_type": "stream",
     "text": [
      "100%|██████████| 697M/697M [00:23<00:00, 31.1MB/s] "
     ]
    },
    {
     "name": "stdout",
     "output_type": "stream",
     "text": [
      "Extracting files...\n"
     ]
    },
    {
     "name": "stderr",
     "output_type": "stream",
     "text": [
      "\n"
     ]
    },
    {
     "name": "stdout",
     "output_type": "stream",
     "text": [
      "Path to dataset files: C:\\Users\\leona\\.cache\\kagglehub\\datasets\\wyattowalsh\\basketball\\versions\\231\n"
     ]
    }
   ],
   "source": [
    "import kagglehub\n",
    "\n",
    "# Download latest version\n",
    "path = kagglehub.dataset_download(\"wyattowalsh/basketball\")\n",
    "\n",
    "print(\"Path to dataset files:\", path)"
   ]
  },
  {
   "cell_type": "code",
   "execution_count": 2,
   "metadata": {},
   "outputs": [],
   "source": [
    "# Iniciar uma Sessão Spark\n",
    "from pyspark.sql import SparkSession\n",
    "\n",
    "spark = SparkSession.builder \\\n",
    "    .appName(\"ExemploPySpark\") \\\n",
    "    .getOrCreate()"
   ]
  },
  {
   "cell_type": "markdown",
   "metadata": {},
   "source": [
    "**Comparando métodos do pandas x métodos do PySpark**\n",
    "\n",
    "Leitura de Dados:"
   ]
  },
  {
   "cell_type": "code",
   "execution_count": 3,
   "metadata": {},
   "outputs": [],
   "source": [
    "import pandas as pd\n",
    "df_pandas = pd.read_csv(r\"C:\\Users\\leona\\.cache\\kagglehub\\datasets\\wyattowalsh\\basketball\\versions\\231\\csv\\game.csv\")"
   ]
  },
  {
   "cell_type": "code",
   "execution_count": 5,
   "metadata": {},
   "outputs": [
    {
     "data": {
      "text/html": [
       "<div>\n",
       "<style scoped>\n",
       "    .dataframe tbody tr th:only-of-type {\n",
       "        vertical-align: middle;\n",
       "    }\n",
       "\n",
       "    .dataframe tbody tr th {\n",
       "        vertical-align: top;\n",
       "    }\n",
       "\n",
       "    .dataframe thead th {\n",
       "        text-align: right;\n",
       "    }\n",
       "</style>\n",
       "<table border=\"1\" class=\"dataframe\">\n",
       "  <thead>\n",
       "    <tr style=\"text-align: right;\">\n",
       "      <th></th>\n",
       "      <th>season_id</th>\n",
       "      <th>team_id_home</th>\n",
       "      <th>team_abbreviation_home</th>\n",
       "      <th>team_name_home</th>\n",
       "      <th>game_id</th>\n",
       "      <th>game_date</th>\n",
       "      <th>matchup_home</th>\n",
       "      <th>wl_home</th>\n",
       "      <th>min</th>\n",
       "      <th>fgm_home</th>\n",
       "      <th>...</th>\n",
       "      <th>reb_away</th>\n",
       "      <th>ast_away</th>\n",
       "      <th>stl_away</th>\n",
       "      <th>blk_away</th>\n",
       "      <th>tov_away</th>\n",
       "      <th>pf_away</th>\n",
       "      <th>pts_away</th>\n",
       "      <th>plus_minus_away</th>\n",
       "      <th>video_available_away</th>\n",
       "      <th>season_type</th>\n",
       "    </tr>\n",
       "  </thead>\n",
       "  <tbody>\n",
       "    <tr>\n",
       "      <th>65694</th>\n",
       "      <td>42022</td>\n",
       "      <td>1610612748</td>\n",
       "      <td>MIA</td>\n",
       "      <td>Miami Heat</td>\n",
       "      <td>42200404</td>\n",
       "      <td>2023-06-09 00:00:00</td>\n",
       "      <td>MIA vs. DEN</td>\n",
       "      <td>L</td>\n",
       "      <td>240</td>\n",
       "      <td>35.0</td>\n",
       "      <td>...</td>\n",
       "      <td>34.0</td>\n",
       "      <td>26.0</td>\n",
       "      <td>11.0</td>\n",
       "      <td>7.0</td>\n",
       "      <td>8.0</td>\n",
       "      <td>18.0</td>\n",
       "      <td>108.0</td>\n",
       "      <td>13</td>\n",
       "      <td>1</td>\n",
       "      <td>Playoffs</td>\n",
       "    </tr>\n",
       "    <tr>\n",
       "      <th>65695</th>\n",
       "      <td>42022</td>\n",
       "      <td>1610612743</td>\n",
       "      <td>DEN</td>\n",
       "      <td>Denver Nuggets</td>\n",
       "      <td>42200405</td>\n",
       "      <td>2023-06-12 00:00:00</td>\n",
       "      <td>DEN vs. MIA</td>\n",
       "      <td>W</td>\n",
       "      <td>240</td>\n",
       "      <td>38.0</td>\n",
       "      <td>...</td>\n",
       "      <td>44.0</td>\n",
       "      <td>18.0</td>\n",
       "      <td>9.0</td>\n",
       "      <td>7.0</td>\n",
       "      <td>8.0</td>\n",
       "      <td>21.0</td>\n",
       "      <td>89.0</td>\n",
       "      <td>-5</td>\n",
       "      <td>1</td>\n",
       "      <td>Playoffs</td>\n",
       "    </tr>\n",
       "    <tr>\n",
       "      <th>65696</th>\n",
       "      <td>32022</td>\n",
       "      <td>1610616834</td>\n",
       "      <td>LBN</td>\n",
       "      <td>Team LeBron</td>\n",
       "      <td>32200001</td>\n",
       "      <td>2023-02-19 00:00:00</td>\n",
       "      <td>LBN vs. GNS</td>\n",
       "      <td>L</td>\n",
       "      <td>221</td>\n",
       "      <td>79.0</td>\n",
       "      <td>...</td>\n",
       "      <td>46.0</td>\n",
       "      <td>43.0</td>\n",
       "      <td>8.0</td>\n",
       "      <td>1.0</td>\n",
       "      <td>12.0</td>\n",
       "      <td>2.0</td>\n",
       "      <td>184.0</td>\n",
       "      <td>9</td>\n",
       "      <td>1</td>\n",
       "      <td>All-Star</td>\n",
       "    </tr>\n",
       "    <tr>\n",
       "      <th>65697</th>\n",
       "      <td>32022</td>\n",
       "      <td>1610616834</td>\n",
       "      <td>LBN</td>\n",
       "      <td>Team LeBron</td>\n",
       "      <td>32200001</td>\n",
       "      <td>2023-02-19 00:00:00</td>\n",
       "      <td>LBN vs. GNS</td>\n",
       "      <td>L</td>\n",
       "      <td>221</td>\n",
       "      <td>79.0</td>\n",
       "      <td>...</td>\n",
       "      <td>46.0</td>\n",
       "      <td>43.0</td>\n",
       "      <td>8.0</td>\n",
       "      <td>1.0</td>\n",
       "      <td>12.0</td>\n",
       "      <td>2.0</td>\n",
       "      <td>184.0</td>\n",
       "      <td>9</td>\n",
       "      <td>1</td>\n",
       "      <td>All Star</td>\n",
       "    </tr>\n",
       "  </tbody>\n",
       "</table>\n",
       "<p>4 rows × 55 columns</p>\n",
       "</div>"
      ],
      "text/plain": [
       "       season_id  team_id_home team_abbreviation_home  team_name_home  \\\n",
       "65694      42022    1610612748                    MIA      Miami Heat   \n",
       "65695      42022    1610612743                    DEN  Denver Nuggets   \n",
       "65696      32022    1610616834                    LBN     Team LeBron   \n",
       "65697      32022    1610616834                    LBN     Team LeBron   \n",
       "\n",
       "        game_id            game_date matchup_home wl_home  min  fgm_home  ...  \\\n",
       "65694  42200404  2023-06-09 00:00:00  MIA vs. DEN       L  240      35.0  ...   \n",
       "65695  42200405  2023-06-12 00:00:00  DEN vs. MIA       W  240      38.0  ...   \n",
       "65696  32200001  2023-02-19 00:00:00  LBN vs. GNS       L  221      79.0  ...   \n",
       "65697  32200001  2023-02-19 00:00:00  LBN vs. GNS       L  221      79.0  ...   \n",
       "\n",
       "       reb_away  ast_away  stl_away  blk_away  tov_away  pf_away  pts_away  \\\n",
       "65694      34.0      26.0      11.0       7.0       8.0     18.0     108.0   \n",
       "65695      44.0      18.0       9.0       7.0       8.0     21.0      89.0   \n",
       "65696      46.0      43.0       8.0       1.0      12.0      2.0     184.0   \n",
       "65697      46.0      43.0       8.0       1.0      12.0      2.0     184.0   \n",
       "\n",
       "       plus_minus_away  video_available_away  season_type  \n",
       "65694               13                     1     Playoffs  \n",
       "65695               -5                     1     Playoffs  \n",
       "65696                9                     1     All-Star  \n",
       "65697                9                     1     All Star  \n",
       "\n",
       "[4 rows x 55 columns]"
      ]
     },
     "execution_count": 5,
     "metadata": {},
     "output_type": "execute_result"
    }
   ],
   "source": [
    "df_pandas.tail(4)"
   ]
  },
  {
   "cell_type": "code",
   "execution_count": 6,
   "metadata": {},
   "outputs": [],
   "source": [
    "from pyspark.sql import SparkSession\n",
    "\n",
    "spark = SparkSession.builder.appName(\"ExemploLeitura\").getOrCreate()\n",
    "\n",
    "# Leitura de um arquivo CSV\n",
    "df_pyspark = spark.read.csv(r\"C:\\Users\\leona\\.cache\\kagglehub\\datasets\\wyattowalsh\\basketball\\versions\\231\\csv\\game.csv\", header=True, inferSchema=True)"
   ]
  },
  {
   "cell_type": "code",
   "execution_count": 7,
   "metadata": {},
   "outputs": [
    {
     "name": "stdout",
     "output_type": "stream",
     "text": [
      "season_id\n",
      "team_id_home\n",
      "team_abbreviation_home\n",
      "team_name_home\n",
      "game_id\n",
      "game_date\n",
      "matchup_home\n",
      "wl_home\n",
      "min\n",
      "fgm_home\n",
      "fga_home\n",
      "fg_pct_home\n",
      "fg3m_home\n",
      "fg3a_home\n",
      "fg3_pct_home\n",
      "ftm_home\n",
      "fta_home\n",
      "ft_pct_home\n",
      "oreb_home\n",
      "dreb_home\n",
      "reb_home\n",
      "ast_home\n",
      "stl_home\n",
      "blk_home\n",
      "tov_home\n",
      "pf_home\n",
      "pts_home\n",
      "plus_minus_home\n",
      "video_available_home\n",
      "team_id_away\n",
      "team_abbreviation_away\n",
      "team_name_away\n",
      "matchup_away\n",
      "wl_away\n",
      "fgm_away\n",
      "fga_away\n",
      "fg_pct_away\n",
      "fg3m_away\n",
      "fg3a_away\n",
      "fg3_pct_away\n",
      "ftm_away\n",
      "fta_away\n",
      "ft_pct_away\n",
      "oreb_away\n",
      "dreb_away\n",
      "reb_away\n",
      "ast_away\n",
      "stl_away\n",
      "blk_away\n",
      "tov_away\n",
      "pf_away\n",
      "pts_away\n",
      "plus_minus_away\n",
      "video_available_away\n",
      "season_type\n"
     ]
    }
   ],
   "source": [
    "#Nomes das colunas\n",
    "for i in df_pandas.columns:\n",
    "  print(i)"
   ]
  },
  {
   "cell_type": "markdown",
   "metadata": {},
   "source": [
    "Seleção de Colunas:"
   ]
  },
  {
   "cell_type": "code",
   "execution_count": 8,
   "metadata": {},
   "outputs": [],
   "source": [
    "# Seleciona colunas específicas - Pandas\n",
    "df_selecionado_pandas = df_pandas[['team_name_home', 'game_date','matchup_home']]"
   ]
  },
  {
   "cell_type": "code",
   "execution_count": 9,
   "metadata": {},
   "outputs": [],
   "source": [
    "# Seleciona colunas específicas - PySpark\n",
    "df_selecionado_spark = df_pyspark.select('team_name_home', 'game_date','matchup_home')"
   ]
  },
  {
   "cell_type": "markdown",
   "metadata": {},
   "source": [
    "Filtragem de Dados:"
   ]
  },
  {
   "cell_type": "code",
   "execution_count": 11,
   "metadata": {},
   "outputs": [],
   "source": [
    "# Filtrando o DataFrame para datas após 1 de janeiro de 2023\n",
    "df_filtrado_pandas = df_pandas[df_pandas['game_date'] > '2023-01-01 00:00:00']"
   ]
  },
  {
   "cell_type": "code",
   "execution_count": 12,
   "metadata": {},
   "outputs": [],
   "source": [
    "# Filtrando o DataFrame para datas após 1 de janeiro de 2023\n",
    "df_filtrado_spark = df_pyspark.filter(df_pyspark.game_date > '2023-01-01 00:00:00')"
   ]
  },
  {
   "cell_type": "markdown",
   "metadata": {},
   "source": [
    "Agregações:"
   ]
  },
  {
   "cell_type": "code",
   "execution_count": 13,
   "metadata": {},
   "outputs": [],
   "source": [
    "# Calcula a média dos pontos em casa agrupada pelo nome da equipe\n",
    "df_agregado_pandas = df_pandas.groupby('team_name_home')['pts_home'].mean().reset_index()"
   ]
  },
  {
   "cell_type": "code",
   "execution_count": 14,
   "metadata": {},
   "outputs": [],
   "source": [
    "from pyspark.sql.functions import avg\n",
    "\n",
    "# Calcula a média dos pontos em casa (pts_home) agrupada pelo nome da equipe (team_name_home)\n",
    "df_agregado_spark = df_pyspark.groupBy(\"team_name_home\").agg(avg(\"pts_home\").alias(\"media_pts_home\"))\n"
   ]
  },
  {
   "cell_type": "code",
   "execution_count": 15,
   "metadata": {},
   "outputs": [
    {
     "name": "stdout",
     "output_type": "stream",
     "text": [
      "+--------------------+-------------------+------------+\n",
      "|      team_name_home|          game_date|matchup_home|\n",
      "+--------------------+-------------------+------------+\n",
      "|     Toronto Huskies|1946-11-01 00:00:00| HUS vs. NYK|\n",
      "|   St. Louis Bombers|1946-11-02 00:00:00| BOM vs. PIT|\n",
      "|Providence Steamr...|1946-11-02 00:00:00| PRO vs. BOS|\n",
      "|       Chicago Stags|1946-11-02 00:00:00| CHS vs. NYK|\n",
      "|     Detroit Falcons|1946-11-02 00:00:00| DEF vs. WAS|\n",
      "+--------------------+-------------------+------------+\n",
      "only showing top 5 rows\n",
      "\n",
      "+---------+------------+----------------------+--------------------+--------+-------------------+------------+-------+---+--------+--------+-----------+---------+---------+------------+--------+--------+-----------+---------+---------+--------+--------+--------+--------+--------+-------+--------+---------------+--------------------+------------+----------------------+-----------------+------------+-------+--------+--------+-----------+---------+---------+------------+--------+--------+-----------+---------+---------+--------+--------+--------+--------+--------+-------+--------+---------------+--------------------+--------------+\n",
      "|season_id|team_id_home|team_abbreviation_home|      team_name_home| game_id|          game_date|matchup_home|wl_home|min|fgm_home|fga_home|fg_pct_home|fg3m_home|fg3a_home|fg3_pct_home|ftm_home|fta_home|ft_pct_home|oreb_home|dreb_home|reb_home|ast_home|stl_home|blk_home|tov_home|pf_home|pts_home|plus_minus_home|video_available_home|team_id_away|team_abbreviation_away|   team_name_away|matchup_away|wl_away|fgm_away|fga_away|fg_pct_away|fg3m_away|fg3a_away|fg3_pct_away|ftm_away|fta_away|ft_pct_away|oreb_away|dreb_away|reb_away|ast_away|stl_away|blk_away|tov_away|pf_away|pts_away|plus_minus_away|video_available_away|   season_type|\n",
      "+---------+------------+----------------------+--------------------+--------+-------------------+------------+-------+---+--------+--------+-----------+---------+---------+------------+--------+--------+-----------+---------+---------+--------+--------+--------+--------+--------+-------+--------+---------------+--------------------+------------+----------------------+-----------------+------------+-------+--------+--------+-----------+---------+---------+------------+--------+--------+-----------+---------+---------+--------+--------+--------+--------+--------+-------+--------+---------------+--------------------+--------------+\n",
      "|    22022|  1610612744|                   GSW|Golden State Warr...|22200558|2023-01-02 00:00:00| GSW vs. ATL|      W|290|    54.0|   121.0|      0.446|     19.0|     59.0|       0.322|    16.0|    24.0|      0.667|     23.0|     46.0|    69.0|    34.0|     9.0|     6.0|    19.0|   23.0|   143.0|              2|                   1|  1610612737|                   ATL|    Atlanta Hawks|   ATL @ GSW|      L|    53.0|   109.0|      0.486|     11.0|     35.0|       0.314|    24.0|    29.0|      0.828|     10.0|     43.0|    53.0|    30.0|     9.0|    10.0|    13.0|   17.0|   141.0|             -2|                   1|Regular Season|\n",
      "|    22022|  1610612745|                   HOU|     Houston Rockets|22200556|2023-01-02 00:00:00| HOU vs. DAL|      L|240|    38.0|    82.0|      0.463|      9.0|     29.0|        0.31|    21.0|    29.0|      0.724|      8.0|     38.0|    46.0|    21.0|     4.0|     4.0|    10.0|   28.0|   106.0|             -5|                   1|  1610612742|                   DAL| Dallas Mavericks|   DAL @ HOU|      W|    34.0|    81.0|       0.42|     13.0|     43.0|       0.302|    30.0|    34.0|      0.882|      8.0|     33.0|    41.0|    19.0|     8.0|     6.0|     8.0|   19.0|   111.0|              5|                   1|Regular Season|\n",
      "|    22022|  1610612746|                   LAC|         LA Clippers|22200560|2023-01-02 00:00:00| LAC vs. MIA|      L|240|    29.0|    67.0|      0.433|     12.0|     29.0|       0.414|    30.0|    34.0|      0.882|      3.0|     31.0|    34.0|    19.0|     7.0|     1.0|    15.0|   18.0|   100.0|            -10|                   1|  1610612748|                   MIA|       Miami Heat|   MIA @ LAC|      W|    39.0|    85.0|      0.459|     12.0|     36.0|       0.333|    20.0|    24.0|      0.833|     12.0|     36.0|    48.0|    22.0|     7.0|     2.0|    11.0|   23.0|   110.0|             10|                   1|Regular Season|\n",
      "|    22022|  1610612751|                   BKN|       Brooklyn Nets|22200555|2023-01-02 00:00:00| BKN vs. SAS|      W|240|    58.0|    93.0|      0.624|     11.0|     20.0|        0.55|    12.0|    15.0|        0.8|      7.0|     38.0|    45.0|    31.0|    13.0|     7.0|    13.0|   16.0|   139.0|             36|                   1|  1610612759|                   SAS|San Antonio Spurs|   SAS @ BKN|      L|    42.0|    97.0|      0.433|      8.0|     31.0|       0.258|    11.0|    18.0|      0.611|     15.0|     28.0|    43.0|    26.0|     5.0|     4.0|    18.0|   13.0|   103.0|            -36|                   1|Regular Season|\n",
      "|    22022|  1610612739|                   CLE| Cleveland Cavaliers|22200552|2023-01-02 00:00:00| CLE vs. CHI|      W|265|    48.0|    92.0|      0.522|     16.0|     46.0|       0.348|    33.0|    45.0|      0.733|     13.0|     34.0|    47.0|    27.0|     1.0|     3.0|    10.0|   27.0|   145.0|             11|                   1|  1610612741|                   CHI|    Chicago Bulls|   CHI @ CLE|      L|    47.0|    95.0|      0.495|     10.0|     33.0|       0.303|    30.0|    34.0|      0.882|      6.0|     36.0|    42.0|    22.0|     8.0|     2.0|     7.0|   33.0|   134.0|            -11|                   1|Regular Season|\n",
      "+---------+------------+----------------------+--------------------+--------+-------------------+------------+-------+---+--------+--------+-----------+---------+---------+------------+--------+--------+-----------+---------+---------+--------+--------+--------+--------+--------+-------+--------+---------------+--------------------+------------+----------------------+-----------------+------------+-------+--------+--------+-----------+---------+---------+------------+--------+--------+-----------+---------+---------+--------+--------+--------+--------+--------+-------+--------+---------------+--------------------+--------------+\n",
      "only showing top 5 rows\n",
      "\n",
      "+-----------------+------------------+\n",
      "|   team_name_home|    media_pts_home|\n",
      "+-----------------+------------------+\n",
      "|     Phoenix Suns| 109.7381269418553|\n",
      "|   Boston Celtics|106.27848911651729|\n",
      "|St. Louis Bombers|             71.16|\n",
      "|Kansas City Kings|112.17109144542773|\n",
      "| Dallas Mavericks|105.03655210038188|\n",
      "+-----------------+------------------+\n",
      "only showing top 5 rows\n",
      "\n"
     ]
    }
   ],
   "source": [
    "df_selecionado_spark.show(5)\n",
    "df_filtrado_spark.show(5)\n",
    "df_agregado_spark.show(5)"
   ]
  },
  {
   "cell_type": "markdown",
   "metadata": {},
   "source": [
    "Junções (Joins):"
   ]
  },
  {
   "cell_type": "code",
   "execution_count": 16,
   "metadata": {},
   "outputs": [],
   "source": [
    "df1 = pd.read_csv(r\"C:\\Users\\leona\\.cache\\kagglehub\\datasets\\wyattowalsh\\basketball\\versions\\231\\csv\\game.csv\")\n",
    "df2 = pd.read_csv(r\"C:\\Users\\leona\\.cache\\kagglehub\\datasets\\wyattowalsh\\basketball\\versions\\231\\csv\\game_info.csv\")\n",
    "df_juncao = pd.merge(df1, df2, on=\"game_id\", how=\"left\")"
   ]
  },
  {
   "cell_type": "code",
   "execution_count": 17,
   "metadata": {},
   "outputs": [],
   "source": [
    "# Junção de dois DataFrames PySpark\n",
    "df1 = spark.read.csv(r\"C:\\Users\\leona\\.cache\\kagglehub\\datasets\\wyattowalsh\\basketball\\versions\\231\\csv\\game.csv\", header=True, inferSchema=True)\n",
    "df2 = spark.read.csv(r\"C:\\Users\\leona\\.cache\\kagglehub\\datasets\\wyattowalsh\\basketball\\versions\\231\\csv\\game_info.csv\", header=True, inferSchema=True)\n",
    "df_juncao = df1.join(df2, on=\"game_id\", how=\"left\")"
   ]
  }
 ],
 "metadata": {
  "kernelspec": {
   "display_name": "Python 3",
   "language": "python",
   "name": "python3"
  },
  "language_info": {
   "codemirror_mode": {
    "name": "ipython",
    "version": 3
   },
   "file_extension": ".py",
   "mimetype": "text/x-python",
   "name": "python",
   "nbconvert_exporter": "python",
   "pygments_lexer": "ipython3",
   "version": "3.11.4"
  }
 },
 "nbformat": 4,
 "nbformat_minor": 2
}
