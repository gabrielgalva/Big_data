{
  "nbformat": 4,
  "nbformat_minor": 0,
  "metadata": {
    "colab": {
      "provenance": []
    },
    "kernelspec": {
      "name": "python3",
      "display_name": "Python 3"
    },
    "language_info": {
      "name": "python"
    }
  },
  "cells": [
    {
      "cell_type": "markdown",
      "source": [
        "# **Map Reduce**\n",
        "\n",
        "## **O que é ?**\n",
        "O MapReduce é um modelo de programação distribuída que divide uma tarefa em pequenas sub-tarefas, distribuindo essas sub-tarefas por várias máquinas em um cluster. Cada máquina processa a sua sub-tarefa e retorna os resultados ao sistema, que os combina para formar o resultado final.\n",
        "\n",
        "O modelo é composto por duas etapas: Map e Reduce.\n",
        "\n",
        "## **Etapa de Map**\n",
        "\n",
        " Inicialmente, os dados de entrada são divididos em blocos menores. O framework Hadoop então determina quantos mappers serão usados, com base no tamanho dos dados a serem processados e na capacidade de memória disponível em cada servidor de mapeamento. Cada bloco é atribuído a um mapeador para processamento. Cada nó de trabalho (worker) aplica a função de mapeamento aos dados locais e grava a saída em um armazenamento temporário. O nó principal (master) garante que apenas uma cópia dos dados redundantes de entrada seja processada.\n",
        "\n",
        "## **Etapa de Reduce**\n",
        "\n",
        "Um reducer não pode iniciar enquanto um mapper ainda está em execução. Os nós de trabalho processam cada grupo de pares de dados <chave, valor> de saída, em paralelo, para gerar novos pares <chave, valor> como resultado. Todos os valores de saída do map que possuem a mesma chave são atribuídos a um único reducer, que então agrega os valores para essa chave. Diferente da função map, que é obrigatória para filtrar e organizar os dados iniciais, a função reduce é opcional.\n",
        "\n",
        "## **Implementação Prática do MapReduce com Python**\n",
        "Vamos implementar um exemplo de MapReduce em Python para contar a frequência de palavras em um texto. Neste exemplo, o Map irá separar as palavras e o Reduce irá somar as ocorrências de cada palavra.\n",
        "\n",
        "\n",
        "## **Explicação do Código**\n",
        "**Dados de entrada**: A lista data contém linhas de texto para processamento.\n",
        "Função Map (map_function): Recebe cada linha, divide em palavras e retorna uma lista de pares (palavra, 1).\n",
        "\n",
        "\n",
        "**Função Reduce (reduce_function)**: Recebe a lista de pares (palavra, 1) e usa um dicionário para contar quantas vezes cada palavra aparece.\n",
        "\n",
        "\n",
        "**Pipeline MapReduce**: Primeiro, a função map_function é aplicada a cada linha. Em seguida, os pares de chave-valor resultantes são agregados pela função reduce_function."
      ],
      "metadata": {
        "id": "oR_rw93uRCt-"
      }
    },
    {
      "cell_type": "code",
      "execution_count": 3,
      "metadata": {
        "id": "7UP2_1JLQ7kp",
        "colab": {
          "base_uri": "https://localhost:8080/"
        },
        "outputId": "ca7300a7-cc2e-4a12-fe93-59f441604ea9"
      },
      "outputs": [
        {
          "output_type": "stream",
          "name": "stdout",
          "text": [
            "Contagem de palavras:\n",
            "mapreduce: 7\n",
            "é: 7\n",
            "um: 1\n",
            "modelo: 1\n",
            "de: 3\n",
            "programação: 1\n",
            "permite: 1\n",
            "o: 1\n",
            "processamento: 1\n",
            "grandes: 1\n",
            "volumes: 1\n",
            "dados: 1\n",
            "python: 1\n",
            "pode: 1\n",
            "ser: 1\n",
            "usado: 1\n",
            "para: 2\n",
            "implementar: 1\n",
            "eficiente: 1\n",
            "big: 1\n",
            "data: 1\n",
            "legal: 4\n",
            "muito: 3\n",
            "esfiha: 1\n",
            "mas: 1\n",
            "não: 1\n",
            "paralela: 1\n"
          ]
        }
      ],
      "source": [
        "from collections import defaultdict\n",
        "\n",
        "# Dados de entrada: um texto simples\n",
        "data = [\n",
        "    \"MapReduce é um modelo de programação\",\n",
        "    \"MapReduce permite o processamento de grandes volumes de dados\",\n",
        "    \"Python pode ser usado para implementar MapReduce\",\n",
        "    \"MapReduce é eficiente para Big Data\",\n",
        "    \"MapReduce é legal\",\n",
        "    \"MapReduce é muito legal\",\n",
        "    \"MapReduce é muito muito legal\",\n",
        "    \"Esfiha é legal mas não é paralela\"\n",
        "]\n",
        "\n",
        "# Função Map: Recebe uma linha e retorna pares (palavra, 1)\n",
        "def map_function(line):\n",
        "    words = line.split()\n",
        "    return [(word.lower(), 1) for word in words]\n",
        "\n",
        "# Função Reduce: Recebe uma lista de (chave, [valores]) e retorna (chave, soma dos valores)\n",
        "def reduce_function(mapped_data):\n",
        "    reduced_data = defaultdict(int)\n",
        "    for word, count in mapped_data:\n",
        "        reduced_data[word] += count\n",
        "    return reduced_data\n",
        "\n",
        "# Pipeline MapReduce\n",
        "\n",
        "# Passo 1: Aplicar a função map a cada linha do texto\n",
        "mapped_data = []\n",
        "for line in data:\n",
        "    mapped_data.extend(map_function(line))\n",
        "\n",
        "# Passo 2: Aplicar a função reduce para agregar os valores por chave\n",
        "word_counts = reduce_function(mapped_data)\n",
        "\n",
        "# Exibir o resultado\n",
        "print(\"Contagem de palavras:\")\n",
        "for word, count in word_counts.items():\n",
        "    print(f\"{word}: {count}\")"
      ]
    },
    {
      "cell_type": "markdown",
      "source": [
        "# **Parquet**\n",
        "\n",
        "O Parquet é um tipo de arquivo criado para armazenar informações de maneira eficaz e compacta, sendo particularmente vantajoso para lidar com grandes quantidades de dados. Desenvolvido inicialmente pela Apache, ele foi concebido para ambientes de Big Data e se diferencia pelo armazenamento em formato de colunas, facilitando a leitura rápida de colunas específicas. Esse formato é amplamente adotado em ferramentas de processamento de dados como Apache Spark, Hive e outras baseadas em Hadoop, além de ser compatível com o Pandas no Python."
      ],
      "metadata": {
        "id": "BcCb3uNkjTDB"
      }
    },
    {
      "cell_type": "code",
      "source": [
        "#Instalando nossas dependências\n",
        "!pip install pandas pyarrow pyspark"
      ],
      "metadata": {
        "id": "2D0oAWkph2gy",
        "colab": {
          "base_uri": "https://localhost:8080/"
        },
        "outputId": "9c8079da-db2c-4ccd-f596-84cb4dfe7eb9"
      },
      "execution_count": 4,
      "outputs": [
        {
          "output_type": "stream",
          "name": "stdout",
          "text": [
            "Requirement already satisfied: pandas in /usr/local/lib/python3.10/dist-packages (2.2.2)\n",
            "Requirement already satisfied: pyarrow in /usr/local/lib/python3.10/dist-packages (16.1.0)\n",
            "Requirement already satisfied: pyspark in /usr/local/lib/python3.10/dist-packages (3.5.3)\n",
            "Requirement already satisfied: numpy>=1.22.4 in /usr/local/lib/python3.10/dist-packages (from pandas) (1.26.4)\n",
            "Requirement already satisfied: python-dateutil>=2.8.2 in /usr/local/lib/python3.10/dist-packages (from pandas) (2.8.2)\n",
            "Requirement already satisfied: pytz>=2020.1 in /usr/local/lib/python3.10/dist-packages (from pandas) (2024.2)\n",
            "Requirement already satisfied: tzdata>=2022.7 in /usr/local/lib/python3.10/dist-packages (from pandas) (2024.2)\n",
            "Requirement already satisfied: py4j==0.10.9.7 in /usr/local/lib/python3.10/dist-packages (from pyspark) (0.10.9.7)\n",
            "Requirement already satisfied: six>=1.5 in /usr/local/lib/python3.10/dist-packages (from python-dateutil>=2.8.2->pandas) (1.16.0)\n"
          ]
        }
      ]
    },
    {
      "cell_type": "code",
      "source": [
        "import kagglehub\n",
        "\n",
        "path = kagglehub.dataset_download(\"dhruvildave/spotify-charts\")\n",
        "\n",
        "print(\"Path local:\", path)\n",
        "\n",
        "# Listar todos os arquivos dentro do repositório\n",
        "\n",
        "import os\n",
        "\n",
        "for dirname, _, filenames in os.walk(path):\n",
        "    for filename in filenames:\n",
        "        print(os.path.join(dirname, filename))\n",
        "\n"
      ],
      "metadata": {
        "colab": {
          "base_uri": "https://localhost:8080/"
        },
        "id": "KQVy-WLWlVpF",
        "outputId": "62616e04-5c66-4716-a073-9524ca119bbd"
      },
      "execution_count": 5,
      "outputs": [
        {
          "output_type": "stream",
          "name": "stdout",
          "text": [
            "Downloading from https://www.kaggle.com/api/v1/datasets/download/dhruvildave/spotify-charts?dataset_version_number=85...\n"
          ]
        },
        {
          "output_type": "stream",
          "name": "stderr",
          "text": [
            "100%|██████████| 945M/945M [00:43<00:00, 22.8MB/s]"
          ]
        },
        {
          "output_type": "stream",
          "name": "stdout",
          "text": [
            "Extracting files...\n"
          ]
        },
        {
          "output_type": "stream",
          "name": "stderr",
          "text": [
            "\n"
          ]
        },
        {
          "output_type": "stream",
          "name": "stdout",
          "text": [
            "Path local: /root/.cache/kagglehub/datasets/dhruvildave/spotify-charts/versions/85\n",
            "/root/.cache/kagglehub/datasets/dhruvildave/spotify-charts/versions/85/charts.csv\n"
          ]
        }
      ]
    },
    {
      "cell_type": "code",
      "source": [
        "# lendo o arquivo charts.csv e convertendo em um arquivo parquet com o nome charts.parquet\n",
        "\n",
        "import pandas as pd\n",
        "# lendo o arquivo em csv\n",
        "df = pd.read_csv(path + \"/charts.csv\")\n",
        "\n",
        "# salvando o arquivo em csv\n",
        "df.to_parquet(path + \"/charts.parquet\")"
      ],
      "metadata": {
        "id": "aEoqJSrdm1Dn"
      },
      "execution_count": 6,
      "outputs": []
    },
    {
      "cell_type": "code",
      "source": [
        "\n",
        "# Carregar arquivo Parquet\n",
        "df = pd.read_parquet(path + \"/charts.parquet\")\n",
        "print(df.head())\n",
        "\n"
      ],
      "metadata": {
        "colab": {
          "base_uri": "https://localhost:8080/"
        },
        "collapsed": true,
        "id": "e7XsIO91kg9O",
        "outputId": "2d85a93b-f58d-4d85-a5e1-f26f4c3a1987"
      },
      "execution_count": 7,
      "outputs": [
        {
          "output_type": "stream",
          "name": "stdout",
          "text": [
            "                         title  rank        date  \\\n",
            "0      Chantaje (feat. Maluma)     1  2017-01-01   \n",
            "1  Vente Pa' Ca (feat. Maluma)     2  2017-01-01   \n",
            "2   Reggaetón Lento (Bailemos)     3  2017-01-01   \n",
            "3                       Safari     4  2017-01-01   \n",
            "4                  Shaky Shaky     5  2017-01-01   \n",
            "\n",
            "                                  artist  \\\n",
            "0                                Shakira   \n",
            "1                           Ricky Martin   \n",
            "2                                   CNCO   \n",
            "3  J Balvin, Pharrell Williams, BIA, Sky   \n",
            "4                           Daddy Yankee   \n",
            "\n",
            "                                                 url     region   chart  \\\n",
            "0  https://open.spotify.com/track/6mICuAdrwEjh6Y6...  Argentina  top200   \n",
            "1  https://open.spotify.com/track/7DM4BPaS7uofFul...  Argentina  top200   \n",
            "2  https://open.spotify.com/track/3AEZUABDXNtecAO...  Argentina  top200   \n",
            "3  https://open.spotify.com/track/6rQSrBHf7HlZjtc...  Argentina  top200   \n",
            "4  https://open.spotify.com/track/58IL315gMSTD37D...  Argentina  top200   \n",
            "\n",
            "           trend   streams  \n",
            "0  SAME_POSITION  253019.0  \n",
            "1        MOVE_UP  223988.0  \n",
            "2      MOVE_DOWN  210943.0  \n",
            "3  SAME_POSITION  173865.0  \n",
            "4        MOVE_UP  153956.0  \n"
          ]
        }
      ]
    },
    {
      "cell_type": "code",
      "source": [
        "# Primeiras linhas do DataFrame\n",
        "print(df.head(5))\n",
        "\n",
        "# Informações sobre o DataFrame\n",
        "print(df.info())\n",
        "\n",
        "# Estatísticas descritivas\n",
        "print(df.describe())\n"
      ],
      "metadata": {
        "colab": {
          "base_uri": "https://localhost:8080/"
        },
        "collapsed": true,
        "id": "0JTpt7OCnvKp",
        "outputId": "d9fbc2c0-7775-4a34-f786-bfba3253429c"
      },
      "execution_count": 8,
      "outputs": [
        {
          "output_type": "stream",
          "name": "stdout",
          "text": [
            "                         title  rank        date  \\\n",
            "0      Chantaje (feat. Maluma)     1  2017-01-01   \n",
            "1  Vente Pa' Ca (feat. Maluma)     2  2017-01-01   \n",
            "2   Reggaetón Lento (Bailemos)     3  2017-01-01   \n",
            "3                       Safari     4  2017-01-01   \n",
            "4                  Shaky Shaky     5  2017-01-01   \n",
            "\n",
            "                                  artist  \\\n",
            "0                                Shakira   \n",
            "1                           Ricky Martin   \n",
            "2                                   CNCO   \n",
            "3  J Balvin, Pharrell Williams, BIA, Sky   \n",
            "4                           Daddy Yankee   \n",
            "\n",
            "                                                 url     region   chart  \\\n",
            "0  https://open.spotify.com/track/6mICuAdrwEjh6Y6...  Argentina  top200   \n",
            "1  https://open.spotify.com/track/7DM4BPaS7uofFul...  Argentina  top200   \n",
            "2  https://open.spotify.com/track/3AEZUABDXNtecAO...  Argentina  top200   \n",
            "3  https://open.spotify.com/track/6rQSrBHf7HlZjtc...  Argentina  top200   \n",
            "4  https://open.spotify.com/track/58IL315gMSTD37D...  Argentina  top200   \n",
            "\n",
            "           trend   streams  \n",
            "0  SAME_POSITION  253019.0  \n",
            "1        MOVE_UP  223988.0  \n",
            "2      MOVE_DOWN  210943.0  \n",
            "3  SAME_POSITION  173865.0  \n",
            "4        MOVE_UP  153956.0  \n",
            "<class 'pandas.core.frame.DataFrame'>\n",
            "RangeIndex: 26173514 entries, 0 to 26173513\n",
            "Data columns (total 9 columns):\n",
            " #   Column   Dtype  \n",
            "---  ------   -----  \n",
            " 0   title    object \n",
            " 1   rank     int64  \n",
            " 2   date     object \n",
            " 3   artist   object \n",
            " 4   url      object \n",
            " 5   region   object \n",
            " 6   chart    object \n",
            " 7   trend    object \n",
            " 8   streams  float64\n",
            "dtypes: float64(1), int64(1), object(7)\n",
            "memory usage: 1.8+ GB\n",
            "None\n",
            "               rank       streams\n",
            "count  2.617351e+07  2.032190e+07\n",
            "mean   8.092314e+01  5.526131e+04\n",
            "std    5.918601e+01  2.095872e+05\n",
            "min    1.000000e+00  1.001000e+03\n",
            "25%    2.900000e+01  3.546000e+03\n",
            "50%    6.700000e+01  9.565000e+03\n",
            "75%    1.310000e+02  3.540900e+04\n",
            "max    2.000000e+02  1.974970e+07\n"
          ]
        }
      ]
    },
    {
      "cell_type": "code",
      "source": [
        "# Filtrar músicas com mais de 200000.0 streams na region Brazil\n",
        "high_streams_brazil = df[(df['region'] == 'Brazil') & (df['streams'] > 200000.0)]\n",
        "print(high_streams_brazil)"
      ],
      "metadata": {
        "colab": {
          "base_uri": "https://localhost:8080/"
        },
        "collapsed": true,
        "id": "gWknG35FoT4o",
        "outputId": "3ebecadd-0e1d-42d9-c140-e2c9f89bcbea"
      },
      "execution_count": 9,
      "outputs": [
        {
          "output_type": "stream",
          "name": "stdout",
          "text": [
            "                                       title  rank        date  \\\n",
            "869                                 Deu Onda     1  2017-01-01   \n",
            "870                              Hear Me Now     2  2017-01-01   \n",
            "871                            10% - Ao Vivo     3  2017-01-01   \n",
            "872       Eu Sei de Cor - Ao Vivo | Acústico     4  2017-01-01   \n",
            "873             Meu Coração Deu PT - Ao Vivo     5  2017-01-01   \n",
            "...                                      ...   ...         ...   \n",
            "25197428                             Pesadão    23  2018-01-31   \n",
            "25197429                       Troféu do Ano    24  2018-01-31   \n",
            "25197430                          Ta Tum Tum    25  2018-01-31   \n",
            "25197431                          Dona Maria    26  2018-01-31   \n",
            "25197432                        Azul Piscina    27  2018-01-31   \n",
            "\n",
            "                                        artist  \\\n",
            "869                                     MC G15   \n",
            "870                 Alok, Bruno Martini, Zeeba   \n",
            "871                           Maiara & Maraisa   \n",
            "872                           Marília Mendonça   \n",
            "873            Wesley Safadão, Matheus & Kauan   \n",
            "...                                        ...   \n",
            "25197428                   IZA, Marcelo Falcão   \n",
            "25197429  Jerry Smith, Mc Nando Dk, DJ Cassula   \n",
            "25197430          MC Kevinho, Simone & Simaria   \n",
            "25197431                   Thiago Brava, Jorge   \n",
            "25197432                            Mc Livinho   \n",
            "\n",
            "                                                        url  region   chart  \\\n",
            "869       https://open.spotify.com/track/0EPxmvsG1BY5td4...  Brazil  top200   \n",
            "870       https://open.spotify.com/track/1a5Yu5L18qNxVhX...  Brazil  top200   \n",
            "871       https://open.spotify.com/track/2wFnRPjuqwNySFi...  Brazil  top200   \n",
            "872       https://open.spotify.com/track/45wqPwIH4A5cr2I...  Brazil  top200   \n",
            "873       https://open.spotify.com/track/6zCqeUUqLb2CapB...  Brazil  top200   \n",
            "...                                                     ...     ...     ...   \n",
            "25197428  https://open.spotify.com/track/1BkyiAw1L0BOHYc...  Brazil  top200   \n",
            "25197429  https://open.spotify.com/track/7CtFr21TzdM4ntu...  Brazil  top200   \n",
            "25197430  https://open.spotify.com/track/42TXKY5AaAn4dzA...  Brazil  top200   \n",
            "25197431  https://open.spotify.com/track/0dGqIEsFN3KakdP...  Brazil  top200   \n",
            "25197432  https://open.spotify.com/track/7ieFtgZBYSC94nG...  Brazil  top200   \n",
            "\n",
            "                  trend   streams  \n",
            "869       SAME_POSITION  612271.0  \n",
            "870       SAME_POSITION  269574.0  \n",
            "871             MOVE_UP  228307.0  \n",
            "872           MOVE_DOWN  217394.0  \n",
            "873             MOVE_UP  214171.0  \n",
            "...                 ...       ...  \n",
            "25197428      MOVE_DOWN  208088.0  \n",
            "25197429  SAME_POSITION  203412.0  \n",
            "25197430        MOVE_UP  202700.0  \n",
            "25197431      MOVE_DOWN  201143.0  \n",
            "25197432      MOVE_DOWN  200275.0  \n",
            "\n",
            "[74716 rows x 9 columns]\n"
          ]
        }
      ]
    },
    {
      "cell_type": "code",
      "source": [
        "# Filtrar músicas com tendência de subida\n",
        "trending_up = df[df['trend'] == 'MOVE_UP']\n",
        "print(trending_up)"
      ],
      "metadata": {
        "id": "U6LOuzvZpqIR",
        "colab": {
          "base_uri": "https://localhost:8080/"
        },
        "outputId": "63c02e38-7281-426c-a6dc-6c19a6435ef4"
      },
      "execution_count": 10,
      "outputs": [
        {
          "output_type": "stream",
          "name": "stdout",
          "text": [
            "                                                 title  rank        date  \\\n",
            "1                          Vente Pa' Ca (feat. Maluma)     2  2017-01-01   \n",
            "4                                          Shaky Shaky     5  2017-01-01   \n",
            "8                                         La Bicicleta     9  2017-01-01   \n",
            "11                      Desde Esa Noche (feat. Maluma)    12  2017-01-01   \n",
            "12                                      Borro Cassette    13  2017-01-01   \n",
            "...                                                ...   ...         ...   \n",
            "26173494                                         Lotus    31  2021-07-31   \n",
            "26173497                           Here's Your Perfect    34  2021-07-31   \n",
            "26173503           Know Me Too Well (with Danna Paola)    40  2021-07-31   \n",
            "26173506  Can I Have the Day With You (feat. Michelle)    43  2021-07-31   \n",
            "26173509                                           BYE    46  2021-07-31   \n",
            "\n",
            "                              artist  \\\n",
            "1                       Ricky Martin   \n",
            "4                       Daddy Yankee   \n",
            "8              Carlos Vives, Shakira   \n",
            "11                            Thalia   \n",
            "12                            Maluma   \n",
            "...                              ...   \n",
            "26173494  Osvaldorio, Wiana, Galdive   \n",
            "26173497                Jamie Miller   \n",
            "26173503               New Hope Club   \n",
            "26173506                     Sam Ock   \n",
            "26173509                       Jaden   \n",
            "\n",
            "                                                        url     region  \\\n",
            "1         https://open.spotify.com/track/7DM4BPaS7uofFul...  Argentina   \n",
            "4         https://open.spotify.com/track/58IL315gMSTD37D...  Argentina   \n",
            "8         https://open.spotify.com/track/0sXvAOmXgjR2QUq...  Argentina   \n",
            "11        https://open.spotify.com/track/1pWYnQIlqxTh5bx...  Argentina   \n",
            "12        https://open.spotify.com/track/6DUdDIRgLqCGq1D...  Argentina   \n",
            "...                                                     ...        ...   \n",
            "26173494  https://open.spotify.com/track/2djTXG5iBTGbDLx...    Vietnam   \n",
            "26173497  https://open.spotify.com/track/2aTKrdenCq5qBOo...    Vietnam   \n",
            "26173503  https://open.spotify.com/track/2zI9NSx3dncJHCw...    Vietnam   \n",
            "26173506  https://open.spotify.com/track/11Ymr6CyK8qRVtv...    Vietnam   \n",
            "26173509  https://open.spotify.com/track/3OUyyDN7EZrL7i0...    Vietnam   \n",
            "\n",
            "            chart    trend   streams  \n",
            "1          top200  MOVE_UP  223988.0  \n",
            "4          top200  MOVE_UP  153956.0  \n",
            "8          top200  MOVE_UP  126389.0  \n",
            "11         top200  MOVE_UP  104592.0  \n",
            "12         top200  MOVE_UP  101535.0  \n",
            "...           ...      ...       ...  \n",
            "26173494  viral50  MOVE_UP       NaN  \n",
            "26173497  viral50  MOVE_UP       NaN  \n",
            "26173503  viral50  MOVE_UP       NaN  \n",
            "26173506  viral50  MOVE_UP       NaN  \n",
            "26173509  viral50  MOVE_UP       NaN  \n",
            "\n",
            "[9801048 rows x 9 columns]\n"
          ]
        }
      ]
    },
    {
      "cell_type": "code",
      "source": [
        "# Ordenar por streams em ordem decrescente\n",
        "df_sorted = df.sort_values(by='streams', ascending=False)\n",
        "print(df_sorted)"
      ],
      "metadata": {
        "colab": {
          "base_uri": "https://localhost:8080/"
        },
        "collapsed": true,
        "id": "KgeISSTGp_Ef",
        "outputId": "41b997a2-2766-4151-c589-2bb916f757d6"
      },
      "execution_count": 11,
      "outputs": [
        {
          "output_type": "stream",
          "name": "stdout",
          "text": [
            "                                    title  rank        date  \\\n",
            "22999369                       Easy On Me     1  2021-10-15   \n",
            "17849245  All I Want for Christmas Is You     1  2020-12-24   \n",
            "17849246                   Last Christmas     2  2020-12-24   \n",
            "16687378                  drivers license     1  2021-01-15   \n",
            "16564161                  drivers license     1  2021-01-14   \n",
            "...                                   ...   ...         ...   \n",
            "26173509                              BYE    46  2021-07-31   \n",
            "26173510                          Pillars    47  2021-07-31   \n",
            "26173511                     Gái Độc Thân    48  2021-07-31   \n",
            "26173512    Renegade (feat. Taylor Swift)    49  2021-07-31   \n",
            "26173513                  Letter to Jarad    50  2021-07-31   \n",
            "\n",
            "                             artist  \\\n",
            "22999369                      Adele   \n",
            "17849245               Mariah Carey   \n",
            "17849246                      Wham!   \n",
            "16687378             Olivia Rodrigo   \n",
            "16564161             Olivia Rodrigo   \n",
            "...                             ...   \n",
            "26173509                      Jaden   \n",
            "26173510                     My Anh   \n",
            "26173511                      Tlinh   \n",
            "26173512            Big Red Machine   \n",
            "26173513  LRN Slime, Shiloh Dynasty   \n",
            "\n",
            "                                                        url   region    chart  \\\n",
            "22999369  https://open.spotify.com/track/0gplL1WMoJ6iYaP...   Global   top200   \n",
            "17849245  https://open.spotify.com/track/0bYg9bo50gSsH3L...   Global   top200   \n",
            "17849246  https://open.spotify.com/track/2FRnf9qhLbvw8fu...   Global   top200   \n",
            "16687378  https://open.spotify.com/track/7lPN2DXiMsVn7XU...   Global   top200   \n",
            "16564161  https://open.spotify.com/track/7lPN2DXiMsVn7XU...   Global   top200   \n",
            "...                                                     ...      ...      ...   \n",
            "26173509  https://open.spotify.com/track/3OUyyDN7EZrL7i0...  Vietnam  viral50   \n",
            "26173510  https://open.spotify.com/track/6eky30oFiQbHUAT...  Vietnam  viral50   \n",
            "26173511  https://open.spotify.com/track/2klsSb2iTfgDh95...  Vietnam  viral50   \n",
            "26173512  https://open.spotify.com/track/1aU1wpYBSpP0M6I...  Vietnam  viral50   \n",
            "26173513  https://open.spotify.com/track/508QhA2SncMbh5C...  Vietnam  viral50   \n",
            "\n",
            "                  trend     streams  \n",
            "22999369        MOVE_UP  19749704.0  \n",
            "17849245  SAME_POSITION  17223237.0  \n",
            "17849246  SAME_POSITION  15813799.0  \n",
            "16687378  SAME_POSITION  13714177.0  \n",
            "16564161  SAME_POSITION  13701177.0  \n",
            "...                 ...         ...  \n",
            "26173509        MOVE_UP         NaN  \n",
            "26173510      NEW_ENTRY         NaN  \n",
            "26173511      MOVE_DOWN         NaN  \n",
            "26173512      MOVE_DOWN         NaN  \n",
            "26173513      MOVE_DOWN         NaN  \n",
            "\n",
            "[26173514 rows x 9 columns]\n"
          ]
        }
      ]
    },
    {
      "cell_type": "code",
      "source": [
        "# Média de streams por região\n",
        "mean_streams = df.groupby('region')['streams'].mean()\n",
        "print(mean_streams)"
      ],
      "metadata": {
        "id": "DKwNBACVqJNp",
        "colab": {
          "base_uri": "https://localhost:8080/"
        },
        "outputId": "ec9a3479-7a61-4de6-f62d-efff84a2352c"
      },
      "execution_count": 12,
      "outputs": [
        {
          "output_type": "stream",
          "name": "stdout",
          "text": [
            "region\n",
            "Andorra                           NaN\n",
            "Argentina                53607.620874\n",
            "Australia                55573.770435\n",
            "Austria                   7427.878846\n",
            "Belgium                  10834.963612\n",
            "                            ...      \n",
            "United Arab Emirates      2147.129325\n",
            "United Kingdom          101194.585867\n",
            "United States           390275.482734\n",
            "Uruguay                   3768.295815\n",
            "Vietnam                   5695.388968\n",
            "Name: streams, Length: 70, dtype: float64\n"
          ]
        }
      ]
    },
    {
      "cell_type": "code",
      "source": [
        "# Converter para datetime\n",
        "df['date'] = pd.to_datetime(df['date'])\n",
        "\n",
        "# Filtrar por data específica\n",
        "specific_date = df[df['date'] == '2021-12-31']\n",
        "print(specific_date)"
      ],
      "metadata": {
        "collapsed": true,
        "id": "evwX0vxeqOCX",
        "colab": {
          "base_uri": "https://localhost:8080/"
        },
        "outputId": "241aef0a-3550-43bf-8579-2f115ff00c8b"
      },
      "execution_count": 13,
      "outputs": [
        {
          "output_type": "stream",
          "name": "stdout",
          "text": [
            "                                            title  rank       date  \\\n",
            "22682083  Tiago PZK: Bzrp Music Sessions, Vol. 48     1 2021-12-31   \n",
            "22682084                                      Bar     2 2021-12-31   \n",
            "22682085                                    TITAN     3 2021-12-31   \n",
            "22682086                          Salimo de Noche     4 2021-12-31   \n",
            "22682087                               DANCE CRIP     5 2021-12-31   \n",
            "...                                           ...   ...        ...   \n",
            "25237519                                      Luv    46 2021-12-31   \n",
            "25237520                         Surface Pressure    47 2021-12-31   \n",
            "25237521                           Đâu Ai Dám Hứa    48 2021-12-31   \n",
            "25237522                            I Love You So    49 2021-12-31   \n",
            "25237523               Hạnh Phúc Mới - Heki Lo-Fi    50 2021-12-31   \n",
            "\n",
            "                       artist  \\\n",
            "22682083  Bizarrap, Tiago PZK   \n",
            "22682084        TINI, L-Gante   \n",
            "22682085          Salastkbron   \n",
            "22682086    Tiago PZK, Trueno   \n",
            "22682087               Trueno   \n",
            "...                       ...   \n",
            "25237519                  CZN   \n",
            "25237520       Jessica Darrow   \n",
            "25237521                 Czee   \n",
            "25237522          The Walters   \n",
            "25237523                 Heki   \n",
            "\n",
            "                                                        url     region  \\\n",
            "22682083  https://open.spotify.com/track/2Gq636OOGgxCTqE...  Argentina   \n",
            "22682084  https://open.spotify.com/track/0lJE8f0lx8mUSfM...  Argentina   \n",
            "22682085  https://open.spotify.com/track/5fBQLapwAPSLw27...  Argentina   \n",
            "22682086  https://open.spotify.com/track/6P096SaOzrgGxs8...  Argentina   \n",
            "22682087  https://open.spotify.com/track/1kjs5eR4DMzyB0g...  Argentina   \n",
            "...                                                     ...        ...   \n",
            "25237519  https://open.spotify.com/track/6X18l3OPvGVkYdi...    Vietnam   \n",
            "25237520  https://open.spotify.com/track/760jhRscwGbIIe1...    Vietnam   \n",
            "25237521  https://open.spotify.com/track/0lPAHloMDJcbdp9...    Vietnam   \n",
            "25237522  https://open.spotify.com/track/4SqWKzw0CbA05TG...    Vietnam   \n",
            "25237523  https://open.spotify.com/track/5Xo612vaDPJWsqo...    Vietnam   \n",
            "\n",
            "            chart          trend   streams  \n",
            "22682083   top200  SAME_POSITION  597595.0  \n",
            "22682084   top200  SAME_POSITION  521810.0  \n",
            "22682085   top200  SAME_POSITION  478380.0  \n",
            "22682086   top200  SAME_POSITION  410820.0  \n",
            "22682087   top200  SAME_POSITION  389900.0  \n",
            "...           ...            ...       ...  \n",
            "25237519  viral50      MOVE_DOWN       NaN  \n",
            "25237520  viral50      NEW_ENTRY       NaN  \n",
            "25237521  viral50      MOVE_DOWN       NaN  \n",
            "25237522  viral50      MOVE_DOWN       NaN  \n",
            "25237523  viral50      MOVE_DOWN       NaN  \n",
            "\n",
            "[4879 rows x 9 columns]\n"
          ]
        }
      ]
    },
    {
      "cell_type": "code",
      "source": [
        "# Categorizar o sucesso da música\n",
        "df['success'] = df['streams'].apply(lambda x: 'High' if x > 90000 else 'Moderate')\n",
        "print(df[['title', 'streams', 'success']])"
      ],
      "metadata": {
        "id": "k9ZLUjqAqd8U",
        "colab": {
          "base_uri": "https://localhost:8080/"
        },
        "outputId": "1127358a-acb3-450a-aea3-1cb9bf8fb54a"
      },
      "execution_count": 14,
      "outputs": [
        {
          "output_type": "stream",
          "name": "stdout",
          "text": [
            "                                  title   streams   success\n",
            "0               Chantaje (feat. Maluma)  253019.0      High\n",
            "1           Vente Pa' Ca (feat. Maluma)  223988.0      High\n",
            "2            Reggaetón Lento (Bailemos)  210943.0      High\n",
            "3                                Safari  173865.0      High\n",
            "4                           Shaky Shaky  153956.0      High\n",
            "...                                 ...       ...       ...\n",
            "26173509                            BYE       NaN  Moderate\n",
            "26173510                        Pillars       NaN  Moderate\n",
            "26173511                   Gái Độc Thân       NaN  Moderate\n",
            "26173512  Renegade (feat. Taylor Swift)       NaN  Moderate\n",
            "26173513                Letter to Jarad       NaN  Moderate\n",
            "\n",
            "[26173514 rows x 3 columns]\n"
          ]
        }
      ]
    },
    {
      "cell_type": "code",
      "source": [
        "# Total de streams por artista\n",
        "total_streams_artist = df.groupby('artist')['streams'].sum()\n",
        "print(total_streams_artist)\n"
      ],
      "metadata": {
        "id": "Kf4mrghOqmTD",
        "colab": {
          "base_uri": "https://localhost:8080/"
        },
        "outputId": "0e5c5751-00a1-454d-f388-452e4366213c"
      },
      "execution_count": 15,
      "outputs": [
        {
          "output_type": "stream",
          "name": "stdout",
          "text": [
            "artist\n",
            "!!!                           0.0\n",
            "!!!, Lea Lea                  0.0\n",
            "\"Elena Of Avalor\" Cast        0.0\n",
            "\"Weird Al\" Yankovic           0.0\n",
            "\"聲夢傳奇\"學員                      0.0\n",
            "                           ...   \n",
            "이시강                           0.0\n",
            "이아람                       12951.0\n",
            "지선                            0.0\n",
            "하숙자                        5885.0\n",
            "Ｍ, 兩千 2ØØØ, RedcolorG         0.0\n",
            "Name: streams, Length: 96156, dtype: float64\n"
          ]
        }
      ]
    },
    {
      "cell_type": "code",
      "source": [
        "del df\n",
        "del df_sorted"
      ],
      "metadata": {
        "id": "Gv-SCLJyqo6R"
      },
      "execution_count": 16,
      "outputs": []
    },
    {
      "cell_type": "markdown",
      "source": [
        "## Exemplos com pyspark\n"
      ],
      "metadata": {
        "id": "SNf1yT_mrbIm"
      }
    },
    {
      "cell_type": "code",
      "source": [
        "from pyspark.sql import SparkSession\n",
        "from pyspark.sql.functions import col, to_date, when, avg, expr\n",
        "\n",
        "# Iniciar a sessão do Spark\n",
        "spark = SparkSession.builder.appName(\"SparkDataFrameExample\").getOrCreate()\n",
        "\n",
        "# Carregar arquivo Parquet\n",
        "df = spark.read.parquet(path + \"/charts.parquet\")\n",
        "\n",
        "# Exibir DataFrame\n",
        "df.show()"
      ],
      "metadata": {
        "colab": {
          "base_uri": "https://localhost:8080/"
        },
        "id": "ZXnnMkgyq1lv",
        "outputId": "404200bc-77ba-417c-eabe-c7df05251037"
      },
      "execution_count": 17,
      "outputs": [
        {
          "output_type": "stream",
          "name": "stdout",
          "text": [
            "+--------------------+----+----------+--------------------+--------------------+---------+------+-------------+--------+\n",
            "|               title|rank|      date|              artist|                 url|   region| chart|        trend| streams|\n",
            "+--------------------+----+----------+--------------------+--------------------+---------+------+-------------+--------+\n",
            "|Chantaje (feat. M...|   1|2017-01-01|             Shakira|https://open.spot...|Argentina|top200|SAME_POSITION|253019.0|\n",
            "|Vente Pa' Ca (fea...|   2|2017-01-01|        Ricky Martin|https://open.spot...|Argentina|top200|      MOVE_UP|223988.0|\n",
            "|Reggaetón Lento (...|   3|2017-01-01|                CNCO|https://open.spot...|Argentina|top200|    MOVE_DOWN|210943.0|\n",
            "|              Safari|   4|2017-01-01|J Balvin, Pharrel...|https://open.spot...|Argentina|top200|SAME_POSITION|173865.0|\n",
            "|         Shaky Shaky|   5|2017-01-01|        Daddy Yankee|https://open.spot...|Argentina|top200|      MOVE_UP|153956.0|\n",
            "|         Traicionera|   6|2017-01-01|     Sebastian Yatra|https://open.spot...|Argentina|top200|    MOVE_DOWN|151140.0|\n",
            "|Cuando Se Pone a ...|   7|2017-01-01|              Rombai|https://open.spot...|Argentina|top200|    MOVE_DOWN|148369.0|\n",
            "|Otra vez (feat. J...|   8|2017-01-01|       Zion & Lennox|https://open.spot...|Argentina|top200|    MOVE_DOWN|143004.0|\n",
            "|        La Bicicleta|   9|2017-01-01|Carlos Vives, Sha...|https://open.spot...|Argentina|top200|      MOVE_UP|126389.0|\n",
            "|Dile Que Tu Me Qu...|  10|2017-01-01|               Ozuna|https://open.spot...|Argentina|top200|    MOVE_DOWN|112012.0|\n",
            "|  Andas En Mi Cabeza|  11|2017-01-01|Chino & Nacho, Da...|https://open.spot...|Argentina|top200|SAME_POSITION|110395.0|\n",
            "|Desde Esa Noche (...|  12|2017-01-01|              Thalia|https://open.spot...|Argentina|top200|      MOVE_UP|104592.0|\n",
            "|      Borro Cassette|  13|2017-01-01|              Maluma|https://open.spot...|Argentina|top200|      MOVE_UP|101535.0|\n",
            "|Gyal You A Party ...|  14|2017-01-01|Charly Black, Dad...|https://open.spot...|Argentina|top200|    MOVE_DOWN| 99722.0|\n",
            "|Me llamas (feat. ...|  15|2017-01-01|             Piso 21|https://open.spot...|Argentina|top200|    MOVE_DOWN| 95010.0|\n",
            "|La Bicicleta (fea...|  16|2017-01-01|Carlos Vives, Sha...|https://open.spot...|Argentina|top200|      MOVE_UP| 92723.0|\n",
            "|DUELE EL CORAZON ...|  17|2017-01-01|    Enrique Iglesias|https://open.spot...|Argentina|top200|      MOVE_UP| 91325.0|\n",
            "|     Let Me Love You|  18|2017-01-01|DJ Snake, Justin ...|https://open.spot...|Argentina|top200|    MOVE_DOWN| 87926.0|\n",
            "|La Noche No Es pa...|  19|2017-01-01|         Mano Arriba|https://open.spot...|Argentina|top200|SAME_POSITION| 87033.0|\n",
            "|          Vacaciones|  20|2017-01-01|               Wisin|https://open.spot...|Argentina|top200|    MOVE_DOWN| 86103.0|\n",
            "+--------------------+----+----------+--------------------+--------------------+---------+------+-------------+--------+\n",
            "only showing top 20 rows\n",
            "\n"
          ]
        }
      ]
    },
    {
      "cell_type": "code",
      "source": [
        "# Visualizar as primeiras linhas\n",
        "df.show(5)"
      ],
      "metadata": {
        "colab": {
          "base_uri": "https://localhost:8080/"
        },
        "id": "uZBpjEwWsJjT",
        "outputId": "35b80532-4acb-4f56-9e2a-84fc89e1b272"
      },
      "execution_count": 18,
      "outputs": [
        {
          "output_type": "stream",
          "name": "stdout",
          "text": [
            "+--------------------+----+----------+--------------------+--------------------+---------+------+-------------+--------+\n",
            "|               title|rank|      date|              artist|                 url|   region| chart|        trend| streams|\n",
            "+--------------------+----+----------+--------------------+--------------------+---------+------+-------------+--------+\n",
            "|Chantaje (feat. M...|   1|2017-01-01|             Shakira|https://open.spot...|Argentina|top200|SAME_POSITION|253019.0|\n",
            "|Vente Pa' Ca (fea...|   2|2017-01-01|        Ricky Martin|https://open.spot...|Argentina|top200|      MOVE_UP|223988.0|\n",
            "|Reggaetón Lento (...|   3|2017-01-01|                CNCO|https://open.spot...|Argentina|top200|    MOVE_DOWN|210943.0|\n",
            "|              Safari|   4|2017-01-01|J Balvin, Pharrel...|https://open.spot...|Argentina|top200|SAME_POSITION|173865.0|\n",
            "|         Shaky Shaky|   5|2017-01-01|        Daddy Yankee|https://open.spot...|Argentina|top200|      MOVE_UP|153956.0|\n",
            "+--------------------+----+----------+--------------------+--------------------+---------+------+-------------+--------+\n",
            "only showing top 5 rows\n",
            "\n"
          ]
        }
      ]
    },
    {
      "cell_type": "code",
      "source": [
        "# Verificar informações básicas (schema)\n",
        "df.printSchema()"
      ],
      "metadata": {
        "colab": {
          "base_uri": "https://localhost:8080/"
        },
        "id": "dfBN1LAqsRNJ",
        "outputId": "f8cd3121-ace8-4e07-e6ae-aedf83acb134"
      },
      "execution_count": 19,
      "outputs": [
        {
          "output_type": "stream",
          "name": "stdout",
          "text": [
            "root\n",
            " |-- title: string (nullable = true)\n",
            " |-- rank: long (nullable = true)\n",
            " |-- date: string (nullable = true)\n",
            " |-- artist: string (nullable = true)\n",
            " |-- url: string (nullable = true)\n",
            " |-- region: string (nullable = true)\n",
            " |-- chart: string (nullable = true)\n",
            " |-- trend: string (nullable = true)\n",
            " |-- streams: double (nullable = true)\n",
            "\n"
          ]
        }
      ]
    },
    {
      "cell_type": "code",
      "source": [
        "# Filtrar músicas com mais de 300.000 streams\n",
        "filtro_streams = df.filter(col(\"streams\") > 300000.0)\n",
        "filtro_streams.show()"
      ],
      "metadata": {
        "colab": {
          "base_uri": "https://localhost:8080/"
        },
        "id": "d0I3k0bqsaL9",
        "outputId": "19745f23-be4f-4f3c-b73e-40cc391e9c98"
      },
      "execution_count": 20,
      "outputs": [
        {
          "output_type": "stream",
          "name": "stdout",
          "text": [
            "+--------------------+----+----------+--------------------+--------------------+------+------+-------------+---------+\n",
            "|               title|rank|      date|              artist|                 url|region| chart|        trend|  streams|\n",
            "+--------------------+----+----------+--------------------+--------------------+------+------+-------------+---------+\n",
            "|            Deu Onda|   1|2017-01-01|              MC G15|https://open.spot...|Brazil|top200|SAME_POSITION| 612271.0|\n",
            "|             Starboy|   1|2017-01-01|The Weeknd, Daft ...|https://open.spot...|Global|top200|SAME_POSITION|3135625.0|\n",
            "|              Closer|   2|2017-01-01|The Chainsmokers,...|https://open.spot...|Global|top200|SAME_POSITION|3015525.0|\n",
            "|     Let Me Love You|   3|2017-01-01|DJ Snake, Justin ...|https://open.spot...|Global|top200|      MOVE_UP|2545384.0|\n",
            "|Rockabye (feat. S...|   4|2017-01-01|        Clean Bandit|https://open.spot...|Global|top200|    MOVE_DOWN|2356604.0|\n",
            "|           One Dance|   5|2017-01-01| Drake, WizKid, Kyla|https://open.spot...|Global|top200|SAME_POSITION|2259887.0|\n",
            "|           Fake Love|   6|2017-01-01|               Drake|https://open.spot...|Global|top200|      MOVE_UP|2137437.0|\n",
            "|           24K Magic|   7|2017-01-01|          Bruno Mars|https://open.spot...|Global|top200|SAME_POSITION|2111599.0|\n",
            "|    Don't Wanna Know|   8|2017-01-01|Maroon 5, Kendric...|https://open.spot...|Global|top200|    MOVE_DOWN|2107137.0|\n",
            "|       Black Beatles|   9|2017-01-01|Rae Sremmurd, Guc...|https://open.spot...|Global|top200|    MOVE_DOWN|2075732.0|\n",
            "|    I Feel It Coming|  10|2017-01-01|The Weeknd, Daft ...|https://open.spot...|Global|top200|    MOVE_DOWN|1949575.0|\n",
            "|Chantaje (feat. M...|  11|2017-01-01|             Shakira|https://open.spot...|Global|top200|      MOVE_UP|1893214.0|\n",
            "|I Don’t Wanna Liv...|  12|2017-01-01|  ZAYN, Taylor Swift|https://open.spot...|Global|top200|SAME_POSITION|1857252.0|\n",
            "|Say You Won't Let Go|  13|2017-01-01|        James Arthur|https://open.spot...|Global|top200|SAME_POSITION|1812335.0|\n",
            "|Bad and Boujee (f...|  14|2017-01-01|               Migos|https://open.spot...|Global|top200|      MOVE_UP|1801707.0|\n",
            "|Cold Water (feat....|  15|2017-01-01|         Major Lazer|https://open.spot...|Global|top200|    MOVE_DOWN|1731191.0|\n",
            "| In the Name of Love|  16|2017-01-01|Martin Garrix, Be...|https://open.spot...|Global|top200|SAME_POSITION|1647944.0|\n",
            "|        Side To Side|  17|2017-01-01|Ariana Grande, Ni...|https://open.spot...|Global|top200|      MOVE_UP|1527676.0|\n",
            "|Call On Me - Ryan...|  18|2017-01-01|             Starley|https://open.spot...|Global|top200|    MOVE_DOWN|1507320.0|\n",
            "|CAN'T STOP THE FE...|  19|2017-01-01|   Justin Timberlake|https://open.spot...|Global|top200|    MOVE_DOWN|1480601.0|\n",
            "+--------------------+----+----------+--------------------+--------------------+------+------+-------------+---------+\n",
            "only showing top 20 rows\n",
            "\n"
          ]
        }
      ]
    },
    {
      "cell_type": "code",
      "source": [
        "# selecionando colunas\n",
        "selecionadas = df.select(\"title\", \"artist\", \"streams\")\n",
        "selecionadas.show()\n"
      ],
      "metadata": {
        "colab": {
          "base_uri": "https://localhost:8080/"
        },
        "id": "mt4rAMSLshBs",
        "outputId": "ba8a240f-8d8e-4d3c-8851-4922e655c2cd"
      },
      "execution_count": 21,
      "outputs": [
        {
          "output_type": "stream",
          "name": "stdout",
          "text": [
            "+--------------------+--------------------+--------+\n",
            "|               title|              artist| streams|\n",
            "+--------------------+--------------------+--------+\n",
            "|Chantaje (feat. M...|             Shakira|253019.0|\n",
            "|Vente Pa' Ca (fea...|        Ricky Martin|223988.0|\n",
            "|Reggaetón Lento (...|                CNCO|210943.0|\n",
            "|              Safari|J Balvin, Pharrel...|173865.0|\n",
            "|         Shaky Shaky|        Daddy Yankee|153956.0|\n",
            "|         Traicionera|     Sebastian Yatra|151140.0|\n",
            "|Cuando Se Pone a ...|              Rombai|148369.0|\n",
            "|Otra vez (feat. J...|       Zion & Lennox|143004.0|\n",
            "|        La Bicicleta|Carlos Vives, Sha...|126389.0|\n",
            "|Dile Que Tu Me Qu...|               Ozuna|112012.0|\n",
            "|  Andas En Mi Cabeza|Chino & Nacho, Da...|110395.0|\n",
            "|Desde Esa Noche (...|              Thalia|104592.0|\n",
            "|      Borro Cassette|              Maluma|101535.0|\n",
            "|Gyal You A Party ...|Charly Black, Dad...| 99722.0|\n",
            "|Me llamas (feat. ...|             Piso 21| 95010.0|\n",
            "|La Bicicleta (fea...|Carlos Vives, Sha...| 92723.0|\n",
            "|DUELE EL CORAZON ...|    Enrique Iglesias| 91325.0|\n",
            "|     Let Me Love You|DJ Snake, Justin ...| 87926.0|\n",
            "|La Noche No Es pa...|         Mano Arriba| 87033.0|\n",
            "|          Vacaciones|               Wisin| 86103.0|\n",
            "+--------------------+--------------------+--------+\n",
            "only showing top 20 rows\n",
            "\n"
          ]
        }
      ]
    },
    {
      "cell_type": "code",
      "source": [
        "# Agrupar por Região e Calcular a Média de Streams\n",
        "media_streams_regiao = df.groupBy(\"region\").agg(avg(\"streams\").alias(\"avg_streams\"))\n",
        "media_streams_regiao.show()\n"
      ],
      "metadata": {
        "colab": {
          "base_uri": "https://localhost:8080/"
        },
        "id": "agyMLGbVsnyS",
        "outputId": "c8127a2a-58c0-42fa-d86f-dccaeab47651"
      },
      "execution_count": 22,
      "outputs": [
        {
          "output_type": "stream",
          "name": "stdout",
          "text": [
            "+-------------+------------------+\n",
            "|       region|       avg_streams|\n",
            "+-------------+------------------+\n",
            "|     Paraguay| 6286.671493617753|\n",
            "|       Sweden| 41185.30777730343|\n",
            "|  Philippines| 52417.66259382237|\n",
            "|     Malaysia|11142.606986802088|\n",
            "|    Singapore|11038.974893132583|\n",
            "|       Turkey|  35253.5100812418|\n",
            "|      Germany|111789.55613780832|\n",
            "|       France| 66603.04668378024|\n",
            "|       Greece| 4483.041096571792|\n",
            "|       Taiwan|  9191.75591799814|\n",
            "|     Slovakia|2421.8039452345542|\n",
            "|    Argentina| 53607.62087352663|\n",
            "|      Belgium|10834.963612265967|\n",
            "|      Ecuador|  7489.96118409304|\n",
            "|      Finland|14077.958767923348|\n",
            "|    Nicaragua| 2065.814527933088|\n",
            "|         Peru|22018.889293711018|\n",
            "|       Global|1212937.9812387142|\n",
            "|United States| 390275.4827340026|\n",
            "|        India| 47458.82676758647|\n",
            "+-------------+------------------+\n",
            "only showing top 20 rows\n",
            "\n"
          ]
        }
      ]
    },
    {
      "cell_type": "code",
      "source": [
        "# Classificar o DataFrame por rank\n",
        "df_sorted = df.orderBy(\"rank\")\n",
        "df_sorted.show()\n"
      ],
      "metadata": {
        "colab": {
          "base_uri": "https://localhost:8080/"
        },
        "id": "aZ47ELz7s7Ql",
        "outputId": "f8e5464b-3dab-4513-bc25-48711dd7d675"
      },
      "execution_count": 23,
      "outputs": [
        {
          "output_type": "stream",
          "name": "stdout",
          "text": [
            "+--------------------------------+----+----------+--------------------+--------------------+--------------------+-------+-------------+---------+\n",
            "|                           title|rank|      date|              artist|                 url|              region|  chart|        trend|  streams|\n",
            "+--------------------------------+----+----------+--------------------+--------------------+--------------------+-------+-------------+---------+\n",
            "|                    Dance Monkey|   1|2020-01-17|         Tones And I|https://open.spot...|        Saudi Arabia| top200|SAME_POSITION|  24362.0|\n",
            "|                 drivers license|   1|2021-01-29|      Olivia Rodrigo|https://open.spot...|           Singapore| top200|SAME_POSITION|  70914.0|\n",
            "|                       Your Song|   1|2017-06-01|            Rita Ora|https://open.spot...|           Lithuania|viral50|SAME_POSITION|     NULL|\n",
            "|                    Blaues Licht|   1|2021-07-28|RAF Camora, Bonez MC|https://open.spot...|             Germany| top200|SAME_POSITION| 788689.0|\n",
            "|                          Closer|   1|2017-01-01|The Chainsmokers,...|https://open.spot...|      Czech Republic| top200|SAME_POSITION|   6406.0|\n",
            "|                 drivers license|   1|2021-01-29|      Olivia Rodrigo|https://open.spot...|            Slovakia| top200|SAME_POSITION|  10587.0|\n",
            "|            STAY (with Justin...|   1|2021-08-22|       The Kid LAROI|https://open.spot...|       United States| top200|SAME_POSITION|1824958.0|\n",
            "|                  Last Christmas|   1|2020-12-24|               Wham!|https://open.spot...|             Denmark| top200|SAME_POSITION| 286787.0|\n",
            "|                    Dance Monkey|   1|2019-10-31|         Tones And I|https://open.spot...|      Czech Republic| top200|SAME_POSITION|  30646.0|\n",
            "|            Моя голова винтом...|   1|2021-02-07|           kostromin|https://open.spot...|             Ukraine| top200|      MOVE_UP|  12821.0|\n",
            "|                 Strip That Down|   1|2017-06-01|   Liam Payne, Quavo|https://open.spot...|          Luxembourg|viral50|SAME_POSITION|     NULL|\n",
            "|                 drivers license|   1|2021-03-06|      Olivia Rodrigo|https://open.spot...|         New Zealand| top200|      MOVE_UP|  39310.0|\n",
            "|                      God's Plan|   1|2018-03-01|               Drake|https://open.spot...|              Greece| top200|SAME_POSITION|   8654.0|\n",
            "|                 drivers license|   1|2021-02-07|      Olivia Rodrigo|https://open.spot...|United Arab Emirates| top200|SAME_POSITION|  11342.0|\n",
            "|            Met Gala (feat. O...|   1|2017-06-01|          Gucci Mane|https://open.spot...|              Greece|viral50|      MOVE_UP|     NULL|\n",
            "|            Thezz (feat. Smallx)|   1|2021-03-06|        ElGrandeToto|https://open.spot...|             Morocco| top200|SAME_POSITION| 103577.0|\n",
            "|                   Unforgettable|   1|2017-08-04|French Montana, S...|https://open.spot...|       United States| top200|SAME_POSITION|1223919.0|\n",
            "|                 drivers license|   1|2021-01-29|      Olivia Rodrigo|https://open.spot...|        South Africa| top200|SAME_POSITION|  18273.0|\n",
            "|陪著你走 - 劇集 \"不懂撒嬌的女...|   1|2017-06-01|           Kayee Tam|https://open.spot...|            Malaysia|viral50|SAME_POSITION|     NULL|\n",
            "|    刻在我心底的名字 (Your Na...|   1|2021-02-07|            Crowd Lu|https://open.spot...|              Taiwan| top200|SAME_POSITION|  53596.0|\n",
            "+--------------------------------+----+----------+--------------------+--------------------+--------------------+-------+-------------+---------+\n",
            "only showing top 20 rows\n",
            "\n"
          ]
        }
      ]
    },
    {
      "cell_type": "code",
      "source": [
        "# Adicionar uma Coluna Calculada para Taxa de Crescimento de Streams\n",
        "# Para calcular a taxa de crescimento entre as linhas, usaremos uma função de janela (Window) para acessar o valor dos streams da linha anterior.\n",
        "\n",
        "from pyspark.sql.window import Window\n",
        "from pyspark.sql.functions import lag\n",
        "\n",
        "\n",
        "# Definir uma janela ordenada por rank\n",
        "window_spec = Window.orderBy(\"rank\")\n",
        "\n",
        "# Usar `lag` para obter o valor dos streams da linha anterior\n",
        "df = df.withColumn(\"previous_streams\", lag(\"streams\").over(window_spec))\n",
        "\n",
        "# Calcular a taxa de crescimento\n",
        "df = df.withColumn(\"growth_rate\", expr(\"((streams - previous_streams) / previous_streams) * 100\"))\n",
        "df = df.fillna({\"growth_rate\": 0})  # Substituir valores nulos por 0 para crescimento inicial\n",
        "\n",
        "# Exibir o DataFrame atualizado com a taxa de crescimento\n",
        "df.select(\"title\", \"streams\", \"previous_streams\", \"growth_rate\").show()"
      ],
      "metadata": {
        "colab": {
          "base_uri": "https://localhost:8080/"
        },
        "id": "EgQewkkds_iT",
        "outputId": "cb6c6d07-5f56-4f9d-bec8-eed7c4fbead4"
      },
      "execution_count": 24,
      "outputs": [
        {
          "output_type": "stream",
          "name": "stdout",
          "text": [
            "+--------------------+--------+----------------+-----------+\n",
            "|               title| streams|previous_streams|growth_rate|\n",
            "+--------------------+--------+----------------+-----------+\n",
            "|Chantaje (feat. M...|253019.0|            NULL|        0.0|\n",
            "|               Pepas|    NULL|        253019.0|        0.0|\n",
            "|             Starboy|107350.0|            NULL|        0.0|\n",
            "|            Di Di Di|    NULL|        107350.0|        0.0|\n",
            "|               Alone| 12990.0|            NULL|        0.0|\n",
            "|        Life Goes On|    NULL|         12990.0|        0.0|\n",
            "|            Hey Baby| 23277.0|            NULL|        0.0|\n",
            "|              Pierre|    NULL|         23277.0|        0.0|\n",
            "|Reggaetón Lento (...|  6784.0|            NULL|        0.0|\n",
            "|         Hadal Ahbek|    NULL|          6784.0|        0.0|\n",
            "|            Deu Onda|612271.0|            NULL|        0.0|\n",
            "|         Hadal Ahbek|    NULL|        612271.0|        0.0|\n",
            "|             Starboy|  1628.0|            NULL|        0.0|\n",
            "|          うっせぇわ|    NULL|          1628.0|        0.0|\n",
            "|             Starboy|139175.0|            NULL|        0.0|\n",
            "|             Violent|    NULL|        139175.0|        0.0|\n",
            "|Chantaje (feat. M...|136652.0|            NULL|        0.0|\n",
            "|             Streets|    NULL|        136652.0|        0.0|\n",
            "|Otra vez (feat. J...| 38341.0|            NULL|        0.0|\n",
            "|     Get It Together|    NULL|         38341.0|        0.0|\n",
            "+--------------------+--------+----------------+-----------+\n",
            "only showing top 20 rows\n",
            "\n"
          ]
        }
      ]
    },
    {
      "cell_type": "code",
      "source": [
        "# Converter a Coluna trend em Valores Numéricos\n",
        "# Podemos converter os valores da coluna trend (up, down, stable) em valores numéricos para facilitar a análise (ex.: up = 1, down = -1, stable = 0).\n",
        "\n",
        "# Usar `when` para mapear valores de texto para números\n",
        "df = df.withColumn(\n",
        "    \"trend_num\",\n",
        "    when(col(\"trend\") == \"up\", 1)\n",
        "    .when(col(\"trend\") == \"down\", -1)\n",
        "    .when(col(\"trend\") == \"stable\", 0)\n",
        "    .otherwise(None)\n",
        ")\n",
        "\n",
        "# Exibir o DataFrame com a nova coluna `trend_num`\n",
        "df.select(\"title\", \"trend\", \"trend_num\").show()\n",
        "\n"
      ],
      "metadata": {
        "colab": {
          "base_uri": "https://localhost:8080/"
        },
        "id": "jT6-lX1stZ7Q",
        "outputId": "323b7075-e098-4d17-ddcc-54ccf8a8e5ec"
      },
      "execution_count": 25,
      "outputs": [
        {
          "output_type": "stream",
          "name": "stdout",
          "text": [
            "+--------------------+-------------+---------+\n",
            "|               title|        trend|trend_num|\n",
            "+--------------------+-------------+---------+\n",
            "|Chantaje (feat. M...|SAME_POSITION|     NULL|\n",
            "|Vente Pa' Ca (fea...|      MOVE_UP|     NULL|\n",
            "|Reggaetón Lento (...|    MOVE_DOWN|     NULL|\n",
            "|              Safari|SAME_POSITION|     NULL|\n",
            "|         Shaky Shaky|      MOVE_UP|     NULL|\n",
            "|         Traicionera|    MOVE_DOWN|     NULL|\n",
            "|Cuando Se Pone a ...|    MOVE_DOWN|     NULL|\n",
            "|Otra vez (feat. J...|    MOVE_DOWN|     NULL|\n",
            "|        La Bicicleta|      MOVE_UP|     NULL|\n",
            "|Dile Que Tu Me Qu...|    MOVE_DOWN|     NULL|\n",
            "|  Andas En Mi Cabeza|SAME_POSITION|     NULL|\n",
            "|Desde Esa Noche (...|      MOVE_UP|     NULL|\n",
            "|      Borro Cassette|      MOVE_UP|     NULL|\n",
            "|Gyal You A Party ...|    MOVE_DOWN|     NULL|\n",
            "|Me llamas (feat. ...|    MOVE_DOWN|     NULL|\n",
            "|La Bicicleta (fea...|      MOVE_UP|     NULL|\n",
            "|DUELE EL CORAZON ...|      MOVE_UP|     NULL|\n",
            "|     Let Me Love You|    MOVE_DOWN|     NULL|\n",
            "|La Noche No Es pa...|SAME_POSITION|     NULL|\n",
            "|          Vacaciones|    MOVE_DOWN|     NULL|\n",
            "+--------------------+-------------+---------+\n",
            "only showing top 20 rows\n",
            "\n"
          ]
        }
      ]
    },
    {
      "cell_type": "markdown",
      "source": [
        "## Operações com Spark SQL"
      ],
      "metadata": {
        "id": "EbdNnbF7uEIz"
      }
    },
    {
      "cell_type": "code",
      "source": [
        "# Registrar a tabela temporária\n",
        "df.createOrReplaceTempView(\"music_data\")\n"
      ],
      "metadata": {
        "id": "_hi1aoRjuBF9"
      },
      "execution_count": 26,
      "outputs": []
    },
    {
      "cell_type": "code",
      "source": [
        "#Consulta SQL para calcular a média de streams por região\n",
        "\n",
        "media_streams_regiao_sql = spark.sql(\"\"\"\n",
        "    SELECT region, AVG(streams) as avg_streams\n",
        "    FROM music_data\n",
        "    GROUP BY region\n",
        "\"\"\")\n",
        "media_streams_regiao_sql.show()"
      ],
      "metadata": {
        "colab": {
          "base_uri": "https://localhost:8080/"
        },
        "id": "SnL6ltiJuI97",
        "outputId": "d3b751b3-1978-45f2-d82b-062cfce919a8"
      },
      "execution_count": 27,
      "outputs": [
        {
          "output_type": "stream",
          "name": "stdout",
          "text": [
            "+-------------+------------------+\n",
            "|       region|       avg_streams|\n",
            "+-------------+------------------+\n",
            "|     Paraguay| 6286.671493617753|\n",
            "|       Sweden| 41185.30777730343|\n",
            "|  Philippines| 52417.66259382237|\n",
            "|     Malaysia|11142.606986802088|\n",
            "|    Singapore|11038.974893132583|\n",
            "|       Turkey|  35253.5100812418|\n",
            "|      Germany|111789.55613780832|\n",
            "|       France| 66603.04668378024|\n",
            "|       Greece| 4483.041096571792|\n",
            "|       Taiwan|  9191.75591799814|\n",
            "|     Slovakia|2421.8039452345542|\n",
            "|    Argentina| 53607.62087352663|\n",
            "|      Belgium|10834.963612265967|\n",
            "|      Ecuador|  7489.96118409304|\n",
            "|      Finland|14077.958767923348|\n",
            "|    Nicaragua| 2065.814527933088|\n",
            "|         Peru|22018.889293711018|\n",
            "|       Global|1212937.9812387142|\n",
            "|United States| 390275.4827340026|\n",
            "|        India| 47458.82676758647|\n",
            "+-------------+------------------+\n",
            "only showing top 20 rows\n",
            "\n"
          ]
        }
      ]
    },
    {
      "cell_type": "code",
      "source": [
        "# Filtrar músicas com streams acima de 300.000 usando SQL\n",
        "\n",
        "filtro_streams_sql = spark.sql(\"\"\"\n",
        "    SELECT title, artist, streams\n",
        "    FROM music_data\n",
        "    WHERE streams > 300000\n",
        "\"\"\")\n",
        "filtro_streams_sql.show()\n"
      ],
      "metadata": {
        "colab": {
          "base_uri": "https://localhost:8080/"
        },
        "id": "fDbpUn5KuMyC",
        "outputId": "aea3546e-7ab5-4209-c86c-0b1a8387fe41"
      },
      "execution_count": 28,
      "outputs": [
        {
          "output_type": "stream",
          "name": "stdout",
          "text": [
            "+--------------------+--------------------+---------+\n",
            "|               title|              artist|  streams|\n",
            "+--------------------+--------------------+---------+\n",
            "|            Deu Onda|              MC G15| 612271.0|\n",
            "|             Starboy|The Weeknd, Daft ...|3135625.0|\n",
            "|              Closer|The Chainsmokers,...|3015525.0|\n",
            "|     Let Me Love You|DJ Snake, Justin ...|2545384.0|\n",
            "|Rockabye (feat. S...|        Clean Bandit|2356604.0|\n",
            "|           One Dance| Drake, WizKid, Kyla|2259887.0|\n",
            "|           Fake Love|               Drake|2137437.0|\n",
            "|           24K Magic|          Bruno Mars|2111599.0|\n",
            "|    Don't Wanna Know|Maroon 5, Kendric...|2107137.0|\n",
            "|       Black Beatles|Rae Sremmurd, Guc...|2075732.0|\n",
            "|    I Feel It Coming|The Weeknd, Daft ...|1949575.0|\n",
            "|Chantaje (feat. M...|             Shakira|1893214.0|\n",
            "|I Don’t Wanna Liv...|  ZAYN, Taylor Swift|1857252.0|\n",
            "|Say You Won't Let Go|        James Arthur|1812335.0|\n",
            "|Bad and Boujee (f...|               Migos|1801707.0|\n",
            "|Cold Water (feat....|         Major Lazer|1731191.0|\n",
            "| In the Name of Love|Martin Garrix, Be...|1647944.0|\n",
            "|        Side To Side|Ariana Grande, Ni...|1527676.0|\n",
            "|Call On Me - Ryan...|             Starley|1507320.0|\n",
            "|CAN'T STOP THE FE...|   Justin Timberlake|1480601.0|\n",
            "+--------------------+--------------------+---------+\n",
            "only showing top 20 rows\n",
            "\n"
          ]
        }
      ]
    },
    {
      "cell_type": "code",
      "source": [
        "df.write.mode(\"overwrite\").parquet(path+\"/dados_musica_exercicio.parquet\")\n"
      ],
      "metadata": {
        "id": "KQF7UqVlud2c"
      },
      "execution_count": 29,
      "outputs": []
    },
    {
      "cell_type": "markdown",
      "source": [
        "## Exercício 1: Filtragem Básica\n",
        "Questão: Carregue o DataFrame e filtre as músicas que têm mais de 200.000 streams e foram lançadas na região dos Estados Unidos (US). Exiba apenas as colunas title, streams, region e date."
      ],
      "metadata": {
        "id": "ev9OZnE5vJD_"
      }
    },
    {
      "cell_type": "code",
      "source": [
        "df.filter((df['streams'] > 200000) & (df['region'] == 'United States')).select(\"title\", \"streams\", \"region\", \"date\").show()\n"
      ],
      "metadata": {
        "id": "UwkbqMW1vIla",
        "colab": {
          "base_uri": "https://localhost:8080/"
        },
        "outputId": "d792f474-6208-42ac-c341-3314e3f38aad"
      },
      "execution_count": 30,
      "outputs": [
        {
          "output_type": "stream",
          "name": "stdout",
          "text": [
            "+--------------------+---------+-------------+----------+\n",
            "|               title|  streams|       region|      date|\n",
            "+--------------------+---------+-------------+----------+\n",
            "|Bad and Boujee (f...|1371493.0|United States|2017-01-01|\n",
            "|           Fake Love|1180074.0|United States|2017-01-01|\n",
            "|             Starboy|1064351.0|United States|2017-01-01|\n",
            "|              Closer|1010492.0|United States|2017-01-01|\n",
            "|       Black Beatles| 874289.0|United States|2017-01-01|\n",
            "|Broccoli (feat. L...| 763259.0|United States|2017-01-01|\n",
            "|           One Dance| 753150.0|United States|2017-01-01|\n",
            "|            Caroline| 714839.0|United States|2017-01-01|\n",
            "|     Let Me Love You| 690483.0|United States|2017-01-01|\n",
            "|         Bounce Back| 682688.0|United States|2017-01-01|\n",
            "|    I Feel It Coming| 651807.0|United States|2017-01-01|\n",
            "|           24K Magic| 574974.0|United States|2017-01-01|\n",
            "|Bad Things (with ...| 567789.0|United States|2017-01-01|\n",
            "|    X (feat. Future)| 544620.0|United States|2017-01-01|\n",
            "|I Don’t Wanna Liv...| 507450.0|United States|2017-01-01|\n",
            "|    Don't Wanna Know| 486364.0|United States|2017-01-01|\n",
            "|Chill Bill (feat....| 485127.0|United States|2017-01-01|\n",
            "|             Deja Vu| 478503.0|United States|2017-01-01|\n",
            "|              OOOUUU| 456308.0|United States|2017-01-01|\n",
            "|       Party Monster| 456291.0|United States|2017-01-01|\n",
            "+--------------------+---------+-------------+----------+\n",
            "only showing top 20 rows\n",
            "\n"
          ]
        }
      ]
    },
    {
      "cell_type": "markdown",
      "source": [
        "## Exercício 2: Cálculo de Média de Streams\n",
        "Questão: Use uma consulta SQL para calcular a média de streams para cada chart e exiba o resultado.\n",
        "\n"
      ],
      "metadata": {
        "id": "tCIo4fN9vQ5c"
      }
    },
    {
      "cell_type": "code",
      "source": [
        "df.createOrReplaceTempView(\"music_data\")\n",
        "\n",
        "media_streams_chart_sql = spark.sql(\"\"\"\n",
        "    SELECT chart, AVG(streams) as avg_streams\n",
        "    FROM music_data\n",
        "    GROUP BY chart\n",
        "\"\"\")\n",
        "media_streams_chart_sql.show()\n"
      ],
      "metadata": {
        "id": "UvmqpDOqunTL",
        "colab": {
          "base_uri": "https://localhost:8080/"
        },
        "outputId": "4e6220fc-0bf5-42cb-df6c-1df52e57a71b"
      },
      "execution_count": null,
      "outputs": [
        {
          "output_type": "stream",
          "name": "stdout",
          "text": [
            "+-------+------------------+\n",
            "|  chart|       avg_streams|\n",
            "+-------+------------------+\n",
            "| top200|55261.314376595816|\n",
            "|viral50|              NULL|\n",
            "+-------+------------------+\n",
            "\n"
          ]
        }
      ]
    },
    {
      "cell_type": "markdown",
      "source": [
        "## Exercício 3: Adicionar uma Coluna de Taxa de Crescimento\n",
        "\n",
        "Questão: Adicione uma nova coluna chamada growth_rate, que calcula a taxa de crescimento dos streams em relação ao valor do stream da linha anterior, ordenando pela coluna rank. Exiba as colunas title, streams, previous_streams e growth_rate."
      ],
      "metadata": {
        "id": "hgqGQJvmvaLe"
      }
    },
    {
      "cell_type": "code",
      "source": [
        "from pyspark.sql.window import Window\n",
        "from pyspark.sql.functions import col, lag, expr\n",
        "\n",
        "window_spec = Window.orderBy(\"rank\")\n",
        "df = df.withColumn(\"previous_streams\", lag(\"streams\").over(window_spec))\n",
        "df = df.withColumn(\"growth_rate\", expr(\"((streams - previous_streams) / previous_streams) * 100\")).fillna({\"growth_rate\": 0})\n",
        "df.select(\"title\", \"streams\", \"previous_streams\", \"growth_rate\").show()\n"
      ],
      "metadata": {
        "id": "H2dQojTHvcmY",
        "colab": {
          "base_uri": "https://localhost:8080/"
        },
        "outputId": "718837d4-f700-4350-fdea-c98bf7c68d58"
      },
      "execution_count": 31,
      "outputs": [
        {
          "output_type": "stream",
          "name": "stdout",
          "text": [
            "+--------------------+--------+----------------+-----------+\n",
            "|               title| streams|previous_streams|growth_rate|\n",
            "+--------------------+--------+----------------+-----------+\n",
            "|Chantaje (feat. M...|253019.0|            NULL|        0.0|\n",
            "|               Pepas|    NULL|        253019.0|        0.0|\n",
            "|             Starboy|107350.0|            NULL|        0.0|\n",
            "|            Di Di Di|    NULL|        107350.0|        0.0|\n",
            "|               Alone| 12990.0|            NULL|        0.0|\n",
            "|        Life Goes On|    NULL|         12990.0|        0.0|\n",
            "|            Hey Baby| 23277.0|            NULL|        0.0|\n",
            "|              Pierre|    NULL|         23277.0|        0.0|\n",
            "|Reggaetón Lento (...|  6784.0|            NULL|        0.0|\n",
            "|         Hadal Ahbek|    NULL|          6784.0|        0.0|\n",
            "|            Deu Onda|612271.0|            NULL|        0.0|\n",
            "|         Hadal Ahbek|    NULL|        612271.0|        0.0|\n",
            "|             Starboy|  1628.0|            NULL|        0.0|\n",
            "|          うっせぇわ|    NULL|          1628.0|        0.0|\n",
            "|             Starboy|139175.0|            NULL|        0.0|\n",
            "|             Violent|    NULL|        139175.0|        0.0|\n",
            "|Chantaje (feat. M...|136652.0|            NULL|        0.0|\n",
            "|             Streets|    NULL|        136652.0|        0.0|\n",
            "|Otra vez (feat. J...| 38341.0|            NULL|        0.0|\n",
            "|     Get It Together|    NULL|         38341.0|        0.0|\n",
            "+--------------------+--------+----------------+-----------+\n",
            "only showing top 20 rows\n",
            "\n"
          ]
        }
      ]
    },
    {
      "cell_type": "markdown",
      "source": [
        "## Exercício 4: Converter Coluna trend para Valores Numéricos\n",
        "\n",
        "Questão: Crie uma nova coluna chamada trend_num que mapeie os valores da coluna trend para números da seguinte forma: up = 1, down = -1, stable = 0. Exiba as colunas title, trend e trend_num."
      ],
      "metadata": {
        "id": "5JaMRfLOvhbU"
      }
    },
    {
      "cell_type": "code",
      "source": [
        "df = df.withColumn(\n",
        "    \"trend_num\",\n",
        "    when(col(\"trend\") == \"MOVE_UP\", 1)\n",
        "    .when(col(\"trend\") == \"MOVE_DOWN\", -1)\n",
        "    .when(col(\"trend\") == \"SAME_POSITION\", 0)\n",
        "    .otherwise(None)\n",
        ")\n",
        "\n",
        "df.select(\"title\", \"trend\", \"trend_num\").show()\n"
      ],
      "metadata": {
        "id": "0Mp__lFOvjc-",
        "colab": {
          "base_uri": "https://localhost:8080/"
        },
        "outputId": "928ef226-b5c2-445e-a0f8-6215eb640976"
      },
      "execution_count": 37,
      "outputs": [
        {
          "output_type": "stream",
          "name": "stdout",
          "text": [
            "+--------------------+-------------+---------+\n",
            "|               title|        trend|trend_num|\n",
            "+--------------------+-------------+---------+\n",
            "|Chantaje (feat. M...|SAME_POSITION|        0|\n",
            "|Vente Pa' Ca (fea...|      MOVE_UP|        1|\n",
            "|Reggaetón Lento (...|    MOVE_DOWN|       -1|\n",
            "|              Safari|SAME_POSITION|        0|\n",
            "|         Shaky Shaky|      MOVE_UP|        1|\n",
            "|         Traicionera|    MOVE_DOWN|       -1|\n",
            "|Cuando Se Pone a ...|    MOVE_DOWN|       -1|\n",
            "|Otra vez (feat. J...|    MOVE_DOWN|       -1|\n",
            "|        La Bicicleta|      MOVE_UP|        1|\n",
            "|Dile Que Tu Me Qu...|    MOVE_DOWN|       -1|\n",
            "|  Andas En Mi Cabeza|SAME_POSITION|        0|\n",
            "|Desde Esa Noche (...|      MOVE_UP|        1|\n",
            "|      Borro Cassette|      MOVE_UP|        1|\n",
            "|Gyal You A Party ...|    MOVE_DOWN|       -1|\n",
            "|Me llamas (feat. ...|    MOVE_DOWN|       -1|\n",
            "|La Bicicleta (fea...|      MOVE_UP|        1|\n",
            "|DUELE EL CORAZON ...|      MOVE_UP|        1|\n",
            "|     Let Me Love You|    MOVE_DOWN|       -1|\n",
            "|La Noche No Es pa...|SAME_POSITION|        0|\n",
            "|          Vacaciones|    MOVE_DOWN|       -1|\n",
            "+--------------------+-------------+---------+\n",
            "only showing top 20 rows\n",
            "\n"
          ]
        }
      ]
    },
    {
      "cell_type": "markdown",
      "source": [
        "## Exercício 5: Análise Temporal\n",
        "Questão: Filtre todas as músicas que foram lançadas em junho de 2021 e exiba as colunas title, date, e region."
      ],
      "metadata": {
        "id": "icYV_I7hv2DM"
      }
    },
    {
      "cell_type": "code",
      "source": [
        "from pyspark.sql.functions import month, year\n",
        "\n",
        "df.filter((month(col(\"date\")) == 6) & (year(col(\"date\")) == 2021)).select(\"title\", \"date\", \"region\").show()\n"
      ],
      "metadata": {
        "id": "Hl71Pm-Uv4HZ",
        "colab": {
          "base_uri": "https://localhost:8080/"
        },
        "outputId": "15b99f2c-5fcf-411b-fcdd-79f703e63382"
      },
      "execution_count": 33,
      "outputs": [
        {
          "output_type": "stream",
          "name": "stdout",
          "text": [
            "+--------------------+----------+---------+\n",
            "|               title|      date|   region|\n",
            "+--------------------+----------+---------+\n",
            "|          Todo De Ti|2021-06-01|Argentina|\n",
            "|            Miénteme|2021-06-01|Argentina|\n",
            "|       Qué Más Pues?|2021-06-01|Argentina|\n",
            "|      Pareja Del Año|2021-06-01|Argentina|\n",
            "|YO SE QUE TU (fea...|2021-06-01|Argentina|\n",
            "|         Te Necesito|2021-06-01|Argentina|\n",
            "|                  AM|2021-06-01|Argentina|\n",
            "|           2/Catorce|2021-06-01|Argentina|\n",
            "|                Fiel|2021-06-01|Argentina|\n",
            "|                 512|2021-06-01|Argentina|\n",
            "|Además de Mí - Remix|2021-06-01|Argentina|\n",
            "|          Acaramelao|2021-06-01|Argentina|\n",
            "|            good 4 u|2021-06-01|Argentina|\n",
            "|              Malbec|2021-06-01|Argentina|\n",
            "|L-Gante: Bzrp Mus...|2021-06-01|Argentina|\n",
            "|          EL MAKINON|2021-06-01|Argentina|\n",
            "|               WACHA|2021-06-01|Argentina|\n",
            "|Snow Tha Product:...|2021-06-01|Argentina|\n",
            "|Baila Conmigo (wi...|2021-06-01|Argentina|\n",
            "|             Poblado|2021-06-01|Argentina|\n",
            "+--------------------+----------+---------+\n",
            "only showing top 20 rows\n",
            "\n"
          ]
        }
      ]
    },
    {
      "cell_type": "markdown",
      "source": [
        "## Exercício 6: Calcular a Média de Streams por Região usando Spark SQL\n",
        "\n",
        "Questão: Calcule a média de streams para cada region usando Spark SQL. Exiba o nome da região e a média de streams."
      ],
      "metadata": {
        "id": "mJtuSvbfv9YM"
      }
    },
    {
      "cell_type": "code",
      "source": [
        "df.createOrReplaceTempView(\"music_data\")\n",
        "\n",
        "media_streams_chart_sql = spark.sql(\"\"\"\n",
        "    SELECT region, AVG(streams) as avg_streams\n",
        "    FROM music_data\n",
        "    GROUP BY region\n",
        "\"\"\")\n",
        "media_streams_chart_sql.show()"
      ],
      "metadata": {
        "id": "X-w5vL9Av-Mo",
        "colab": {
          "base_uri": "https://localhost:8080/"
        },
        "outputId": "24a26ac6-a730-4050-c4d3-a7e727733555"
      },
      "execution_count": 38,
      "outputs": [
        {
          "output_type": "stream",
          "name": "stdout",
          "text": [
            "+-------------+------------------+\n",
            "|       region|       avg_streams|\n",
            "+-------------+------------------+\n",
            "|     Paraguay| 6286.671493617753|\n",
            "|       Sweden| 41185.30777730343|\n",
            "|  Philippines| 52417.66259382237|\n",
            "|     Malaysia|11142.606986802088|\n",
            "|    Singapore|11038.974893132583|\n",
            "|       Turkey|  35253.5100812418|\n",
            "|      Germany|111789.55613780832|\n",
            "|       France| 66603.04668378024|\n",
            "|       Greece| 4483.041096571792|\n",
            "|       Taiwan|  9191.75591799814|\n",
            "|     Slovakia|2421.8039452345542|\n",
            "|    Argentina| 53607.62087352663|\n",
            "|      Belgium|10834.963612265967|\n",
            "|      Ecuador|  7489.96118409304|\n",
            "|      Finland|14077.958767923348|\n",
            "|    Nicaragua| 2065.814527933088|\n",
            "|         Peru|22018.889293711018|\n",
            "|       Global|1212937.9812387142|\n",
            "|United States| 390275.4827340026|\n",
            "|        India| 47458.82676758647|\n",
            "+-------------+------------------+\n",
            "only showing top 20 rows\n",
            "\n"
          ]
        }
      ]
    },
    {
      "cell_type": "markdown",
      "source": [
        "## Exercício 7: Classificação por Rank\n",
        "\n",
        "Questão: Ordene o DataFrame pelo rank em ordem crescente e exiba as colunas rank, title, e streams."
      ],
      "metadata": {
        "id": "2i-dgtL-wB4l"
      }
    },
    {
      "cell_type": "code",
      "source": [
        "\n",
        "df = df.orderBy(col(\"rank\").asc())\n",
        "\n",
        "df.select(\"rank\", \"title\", \"streams\").show()\n",
        ""
      ],
      "metadata": {
        "id": "1TnUD8riwCr_",
        "colab": {
          "base_uri": "https://localhost:8080/"
        },
        "outputId": "dc024ead-20d3-4fd0-ac26-8db9b8418267"
      },
      "execution_count": 39,
      "outputs": [
        {
          "output_type": "stream",
          "name": "stdout",
          "text": [
            "+----+--------------------------------+---------+\n",
            "|rank|                           title|  streams|\n",
            "+----+--------------------------------+---------+\n",
            "|   1|                    Dance Monkey|  24362.0|\n",
            "|   1|                 drivers license|  70914.0|\n",
            "|   1|                       Your Song|     NULL|\n",
            "|   1|                    Blaues Licht| 788689.0|\n",
            "|   1|                          Closer|   6406.0|\n",
            "|   1|                 drivers license|  10587.0|\n",
            "|   1|            STAY (with Justin...|1824958.0|\n",
            "|   1|                  Last Christmas| 286787.0|\n",
            "|   1|                    Dance Monkey|  30646.0|\n",
            "|   1|            Моя голова винтом...|  12821.0|\n",
            "|   1|                 Strip That Down|     NULL|\n",
            "|   1|                 drivers license|  39310.0|\n",
            "|   1|                      God's Plan|   8654.0|\n",
            "|   1|                 drivers license|  11342.0|\n",
            "|   1|            Met Gala (feat. O...|     NULL|\n",
            "|   1|            Thezz (feat. Smallx)| 103577.0|\n",
            "|   1|                   Unforgettable|1223919.0|\n",
            "|   1|                 drivers license|  18273.0|\n",
            "|   1|陪著你走 - 劇集 \"不懂撒嬌的女...|     NULL|\n",
            "|   1|    刻在我心底的名字 (Your Na...|  53596.0|\n",
            "+----+--------------------------------+---------+\n",
            "only showing top 20 rows\n",
            "\n"
          ]
        }
      ]
    },
    {
      "cell_type": "markdown",
      "source": [
        "## Exercício 8: Contagem de Músicas por Tendência\n",
        "\n",
        "Questão: Use uma consulta SQL para contar quantas músicas há em cada tipo de trend (up, down, stable)."
      ],
      "metadata": {
        "id": "57myMwsLwGoF"
      }
    },
    {
      "cell_type": "code",
      "source": [
        "df.createOrReplaceTempView(\"music_data\")\n",
        "\n",
        "media_streams_chart_sql = spark.sql(\"\"\"\n",
        "    SELECT trend, COUNT (*) as qtd\n",
        "    FROM music_data\n",
        "    GROUP BY trend\n",
        "\"\"\")\n",
        "media_streams_chart_sql.show()"
      ],
      "metadata": {
        "id": "mz7q5phDwIJl",
        "colab": {
          "base_uri": "https://localhost:8080/"
        },
        "outputId": "242f2e63-a73b-4cd8-c939-9b0b8d31dba3"
      },
      "execution_count": 40,
      "outputs": [
        {
          "output_type": "stream",
          "name": "stdout",
          "text": [
            "+-------------+--------+\n",
            "|        trend|     qtd|\n",
            "+-------------+--------+\n",
            "|    NEW_ENTRY| 1853640|\n",
            "|    MOVE_DOWN|11220434|\n",
            "|      MOVE_UP| 9801048|\n",
            "|SAME_POSITION| 3298392|\n",
            "+-------------+--------+\n",
            "\n"
          ]
        }
      ]
    }
  ]
}