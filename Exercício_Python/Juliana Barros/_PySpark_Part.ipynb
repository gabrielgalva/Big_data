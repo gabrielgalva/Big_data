{
  "nbformat": 4,
  "nbformat_minor": 0,
  "metadata": {
    "colab": {
      "provenance": []
    },
    "kernelspec": {
      "name": "python3",
      "display_name": "Python 3"
    },
    "language_info": {
      "name": "python"
    }
  },
  "cells": [
    {
      "cell_type": "markdown",
      "source": [
        "\n",
        "#Introdução ao Apache Spark\n",
        "\n",
        "Apache Spark é um framework de processamento de dados de código aberto projetado para ser rápido, fácil de usar e geral. Ele permite o processamento distribuído de grandes volumes de dados em clusters, suportando tarefas de processamento em lote e em tempo real. Spark é amplamente utilizado para análise de dados, aprendizado de máquina, processamento de streaming e muito mais.\n"
      ],
      "metadata": {
        "id": "k46CQak6-yWG"
      }
    },
    {
      "cell_type": "markdown",
      "source": [
        "#### História e Marcos do Apache Spark\n",
        "*  2009: Desenvolvido originalmente na UC Berkeley’s AMPLab.\n",
        "*  2010: Spark foi open-sourced.\n",
        "*  2014: Tornou-se um projeto de alto nível da Apache Software Foundation.\n",
        "*  2016: Spark 2.0 lançado, introduzindo DataFrames e Spark SQL.\n",
        "*  2020: Spark 3.0 lançado, trazendo melhorias significativas em desempenho e novas APIs.\n",
        "*  2024: Spark continua evoluindo, com foco em otimizações de desempenho e integração com tecnologias emergentes."
      ],
      "metadata": {
        "id": "MeFL6KxK_B7B"
      }
    },
    {
      "cell_type": "markdown",
      "source": [
        "#Fundamentos do Apache Spark\n",
        "#### RDDs (Resilient Distributed Datasets)\n",
        "\n",
        "RDDs são a abstração fundamental no Spark, representando uma coleção distribuída de elementos que podem ser processados em paralelo. Eles são imutáveis e tolerantes a falhas.\n",
        "\n",
        "##### Características:\n",
        "\n",
        "* Imutabilidade: Uma vez criado, um RDD não pode ser alterado.\n",
        "* Tolerância a falhas: Spark reconstrói automaticamente partes perdidas dos RDDs.\n",
        "* Transformações e Ações: Operações que transformam os dados ou coletam resultados.\n",
        "\n",
        "#### RDDs (Resilient Distributed Datasets)\n",
        "\n",
        "#### **DataFrames**\n",
        "\n",
        "DataFrames são uma abstração mais estruturada sobre RDDs, semelhantes a tabelas em bancos de dados relacionais. Eles permitem operações otimizadas e integração com Spark SQL.\n",
        "\n",
        "**Vantagens:**\n",
        "\n",
        "* Performance: Otimizações como o Catalyst Optimizer melhoram o desempenho.\n",
        "* Facilidade de Uso: APIs mais amigáveis para manipulação de dados estruturados.\n",
        "* Integração: Compatível com diversas fontes de dados e ferramentas de BI.\n",
        "\n",
        "\n",
        "** Datasets Utilizados **\n",
        "\n",
        "https://www.kaggle.com/datasets/shubhambathwal/flight-price-prediction"
      ],
      "metadata": {
        "id": "gXA3ECk3AIsw"
      }
    },
    {
      "cell_type": "code",
      "execution_count": 17,
      "metadata": {
        "colab": {
          "base_uri": "https://localhost:8080/"
        },
        "id": "fPIwCUX0-D8a",
        "outputId": "97afd6ef-ec41-479b-bc3e-14b04c61d417"
      },
      "outputs": [
        {
          "output_type": "stream",
          "name": "stdout",
          "text": [
            "Requirement already satisfied: pyspark in /usr/local/lib/python3.10/dist-packages (3.5.3)\n",
            "Requirement already satisfied: py4j==0.10.9.7 in /usr/local/lib/python3.10/dist-packages (from pyspark) (0.10.9.7)\n"
          ]
        }
      ],
      "source": [
        "# Instalar PySpark via pip\n",
        "!pip install pyspark"
      ]
    },
    {
      "cell_type": "code",
      "source": [
        "!ls -R /root/.cache/kagglehub"
      ],
      "metadata": {
        "colab": {
          "base_uri": "https://localhost:8080/"
        },
        "id": "_id6rRI4BoWR",
        "outputId": "057dac64-57a5-424b-9b71-0ee9ea2e3452"
      },
      "execution_count": 7,
      "outputs": [
        {
          "output_type": "stream",
          "name": "stdout",
          "text": [
            "/root/.cache/kagglehub:\n",
            "datasets\n",
            "\n",
            "/root/.cache/kagglehub/datasets:\n",
            "jocelyndumlao  kirahhayatdata\n",
            "\n",
            "/root/.cache/kagglehub/datasets/jocelyndumlao:\n",
            "sentiment-analysis-chatgpt-youtube-comments\n",
            "\n",
            "/root/.cache/kagglehub/datasets/jocelyndumlao/sentiment-analysis-chatgpt-youtube-comments:\n",
            "1.complete  versions\n",
            "\n",
            "/root/.cache/kagglehub/datasets/jocelyndumlao/sentiment-analysis-chatgpt-youtube-comments/versions:\n",
            "1\n",
            "\n",
            "/root/.cache/kagglehub/datasets/jocelyndumlao/sentiment-analysis-chatgpt-youtube-comments/versions/1:\n",
            "'Sentiment Analysis ChatGPT YouTube Comments Dataset'\n",
            "\n",
            "'/root/.cache/kagglehub/datasets/jocelyndumlao/sentiment-analysis-chatgpt-youtube-comments/versions/1/Sentiment Analysis ChatGPT YouTube Comments Dataset':\n",
            "dataset_chatgpt_scrap.csv\t\t\t dataset_chatgpt_scrap_predicted_netral_fix.csv\n",
            "dataset_chatgpt_scrap_predicted_negatif_fix.csv  dataset_chatgpt_scrap_predicted_positif_fix.csv\n",
            "\n",
            "/root/.cache/kagglehub/datasets/kirahhayatdata:\n",
            "pakistan-demographic-and-population-data\n",
            "\n",
            "/root/.cache/kagglehub/datasets/kirahhayatdata/pakistan-demographic-and-population-data:\n",
            "1.complete  versions\n",
            "\n",
            "/root/.cache/kagglehub/datasets/kirahhayatdata/pakistan-demographic-and-population-data/versions:\n",
            "1\n",
            "\n",
            "/root/.cache/kagglehub/datasets/kirahhayatdata/pakistan-demographic-and-population-data/versions/1:\n",
            "Age_Group_Gender_Distribution.csv\t  Province_Territory_Population_Trends.csv\n",
            "City_Population_Growth_Trends.csv\t  Religion_Population_Distribution.csv\n",
            "District_Fertility_Population_Survey.csv  Yearly_Demographic_Statistics.csv\n",
            "Population_Age_Distribution.csv\n"
          ]
        }
      ]
    },
    {
      "cell_type": "code",
      "source": [
        "import kagglehub\n",
        "\n",
        "# Download latest version\n",
        "path = kagglehub.dataset_download(\"kirahhayatdata/pakistan-demographic-and-population-data\")\n",
        "\n",
        "print(\"Path to dataset files:\", path)"
      ],
      "metadata": {
        "colab": {
          "base_uri": "https://localhost:8080/"
        },
        "id": "BxhhcwsfscYT",
        "outputId": "19a29898-8570-4d8e-9739-a5c4bfd96090"
      },
      "execution_count": 18,
      "outputs": [
        {
          "output_type": "stream",
          "name": "stdout",
          "text": [
            "Warning: Looks like you're using an outdated `kagglehub` version, please consider updating (latest version: 0.3.3)\n",
            "Path to dataset files: /root/.cache/kagglehub/datasets/kirahhayatdata/pakistan-demographic-and-population-data/versions/1\n"
          ]
        }
      ]
    },
    {
      "cell_type": "code",
      "source": [
        "# Iniciar uma Sessão Spark\n",
        "from pyspark.sql import SparkSession\n",
        "\n",
        "spark = SparkSession.builder \\\n",
        "    .appName(\"ExemploPySpark\") \\\n",
        "    .getOrCreate()"
      ],
      "metadata": {
        "id": "ZKDUH38tSMgE"
      },
      "execution_count": 85,
      "outputs": []
    },
    {
      "cell_type": "markdown",
      "source": [
        "**Comparando métodos do pandas x métodos do PySpark**\n",
        "\n",
        "Leitura de Dados:"
      ],
      "metadata": {
        "id": "PbTdKPDVTaDq"
      }
    },
    {
      "cell_type": "code",
      "source": [
        "import pandas as pd\n",
        "df_age = pd.read_csv('/root/.cache/kagglehub/datasets/kirahhayatdata/pakistan-demographic-and-population-data/versions/1/Age_Group_Gender_Distribution.csv')"
      ],
      "metadata": {
        "id": "1SR12OBgSX_w"
      },
      "execution_count": 31,
      "outputs": []
    },
    {
      "cell_type": "code",
      "source": [
        "print(df_age.head())"
      ],
      "metadata": {
        "colab": {
          "base_uri": "https://localhost:8080/"
        },
        "id": "7vYjahCwsvh3",
        "outputId": "04e44d3a-9cc3-4ca2-cb9f-daf98c1f8009"
      },
      "execution_count": 35,
      "outputs": [
        {
          "output_type": "stream",
          "name": "stdout",
          "text": [
            "   Unnamed: 0 Age Group         Male       Female        Total Sex ratio  \\\n",
            "0         NaN     Total  123,824,681  116,613,077  240,458,089    106.12   \n",
            "1         0.0     0 – 4     18744989     17726432     36471421     105.1   \n",
            "2         1.0     5 – 9     16566852     15705284     32272136     108.8   \n",
            "3         2.0   10 – 14     14971914     13817137     28790182     111.8   \n",
            "4         3.0   15 – 19     12581753     11569893     24154118     108.0   \n",
            "\n",
            "  Percent  \n",
            "0  100.0%  \n",
            "1   14.0%  \n",
            "2   14.5%  \n",
            "3   11.8%  \n",
            "4   10.3%  \n"
          ]
        }
      ]
    },
    {
      "cell_type": "code",
      "source": [
        "from pyspark.sql import SparkSession\n",
        "\n",
        "spark = SparkSession.builder.appName(\"Exemplo\").getOrCreate()\n",
        "\n",
        "# Leitura de um arquivo CSV\n",
        "df_pyspark = spark.read.csv('/root/.cache/kagglehub/datasets/kirahhayatdata/pakistan-demographic-and-population-data/versions/1/Age_Group_Gender_Distribution.csv', header=True, inferSchema=True)"
      ],
      "metadata": {
        "id": "KxkLRN6VTweh"
      },
      "execution_count": 36,
      "outputs": []
    },
    {
      "cell_type": "code",
      "source": [
        "#Nomes das colunas\n",
        "print(df_age.columns)"
      ],
      "metadata": {
        "colab": {
          "base_uri": "https://localhost:8080/"
        },
        "id": "p2JKtAI0s8AA",
        "outputId": "f1ab68b5-2845-4b7e-e8bc-f142639181a7"
      },
      "execution_count": 39,
      "outputs": [
        {
          "output_type": "stream",
          "name": "stdout",
          "text": [
            "Index(['Unnamed: 0', 'Age Group', 'Male', 'Female', 'Total', 'Sex ratio',\n",
            "       'Percent'],\n",
            "      dtype='object')\n"
          ]
        }
      ]
    },
    {
      "cell_type": "markdown",
      "source": [
        "Seleção de Colunas:"
      ],
      "metadata": {
        "id": "CyP1qKuVT7Fn"
      }
    },
    {
      "cell_type": "code",
      "source": [
        "# Seleciona colunas específicas - Pandas\n",
        "df_selecionado_pandas = df_age[['Male', 'Female','Total']]"
      ],
      "metadata": {
        "id": "W7G9niUIT3YF"
      },
      "execution_count": 41,
      "outputs": []
    },
    {
      "cell_type": "code",
      "source": [
        "# Seleciona colunas específicas - PySpark\n",
        "df_selecionado_spark = df_pyspark.select('Male', 'Female','Total')"
      ],
      "metadata": {
        "id": "9_ayFq__ULWC"
      },
      "execution_count": 42,
      "outputs": []
    },
    {
      "cell_type": "markdown",
      "source": [
        "Filtragem de Dados:"
      ],
      "metadata": {
        "id": "DLDFhVdBUy6M"
      }
    },
    {
      "cell_type": "code",
      "source": [
        "# Filtrar dados onde a faixa etária é '0 – 4' ou '5 – 9'\n",
        "filtered_df_age = df_age[df_age['Age Group'].isin(['0 – 4', '5 – 9'])]\n",
        "\n"
      ],
      "metadata": {
        "id": "NqYRN_ExU1O6"
      },
      "execution_count": 92,
      "outputs": []
    },
    {
      "cell_type": "code",
      "source": [
        "# Converter a coluna 'Male' para numérico, se necessário\n",
        "df_age['Male'] = pd.to_numeric(df_age['Male'], errors='coerce')\n",
        "\n",
        "# Filtrar dados onde a coluna 'Masculino' é maior que 15.000.000\n",
        "df_filtrado_spark = df_age[df_age['Male'] > 15000000]\n",
        "\n",
        "# Mostrar o DataFrame filtrado\n",
        "print(filtered_df_age)"
      ],
      "metadata": {
        "id": "Qq_YKeXNWnNn",
        "colab": {
          "base_uri": "https://localhost:8080/"
        },
        "outputId": "d1a60ee1-e647-498b-fa1a-d44530a03f73"
      },
      "execution_count": 82,
      "outputs": [
        {
          "output_type": "stream",
          "name": "stdout",
          "text": [
            "    Unnamed: 0 Age Group        Male    Female       Total Sex ratio Percent\n",
            "1          0.0     0 – 4  18744989.0  17726432    36471421     105.1   14.0%\n",
            "2          1.0     5 – 9  16566852.0  15705284    32272136     108.8   14.5%\n",
            "18        17.0    0 – 14  43533720.0  40182776  83 716 496     108.3   40.3%\n",
            "19        18.0   15 – 64  58778374.0  57478712   116257086     102.3   56.0%\n"
          ]
        }
      ]
    },
    {
      "cell_type": "markdown",
      "source": [
        "Agregações:"
      ],
      "metadata": {
        "id": "Fvn8Qfs-W0KX"
      }
    },
    {
      "cell_type": "code",
      "source": [
        "# Calcular a média da coluna 'Masculino' agrupada pela coluna 'Faixa etária'\n",
        "df_agregado_age = df_age.groupby('Age Group')['Male'].mean().reset_index()\n",
        "\n",
        "# Mostrar o DataFrame agregado\n",
        "print(df_agregado_age)\n"
      ],
      "metadata": {
        "id": "5QydNn3yWzkK",
        "colab": {
          "base_uri": "https://localhost:8080/"
        },
        "outputId": "223b8201-2258-4d9e-bc60-c9dd6c57fce3"
      },
      "execution_count": 66,
      "outputs": [
        {
          "output_type": "stream",
          "name": "stdout",
          "text": [
            "     Age Group        Male\n",
            "0       0 – 14  43533720.0\n",
            "1        0 – 4  18744989.0\n",
            "2      10 – 14  14971914.0\n",
            "3      15 – 19  12581753.0\n",
            "4      15 – 64  58778374.0\n",
            "5      20 – 24  10323755.0\n",
            "6      25 – 29   8946770.0\n",
            "7      30 – 34   7730953.0\n",
            "8      35 – 39   7313967.0\n",
            "9      40 – 44   6471820.0\n",
            "10     45 – 49   5095175.0\n",
            "11       5 – 9  16566852.0\n",
            "12     50 – 54   4219234.0\n",
            "13     55 – 59   3455455.0\n",
            "14     60 – 64   2247341.0\n",
            "15     65 – 69   1557733.0\n",
            "16         65+   4027900.0\n",
            "17     70 – 74   1131916.0\n",
            "18  75 or more   1338251.0\n",
            "19   Age Group         NaN\n",
            "20       Total         NaN\n"
          ]
        }
      ]
    },
    {
      "cell_type": "code",
      "source": [
        "# Calcula a média de coluna1 agrupada por coluna2 - PySpark\n",
        "from pyspark.sql.functions import avg\n",
        "\n",
        "df_age_spark = spark.createDataFrame(df_age)\n",
        "\n",
        "# Calcular a média da coluna 'Masculino' agrupada pela coluna 'Faixa etária'\n",
        "df_agregado_age_spark = df_age_spark.groupBy(\"Age Group\").agg(avg(\"Male\").alias(\"media_masculino\"))\n",
        "\n",
        "# Mostrar o DataFrame agregado\n",
        "df_agregado_age_spark.show()\n"
      ],
      "metadata": {
        "id": "OeiAonaAW5Cy",
        "colab": {
          "base_uri": "https://localhost:8080/"
        },
        "outputId": "01eddacd-a4b8-4737-8b0c-f37816df27ec"
      },
      "execution_count": 75,
      "outputs": [
        {
          "output_type": "stream",
          "name": "stdout",
          "text": [
            "+---------+---------------+\n",
            "|Age Group|media_masculino|\n",
            "+---------+---------------+\n",
            "|    Total|            NaN|\n",
            "|  40 – 44|      6471820.0|\n",
            "|  10 – 14|    1.4971914E7|\n",
            "|  25 – 29|      8946770.0|\n",
            "|    0 – 4|    1.8744989E7|\n",
            "|  30 – 34|      7730953.0|\n",
            "|  15 – 19|    1.2581753E7|\n",
            "|    5 – 9|    1.6566852E7|\n",
            "|  20 – 24|    1.0323755E7|\n",
            "|  35 – 39|      7313967.0|\n",
            "|  55 – 59|      3455455.0|\n",
            "|  15 – 64|    5.8778374E7|\n",
            "|  45 – 49|      5095175.0|\n",
            "|  60 – 64|      2247341.0|\n",
            "|  70 – 74|      1131916.0|\n",
            "|      65+|      4027900.0|\n",
            "|Age Group|            NaN|\n",
            "|  50 – 54|      4219234.0|\n",
            "|   0 – 14|     4.353372E7|\n",
            "|  65 – 69|      1557733.0|\n",
            "+---------+---------------+\n",
            "only showing top 20 rows\n",
            "\n"
          ]
        }
      ]
    },
    {
      "cell_type": "code",
      "source": [
        "df_selecionado_spark.show(5)\n",
        "df_agregado_age_spark.show(5)"
      ],
      "metadata": {
        "colab": {
          "base_uri": "https://localhost:8080/"
        },
        "id": "tjTgUhdMuBqf",
        "outputId": "9c402a80-758b-4e51-e743-4a16a7ac8f21"
      },
      "execution_count": 91,
      "outputs": [
        {
          "output_type": "stream",
          "name": "stdout",
          "text": [
            "+-----------+-----------+-----------+\n",
            "|       Male|     Female|      Total|\n",
            "+-----------+-----------+-----------+\n",
            "|123,824,681|116,613,077|240,458,089|\n",
            "|   18744989|   17726432|   36471421|\n",
            "|   16566852|   15705284|   32272136|\n",
            "|   14971914|   13817137|   28790182|\n",
            "|   12581753|   11569893|   24154118|\n",
            "+-----------+-----------+-----------+\n",
            "only showing top 5 rows\n",
            "\n",
            "+---------+---------------+\n",
            "|Age Group|media_masculino|\n",
            "+---------+---------------+\n",
            "|    Total|            NaN|\n",
            "|  40 – 44|      6471820.0|\n",
            "|  10 – 14|    1.4971914E7|\n",
            "|  25 – 29|      8946770.0|\n",
            "|    0 – 4|    1.8744989E7|\n",
            "+---------+---------------+\n",
            "only showing top 5 rows\n",
            "\n"
          ]
        }
      ]
    },
    {
      "cell_type": "markdown",
      "source": [
        "Junções (Joins):"
      ],
      "metadata": {
        "id": "gMjrtx18F3gy"
      }
    },
    {
      "cell_type": "code",
      "source": [
        "\n",
        "\n",
        "# Carregar os dois DataFrames\n",
        "df1 = pd.read_csv(\"/root/.cache/kagglehub/datasets/kirahhayatdata/pakistan-demographic-and-population-data/versions/1/Religion_Population_Distribution.csv\")\n",
        "df2 = pd.read_csv(\"/root/.cache/kagglehub/datasets/kirahhayatdata/pakistan-demographic-and-population-data/versions/1/Population_Age_Distribution.csv\")\n",
        "\n",
        "\n",
        "# Realizar a junção dos dois DataFrames com base na coluna comum\n",
        "df_juncao = pd.merge(df1, df2, on=\"Population\", how=\"left\")\n",
        "\n",
        "# Mostrar as primeiras linhas do DataFrame resultante\n",
        "print(df_juncao.head())\n"
      ],
      "metadata": {
        "id": "kdBiDsnpF6AM",
        "colab": {
          "base_uri": "https://localhost:8080/"
        },
        "outputId": "671e9d09-8626-4e2c-e2d1-ca1434cb310a"
      },
      "execution_count": 102,
      "outputs": [
        {
          "output_type": "stream",
          "name": "stdout",
          "text": [
            "   Unnamed: 0_x          Religion  Population  Unnamed: 0_y  Year  \\\n",
            "0             0           Muslims   231686709           NaN   NaN   \n",
            "1             1            Hindus     3867729           NaN   NaN   \n",
            "2             2        Christians     3300788           NaN   NaN   \n",
            "3             3  Scheduled Castes     1349487           NaN   NaN   \n",
            "4             4         Ahmadiyya      162684           NaN   NaN   \n",
            "\n",
            "  % Population aged 0 to 14 % Population aged 15 to 64  \\\n",
            "0                       NaN                        NaN   \n",
            "1                       NaN                        NaN   \n",
            "2                       NaN                        NaN   \n",
            "3                       NaN                        NaN   \n",
            "4                       NaN                        NaN   \n",
            "\n",
            "  % Population aged 65 or more  \n",
            "0                          NaN  \n",
            "1                          NaN  \n",
            "2                          NaN  \n",
            "3                          NaN  \n",
            "4                          NaN  \n"
          ]
        }
      ]
    },
    {
      "cell_type": "code",
      "source": [
        "# Junção de dois DataFrames PySpark\n",
        "df1 = spark.read.csv(\"/root/.cache/kagglehub/datasets/kirahhayatdata/pakistan-demographic-and-population-data/versions/1/Religion_Population_Distribution.csv\", header=True, inferSchema=True)\n",
        "df2 = spark.read.csv(\"/root/.cache/kagglehub/datasets/kirahhayatdata/pakistan-demographic-and-population-data/versions/1/Population_Age_Distribution.csv\", header=True, inferSchema=True)\n",
        "df_juncao = df1.join(df2, on=\"Population\", how=\"left\")"
      ],
      "metadata": {
        "id": "_p6-Ad3MF9PX"
      },
      "execution_count": 103,
      "outputs": []
    },
    {
      "cell_type": "markdown",
      "source": [
        "Criação de Novas Colunas:"
      ],
      "metadata": {
        "id": "KyHq7N4UGCT9"
      }
    },
    {
      "cell_type": "code",
      "source": [
        "# Converter as colunas 'Masculino' e 'Feminino' para numérico, se necessário\n",
        "df_age['Male'] = pd.to_numeric(df_age['Male'], errors='coerce')\n",
        "df_age['Female'] = pd.to_numeric(df_age['Female'], errors='coerce')\n",
        "\n",
        "# Criar uma nova coluna 'nova_coluna' como a soma das colunas 'Masculino' e 'Feminino'\n",
        "df_age['nova_coluna'] = df_age['Male'] + df_age['Female']"
      ],
      "metadata": {
        "id": "F-JSPVrfGEIz"
      },
      "execution_count": 108,
      "outputs": []
    },
    {
      "cell_type": "code",
      "source": [
        "from pyspark.sql.functions import col\n",
        "\n",
        "# Cria uma nova coluna 'nova_coluna' como a soma de 'coluna1' e 'coluna2'\n",
        "df_pyspark = df_pyspark.withColumn(\"nova_coluna\", col(\"Male\") + col(\"Female\"))\n"
      ],
      "metadata": {
        "id": "YtKNc4XfGGQp"
      },
      "execution_count": 109,
      "outputs": []
    },
    {
      "cell_type": "markdown",
      "source": [
        "Ordenação de Dados:"
      ],
      "metadata": {
        "id": "il5SISWCGK7O"
      }
    },
    {
      "cell_type": "code",
      "source": [
        "# Ordena o DataFrame pelo 'coluna1' em ordem descendente\n",
        "df_pandas_ordenado = df_age.sort_values(by='Male', ascending=False)"
      ],
      "metadata": {
        "id": "a9vHllFkGJol"
      },
      "execution_count": 110,
      "outputs": []
    },
    {
      "cell_type": "code",
      "source": [
        "# Ordena o DataFrame pelo 'coluna1' em ordem descendente\n",
        "df_pyspark_ordenado = df_pyspark.orderBy(df_pyspark.coluna1.desc())"
      ],
      "metadata": {
        "id": "A8CU8GXLGNbD"
      },
      "execution_count": null,
      "outputs": []
    }
  ]
}