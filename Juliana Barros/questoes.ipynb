{
 "cells": [
  {
   "cell_type": "code",
   "execution_count": null,
   "metadata": {
    "vscode": {
     "languageId": "plaintext"
    }
   },
   "outputs": [],
   "source": [
    "# 1. Imprima \"Hello, World!\" no console.\n",
    "print(\"Hello, World!\")"
   ]
  },
  {
   "cell_type": "code",
   "execution_count": null,
   "metadata": {
    "vscode": {
     "languageId": "plaintext"
    }
   },
   "outputs": [],
   "source": [
    "# 2. Crie uma variável x com valor 10 e imprima seu valor.\n",
    "x = 10\n",
    "print(x)"
   ]
  },
  {
   "cell_type": "code",
   "execution_count": null,
   "metadata": {
    "vscode": {
     "languageId": "plaintext"
    }
   },
   "outputs": [],
   "source": [
    "# 3. Some dois números e exiba o resultado.\n",
    "num1 = 15\n",
    "num2 = 7\n",
    "print(num1 + num2)"
   ]
  },
  {
   "cell_type": "code",
   "execution_count": null,
   "metadata": {
    "vscode": {
     "languageId": "plaintext"
    }
   },
   "outputs": [],
   "source": [
    "# 4. Verifique se um número é par ou ímpar.\n",
    "numero = 13\n",
    "if numero % 2 == 0:\n",
    "    print(f\"{numero} é par.\")\n",
    "else:\n",
    "    print(f\"{numero} é ímpar.\")"
   ]
  },
  {
   "cell_type": "code",
   "execution_count": null,
   "metadata": {
    "vscode": {
     "languageId": "plaintext"
    }
   },
   "outputs": [],
   "source": [
    "# 5. Crie uma função que receba dois números e retorne a soma deles.\n",
    "def soma(a, b):\n",
    "    return a + b\n",
    "\n",
    "\n",
    "print(soma(8, 12))"
   ]
  },
  {
   "cell_type": "code",
   "execution_count": null,
   "metadata": {
    "vscode": {
     "languageId": "plaintext"
    }
   },
   "outputs": [],
   "source": [
    "# 6. Crie uma lista com os números de 1 a 5 e imprima-a.\n",
    "lista = [1, 2, 3, 4, 5]\n",
    "print(lista)"
   ]
  },
  {
   "cell_type": "code",
   "execution_count": null,
   "metadata": {
    "vscode": {
     "languageId": "plaintext"
    }
   },
   "outputs": [],
   "source": [
    "# 7. Adicione o número 6 à lista criada na questão anterior.\n",
    "lista.append(6)\n",
    "print(lista)"
   ]
  },
  {
   "cell_type": "code",
   "execution_count": null,
   "metadata": {
    "vscode": {
     "languageId": "plaintext"
    }
   },
   "outputs": [],
   "source": [
    "# 8. Remova o número 3 da lista.\n",
    "lista.remove(3)\n",
    "print(lista)"
   ]
  },
  {
   "cell_type": "code",
   "execution_count": null,
   "metadata": {
    "vscode": {
     "languageId": "plaintext"
    }
   },
   "outputs": [],
   "source": [
    "# 9. Acesse o terceiro elemento da lista.\n",
    "print(lista[2])"
   ]
  },
  {
   "cell_type": "code",
   "execution_count": null,
   "metadata": {
    "vscode": {
     "languageId": "plaintext"
    }
   },
   "outputs": [],
   "source": [
    "# 10. Imprima o tamanho da lista.\n",
    "print(len(lista))\n"
   ]
  },
  {
   "cell_type": "code",
   "execution_count": null,
   "metadata": {
    "vscode": {
     "languageId": "plaintext"
    }
   },
   "outputs": [],
   "source": [
    "# 11. Crie um dicionário com informações de um carro (marca, modelo, ano).\n",
    "carro = {\"marca\": \"Fiat\", \"modelo\": \"Punto\", \"ano\": 2022}\n",
    "print(carro)"
   ]
  },
  {
   "cell_type": "code",
   "execution_count": null,
   "metadata": {
    "vscode": {
     "languageId": "plaintext"
    }
   },
   "outputs": [],
   "source": [
    "# 12. Acesse o valor associado à chave \"marca\" no dicionário.\n",
    "print(carro[\"marca\"])"
   ]
  },
  {
   "cell_type": "code",
   "execution_count": null,
   "metadata": {
    "vscode": {
     "languageId": "plaintext"
    }
   },
   "outputs": [],
   "source": [
    "# 13. Adicione uma nova chave \"cor\" com valor \"preto\" ao dicionário.\n",
    "carro[\"cor\"] = \"preto\"\n",
    "print(carro)"
   ]
  },
  {
   "cell_type": "code",
   "execution_count": null,
   "metadata": {
    "vscode": {
     "languageId": "plaintext"
    }
   },
   "outputs": [],
   "source": [
    "# 14. Verifique se a chave \"modelo\" existe no dicionário.\n",
    "print(\"modelo\" in carro)"
   ]
  },
  {
   "cell_type": "code",
   "execution_count": null,
   "metadata": {
    "vscode": {
     "languageId": "plaintext"
    }
   },
   "outputs": [],
   "source": [
    "# 15. Itere sobre as chaves do dicionário e imprima cada uma delas.\n",
    "for chave in carro:\n",
    "    print(chave)"
   ]
  },
  {
   "cell_type": "code",
   "execution_count": null,
   "metadata": {
    "vscode": {
     "languageId": "plaintext"
    }
   },
   "outputs": [],
   "source": [
    "# 16. Itere sobre os valores do dicionário e imprima cada um.\n",
    "for valor in carro.values():\n",
    "    print(valor)"
   ]
  },
  {
   "cell_type": "code",
   "execution_count": null,
   "metadata": {
    "vscode": {
     "languageId": "plaintext"
    }
   },
   "outputs": [],
   "source": [
    "\n",
    "# 17. Crie uma função que receba uma lista e retorne a soma dos elementos.\n",
    "def soma_lista(lista):\n",
    "    return sum(lista)\n",
    "\n",
    "\n",
    "print(soma_lista([4, 5, 6, 7]))"
   ]
  },
  {
   "cell_type": "code",
   "execution_count": null,
   "metadata": {
    "vscode": {
     "languageId": "plaintext"
    }
   },
   "outputs": [],
   "source": [
    "# 18. Crie uma função que receba um dicionário e retorne todas as suas chaves.\n",
    "def chaves_dicionario(dicionario):\n",
    "    return dicionario.keys()\n",
    "\n",
    "\n",
    "print(chaves_dicionario(carro))"
   ]
  },
  {
   "cell_type": "code",
   "execution_count": null,
   "metadata": {
    "vscode": {
     "languageId": "plaintext"
    }
   },
   "outputs": [],
   "source": [
    "# 19. Crie uma função que receba um dicionário e imprima chave e valor em linhas separadas.\n",
    "def imprime_dicionario(dicionario):\n",
    "    for chave, valor in dicionario.items():\n",
    "        print(f\"Chave: {chave}, Valor: {valor}\")\n",
    "\n",
    "\n",
    "imprime_dicionario(carro)\n"
   ]
  },
  {
   "cell_type": "code",
   "execution_count": null,
   "metadata": {
    "vscode": {
     "languageId": "plaintext"
    }
   },
   "outputs": [],
   "source": [
    "# 20. Crie uma classe chamada Pessoa com atributos nome e idade, e um método que imprima esses dados.\n",
    "class Pessoa:\n",
    "    def __init__(self, nome, idade):\n",
    "        self.nome = nome\n",
    "        self.idade = idade\n",
    "\n",
    "\n",
    "    def imprimir_dados(self):\n",
    "        print(f\"Nome: {self.nome}, Idade: {self.idade}\")\n",
    "\n",
    "\n",
    "pessoa1 = Pessoa(\"Juliana\", 20)\n",
    "pessoa1.imprimir_dados()"
   ]
  }
 ],
 "metadata": {
  "language_info": {
   "name": "python"
  }
 },
 "nbformat": 4,
 "nbformat_minor": 2
}
